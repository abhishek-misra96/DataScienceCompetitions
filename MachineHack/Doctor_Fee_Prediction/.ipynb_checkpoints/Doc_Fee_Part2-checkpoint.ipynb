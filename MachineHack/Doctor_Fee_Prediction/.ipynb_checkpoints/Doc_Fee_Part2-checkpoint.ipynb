{
 "cells": [
  {
   "cell_type": "markdown",
   "metadata": {},
   "source": [
    "# Predict Doctor Consultation fee MachineHack(2019 Active Competition)"
   ]
  },
  {
   "cell_type": "markdown",
   "metadata": {},
   "source": [
    "### Competition Link: https://www.machinehack.com/course/predict-a-doctors-consultation-fees-hackathon/"
   ]
  },
  {
   "cell_type": "markdown",
   "metadata": {},
   "source": [
    "### Problem Overview: We have all been in situation where we go to a doctor in emergency and find that the consultation fees are too high. As a data scientist we all should do better. What if you have data that records important details about a doctor and you get to build a model to predict the doctor’s consulting fee.? This is the hackathon that lets you do that."
   ]
  },
  {
   "cell_type": "markdown",
   "metadata": {},
   "source": [
    "### Solution Part 2: Frequency Encoding Data, LGBM with 5-k fold validation!"
   ]
  },
  {
   "cell_type": "code",
   "execution_count": 1,
   "metadata": {},
   "outputs": [],
   "source": [
    "from fastai.imports import *\n",
    "from fastai.structured import *\n",
    "\n",
    "from pandas_summary import DataFrameSummary\n",
    "from sklearn.ensemble import RandomForestRegressor, RandomForestClassifier\n",
    "from IPython.display import display\n",
    "\n",
    "from sklearn import metrics\n",
    "import lightgbm as lgb\n",
    "from sklearn.model_selection import KFold\n",
    "from sklearn import preprocessing, model_selection, metrics"
   ]
  },
  {
   "cell_type": "code",
   "execution_count": 26,
   "metadata": {},
   "outputs": [],
   "source": [
    "train  = pd.read_feather('feather/my_train')"
   ]
  },
  {
   "cell_type": "code",
   "execution_count": 27,
   "metadata": {},
   "outputs": [],
   "source": [
    "test  = pd.read_feather('feather/my_test')"
   ]
  },
  {
   "cell_type": "code",
   "execution_count": 4,
   "metadata": {},
   "outputs": [
    {
     "data": {
      "text/plain": [
       "((5961, 11), (1987, 10))"
      ]
     },
     "execution_count": 4,
     "metadata": {},
     "output_type": "execute_result"
    }
   ],
   "source": [
    "train.shape,test.shape"
   ]
  },
  {
   "cell_type": "code",
   "execution_count": 5,
   "metadata": {},
   "outputs": [
    {
     "name": "stdout",
     "output_type": "stream",
     "text": [
      "<class 'pandas.core.frame.DataFrame'>\n",
      "RangeIndex: 5961 entries, 0 to 5960\n",
      "Data columns (total 11 columns):\n",
      "ql1           5931 non-null object\n",
      "ql2           3728 non-null object\n",
      "ql3           1173 non-null object\n",
      "Profile       5961 non-null object\n",
      "locality      5936 non-null object\n",
      "city          5935 non-null object\n",
      "exp           5961 non-null float64\n",
      "ratings       5961 non-null float64\n",
      "no_reviews    5961 non-null float64\n",
      "pop           5961 non-null float64\n",
      "Fees          5961 non-null int64\n",
      "dtypes: float64(4), int64(1), object(6)\n",
      "memory usage: 512.4+ KB\n"
     ]
    }
   ],
   "source": [
    "train.info()"
   ]
  },
  {
   "cell_type": "code",
   "execution_count": 13,
   "metadata": {},
   "outputs": [
    {
     "name": "stdout",
     "output_type": "stream",
     "text": [
      "<class 'pandas.core.frame.DataFrame'>\n",
      "RangeIndex: 1987 entries, 0 to 1986\n",
      "Data columns (total 10 columns):\n",
      "ql1           1980 non-null object\n",
      "ql2           1287 non-null object\n",
      "ql3           402 non-null object\n",
      "Profile       1987 non-null object\n",
      "locality      1981 non-null object\n",
      "city          1981 non-null object\n",
      "exp           1987 non-null float64\n",
      "ratings       1987 non-null float64\n",
      "no_reviews    1987 non-null float64\n",
      "pop           1987 non-null float64\n",
      "dtypes: float64(4), object(6)\n",
      "memory usage: 155.3+ KB\n"
     ]
    }
   ],
   "source": [
    "test.info()"
   ]
  },
  {
   "cell_type": "code",
   "execution_count": 28,
   "metadata": {},
   "outputs": [],
   "source": [
    "#Changing object into categories\n",
    "#Changing object into categories\n",
    "train_cats(train)\n",
    "apply_cats(df=test, trn=train)"
   ]
  },
  {
   "cell_type": "code",
   "execution_count": 7,
   "metadata": {},
   "outputs": [
    {
     "name": "stdout",
     "output_type": "stream",
     "text": [
      "<class 'pandas.core.frame.DataFrame'>\n",
      "RangeIndex: 5961 entries, 0 to 5960\n",
      "Data columns (total 11 columns):\n",
      "ql1           5931 non-null category\n",
      "ql2           3728 non-null category\n",
      "ql3           1173 non-null category\n",
      "Profile       5961 non-null category\n",
      "locality      5936 non-null category\n",
      "city          5935 non-null category\n",
      "exp           5961 non-null float64\n",
      "ratings       5961 non-null float64\n",
      "no_reviews    5961 non-null float64\n",
      "pop           5961 non-null float64\n",
      "Fees          5961 non-null int64\n",
      "dtypes: category(6), float64(4), int64(1)\n",
      "memory usage: 347.7 KB\n",
      "<class 'pandas.core.frame.DataFrame'>\n",
      "RangeIndex: 1987 entries, 0 to 1986\n",
      "Data columns (total 10 columns):\n",
      "ql1           1967 non-null category\n",
      "ql2           1273 non-null category\n",
      "ql3           389 non-null category\n",
      "Profile       1987 non-null category\n",
      "locality      1898 non-null category\n",
      "city          1981 non-null category\n",
      "exp           1987 non-null float64\n",
      "ratings       1987 non-null float64\n",
      "no_reviews    1987 non-null float64\n",
      "pop           1987 non-null float64\n",
      "dtypes: category(6), float64(4)\n",
      "memory usage: 142.0 KB\n"
     ]
    }
   ],
   "source": [
    "train.info();test.info()"
   ]
  },
  {
   "cell_type": "code",
   "execution_count": 8,
   "metadata": {},
   "outputs": [],
   "source": [
    "#Lets filter out the categorical variables!"
   ]
  },
  {
   "cell_type": "code",
   "execution_count": 29,
   "metadata": {},
   "outputs": [],
   "source": [
    "my_d = dict(train.dtypes)"
   ]
  },
  {
   "cell_type": "code",
   "execution_count": 30,
   "metadata": {},
   "outputs": [],
   "source": [
    "numerics = ['int8', 'int16', 'int32', 'int64', 'float16', 'float32', 'float64']"
   ]
  },
  {
   "cell_type": "code",
   "execution_count": 31,
   "metadata": {},
   "outputs": [
    {
     "data": {
      "text/plain": [
       "['ql1', 'ql2', 'ql3', 'Profile', 'locality', 'city']"
      ]
     },
     "execution_count": 31,
     "metadata": {},
     "output_type": "execute_result"
    }
   ],
   "source": [
    "categorical_columns = [c for c,v in my_d.items() if v not in numerics]\n",
    "categorical_columns"
   ]
  },
  {
   "cell_type": "markdown",
   "metadata": {},
   "source": [
    "### Frequency_encoding locality, because of its high cardinality!"
   ]
  },
  {
   "cell_type": "code",
   "execution_count": 32,
   "metadata": {},
   "outputs": [
    {
     "name": "stdout",
     "output_type": "stream",
     "text": [
      "100%|██████████| 1/1 [00:00<00:00, 39.84it/s]\n"
     ]
    }
   ],
   "source": [
    "#Top variables with most cardinality(high number of unique values, 1000+)\n",
    "frequency_encoded_variables = [\n",
    "    'locality']\n",
    "\n",
    "#Using frequency/Target  Encoding, learnt this technique from a kaggle kernel\n",
    "def frequency_encoding(variable):\n",
    "    t = pd.concat([train[variable], test[variable]]).value_counts().reset_index()\n",
    "    t = t.reset_index()\n",
    "    t.loc[t[variable] == 1, 'level_0'] = np.nan\n",
    "    t.set_index('index', inplace=True)\n",
    "    max_label = t['level_0'].max() + 1\n",
    "    t.fillna(max_label, inplace=True)\n",
    "    return t.to_dict()['level_0']\n",
    "\n",
    "for variable in tqdm(frequency_encoded_variables):\n",
    "    freq_enc_dict = frequency_encoding(variable)\n",
    "    train[variable] = train[variable].map(lambda x: freq_enc_dict.get(x, np.nan))\n",
    "    test[variable] = test[variable].map(lambda x: freq_enc_dict.get(x, np.nan))\n",
    "    categorical_columns.remove(variable)"
   ]
  },
  {
   "cell_type": "markdown",
   "metadata": {},
   "source": [
    "### Binary Encode the other categorical variables!"
   ]
  },
  {
   "cell_type": "code",
   "execution_count": 33,
   "metadata": {},
   "outputs": [
    {
     "name": "stdout",
     "output_type": "stream",
     "text": [
      "100%|██████████| 5/5 [00:00<00:00, 512.84it/s]\n",
      "100%|██████████| 5/5 [00:00<00:00, 94.50it/s]\n"
     ]
    }
   ],
   "source": [
    "\n",
    "indexer = {}\n",
    "for col in tqdm(categorical_columns):\n",
    "    _, indexer[col] = pd.factorize(train[col])\n",
    "    \n",
    "for col in tqdm(categorical_columns):\n",
    "    train[col] = indexer[col].get_indexer(train[col])+1 #Now nan will be 0!\n",
    "    test[col] = indexer[col].get_indexer(test[col])+1"
   ]
  },
  {
   "cell_type": "code",
   "execution_count": 34,
   "metadata": {},
   "outputs": [],
   "source": [
    "y = train['Fees']"
   ]
  },
  {
   "cell_type": "code",
   "execution_count": 35,
   "metadata": {},
   "outputs": [],
   "source": [
    "train.drop('Fees',axis=1,inplace=True)"
   ]
  },
  {
   "cell_type": "code",
   "execution_count": 36,
   "metadata": {},
   "outputs": [
    {
     "data": {
      "text/plain": [
       "((5961, 10), (1987, 10))"
      ]
     },
     "execution_count": 36,
     "metadata": {},
     "output_type": "execute_result"
    }
   ],
   "source": [
    "train.shape,test.shape"
   ]
  },
  {
   "cell_type": "code",
   "execution_count": 18,
   "metadata": {},
   "outputs": [
    {
     "data": {
      "text/html": [
       "<div>\n",
       "<style scoped>\n",
       "    .dataframe tbody tr th:only-of-type {\n",
       "        vertical-align: middle;\n",
       "    }\n",
       "\n",
       "    .dataframe tbody tr th {\n",
       "        vertical-align: top;\n",
       "    }\n",
       "\n",
       "    .dataframe thead th {\n",
       "        text-align: right;\n",
       "    }\n",
       "</style>\n",
       "<table border=\"1\" class=\"dataframe\">\n",
       "  <thead>\n",
       "    <tr style=\"text-align: right;\">\n",
       "      <th></th>\n",
       "      <th>ql1</th>\n",
       "      <th>ql2</th>\n",
       "      <th>ql3</th>\n",
       "      <th>Profile</th>\n",
       "      <th>locality</th>\n",
       "      <th>city</th>\n",
       "      <th>exp</th>\n",
       "      <th>ratings</th>\n",
       "      <th>no_reviews</th>\n",
       "      <th>pop</th>\n",
       "    </tr>\n",
       "  </thead>\n",
       "  <tbody>\n",
       "    <tr>\n",
       "      <th>0</th>\n",
       "      <td>1</td>\n",
       "      <td>1</td>\n",
       "      <td>1</td>\n",
       "      <td>1</td>\n",
       "      <td>129.0</td>\n",
       "      <td>1</td>\n",
       "      <td>24.0</td>\n",
       "      <td>100.0</td>\n",
       "      <td>16.0</td>\n",
       "      <td>7.377759</td>\n",
       "    </tr>\n",
       "    <tr>\n",
       "      <th>1</th>\n",
       "      <td>2</td>\n",
       "      <td>1</td>\n",
       "      <td>1</td>\n",
       "      <td>2</td>\n",
       "      <td>5.0</td>\n",
       "      <td>2</td>\n",
       "      <td>12.0</td>\n",
       "      <td>98.0</td>\n",
       "      <td>76.0</td>\n",
       "      <td>8.915701</td>\n",
       "    </tr>\n",
       "    <tr>\n",
       "      <th>2</th>\n",
       "      <td>3</td>\n",
       "      <td>2</td>\n",
       "      <td>1</td>\n",
       "      <td>3</td>\n",
       "      <td>154.0</td>\n",
       "      <td>2</td>\n",
       "      <td>19.0</td>\n",
       "      <td>90.0</td>\n",
       "      <td>14.0</td>\n",
       "      <td>7.138867</td>\n",
       "    </tr>\n",
       "  </tbody>\n",
       "</table>\n",
       "</div>"
      ],
      "text/plain": [
       "   ql1  ql2  ql3  Profile  locality  city   exp  ratings  no_reviews       pop\n",
       "0    1    1    1        1     129.0     1  24.0    100.0        16.0  7.377759\n",
       "1    2    1    1        2       5.0     2  12.0     98.0        76.0  8.915701\n",
       "2    3    2    1        3     154.0     2  19.0     90.0        14.0  7.138867"
      ]
     },
     "execution_count": 18,
     "metadata": {},
     "output_type": "execute_result"
    }
   ],
   "source": [
    "train.head(3)"
   ]
  },
  {
   "cell_type": "code",
   "execution_count": 19,
   "metadata": {},
   "outputs": [
    {
     "data": {
      "text/html": [
       "<div>\n",
       "<style scoped>\n",
       "    .dataframe tbody tr th:only-of-type {\n",
       "        vertical-align: middle;\n",
       "    }\n",
       "\n",
       "    .dataframe tbody tr th {\n",
       "        vertical-align: top;\n",
       "    }\n",
       "\n",
       "    .dataframe thead th {\n",
       "        text-align: right;\n",
       "    }\n",
       "</style>\n",
       "<table border=\"1\" class=\"dataframe\">\n",
       "  <thead>\n",
       "    <tr style=\"text-align: right;\">\n",
       "      <th></th>\n",
       "      <th>ql1</th>\n",
       "      <th>ql2</th>\n",
       "      <th>ql3</th>\n",
       "      <th>Profile</th>\n",
       "      <th>locality</th>\n",
       "      <th>city</th>\n",
       "      <th>exp</th>\n",
       "      <th>ratings</th>\n",
       "      <th>no_reviews</th>\n",
       "      <th>pop</th>\n",
       "    </tr>\n",
       "  </thead>\n",
       "  <tbody>\n",
       "    <tr>\n",
       "      <th>0</th>\n",
       "      <td>3</td>\n",
       "      <td>4</td>\n",
       "      <td>1</td>\n",
       "      <td>5</td>\n",
       "      <td>23.0</td>\n",
       "      <td>7</td>\n",
       "      <td>35.0</td>\n",
       "      <td>90.0</td>\n",
       "      <td>13.0</td>\n",
       "      <td>7.064759</td>\n",
       "    </tr>\n",
       "    <tr>\n",
       "      <th>1</th>\n",
       "      <td>3</td>\n",
       "      <td>7</td>\n",
       "      <td>1</td>\n",
       "      <td>3</td>\n",
       "      <td>188.0</td>\n",
       "      <td>5</td>\n",
       "      <td>31.0</td>\n",
       "      <td>90.0</td>\n",
       "      <td>13.0</td>\n",
       "      <td>7.064759</td>\n",
       "    </tr>\n",
       "    <tr>\n",
       "      <th>2</th>\n",
       "      <td>3</td>\n",
       "      <td>11</td>\n",
       "      <td>1</td>\n",
       "      <td>6</td>\n",
       "      <td>230.0</td>\n",
       "      <td>3</td>\n",
       "      <td>40.0</td>\n",
       "      <td>70.0</td>\n",
       "      <td>4.0</td>\n",
       "      <td>5.634790</td>\n",
       "    </tr>\n",
       "  </tbody>\n",
       "</table>\n",
       "</div>"
      ],
      "text/plain": [
       "   ql1  ql2  ql3  Profile  locality  city   exp  ratings  no_reviews       pop\n",
       "0    3    4    1        5      23.0     7  35.0     90.0        13.0  7.064759\n",
       "1    3    7    1        3     188.0     5  31.0     90.0        13.0  7.064759\n",
       "2    3   11    1        6     230.0     3  40.0     70.0         4.0  5.634790"
      ]
     },
     "execution_count": 19,
     "metadata": {},
     "output_type": "execute_result"
    }
   ],
   "source": [
    "test.head(3)"
   ]
  },
  {
   "cell_type": "code",
   "execution_count": 37,
   "metadata": {},
   "outputs": [],
   "source": [
    "categorical_columns = ['ql1', 'ql2', 'ql3','locality', 'Profile', 'city']"
   ]
  },
  {
   "cell_type": "markdown",
   "metadata": {},
   "source": [
    "### Training the LGBM model!"
   ]
  },
  {
   "cell_type": "code",
   "execution_count": 38,
   "metadata": {},
   "outputs": [],
   "source": [
    "params = {'num_leaves': 25,\n",
    "         'min_data_in_leaf': 30, \n",
    "         'objective':'regression',\n",
    "         'max_depth': 20,\n",
    "         'learning_rate': 0.001,\n",
    "         \"boosting\": \"gbdt\",\n",
    "         \"metric\": 'rmse',\n",
    "         \"verbosity\": -1} "
   ]
  },
  {
   "cell_type": "code",
   "execution_count": null,
   "metadata": {},
   "outputs": [],
   "source": [
    "#Fine tuning LGBM"
   ]
  },
  {
   "cell_type": "code",
   "execution_count": null,
   "metadata": {},
   "outputs": [],
   "source": [
    "#Doing Stratified Cross-Fold Validation!"
   ]
  },
  {
   "cell_type": "code",
   "execution_count": 39,
   "metadata": {},
   "outputs": [],
   "source": [
    "target = y.copy()"
   ]
  },
  {
   "cell_type": "code",
   "execution_count": 40,
   "metadata": {},
   "outputs": [
    {
     "data": {
      "text/plain": [
       "((5961, 10), (5961,))"
      ]
     },
     "execution_count": 40,
     "metadata": {},
     "output_type": "execute_result"
    }
   ],
   "source": [
    "train.shape,target.shape"
   ]
  },
  {
   "cell_type": "code",
   "execution_count": 41,
   "metadata": {},
   "outputs": [],
   "source": [
    "from sklearn.metrics import mean_squared_error\n",
    "from math import sqrt"
   ]
  },
  {
   "cell_type": "markdown",
   "metadata": {},
   "source": [
    "### Performing a 10 fold validation, rather than 5 because of small size of dataset!"
   ]
  },
  {
   "cell_type": "code",
   "execution_count": 42,
   "metadata": {},
   "outputs": [
    {
     "name": "stdout",
     "output_type": "stream",
     "text": [
      "fold n°0\n",
      "Training until validation scores don't improve for 200 rounds.\n"
     ]
    },
    {
     "name": "stderr",
     "output_type": "stream",
     "text": [
      "/home/arsim/anaconda3/envs/fastai-cpu/lib/python3.6/site-packages/lightgbm/basic.py:1205: UserWarning: Using categorical_feature in Dataset.\n",
      "  warnings.warn('Using categorical_feature in Dataset.')\n",
      "/home/arsim/anaconda3/envs/fastai-cpu/lib/python3.6/site-packages/lightgbm/basic.py:762: UserWarning: categorical_feature in param dict is overridden.\n",
      "  warnings.warn('categorical_feature in param dict is overridden.')\n"
     ]
    },
    {
     "name": "stdout",
     "output_type": "stream",
     "text": [
      "[500]\ttraining's rmse: 174.501\tvalid_1's rmse: 168.532\n",
      "[1000]\ttraining's rmse: 165.069\tvalid_1's rmse: 161.21\n",
      "[1500]\ttraining's rmse: 159.008\tvalid_1's rmse: 156.985\n",
      "[2000]\ttraining's rmse: 154.89\tvalid_1's rmse: 154.384\n",
      "[2500]\ttraining's rmse: 151.959\tvalid_1's rmse: 153.005\n",
      "[3000]\ttraining's rmse: 149.67\tvalid_1's rmse: 152.283\n",
      "[3500]\ttraining's rmse: 147.827\tvalid_1's rmse: 151.923\n",
      "Early stopping, best iteration is:\n",
      "[3576]\ttraining's rmse: 147.561\tvalid_1's rmse: 151.911\n",
      "fold n°1\n",
      "Training until validation scores don't improve for 200 rounds.\n"
     ]
    },
    {
     "name": "stderr",
     "output_type": "stream",
     "text": [
      "/home/arsim/anaconda3/envs/fastai-cpu/lib/python3.6/site-packages/lightgbm/basic.py:1205: UserWarning: Using categorical_feature in Dataset.\n",
      "  warnings.warn('Using categorical_feature in Dataset.')\n",
      "/home/arsim/anaconda3/envs/fastai-cpu/lib/python3.6/site-packages/lightgbm/basic.py:762: UserWarning: categorical_feature in param dict is overridden.\n",
      "  warnings.warn('categorical_feature in param dict is overridden.')\n"
     ]
    },
    {
     "name": "stdout",
     "output_type": "stream",
     "text": [
      "[500]\ttraining's rmse: 174.01\tvalid_1's rmse: 172.313\n",
      "[1000]\ttraining's rmse: 164.529\tvalid_1's rmse: 164.58\n",
      "[1500]\ttraining's rmse: 158.757\tvalid_1's rmse: 159.852\n",
      "[2000]\ttraining's rmse: 155.002\tvalid_1's rmse: 157.359\n",
      "[2500]\ttraining's rmse: 152.142\tvalid_1's rmse: 155.747\n",
      "[3000]\ttraining's rmse: 149.858\tvalid_1's rmse: 154.795\n",
      "[3500]\ttraining's rmse: 147.89\tvalid_1's rmse: 154.15\n",
      "[4000]\ttraining's rmse: 146.086\tvalid_1's rmse: 153.528\n",
      "[4500]\ttraining's rmse: 144.399\tvalid_1's rmse: 153.302\n",
      "[5000]\ttraining's rmse: 142.881\tvalid_1's rmse: 153.05\n",
      "Early stopping, best iteration is:\n",
      "[5200]\ttraining's rmse: 142.292\tvalid_1's rmse: 153.029\n",
      "fold n°2\n",
      "Training until validation scores don't improve for 200 rounds.\n"
     ]
    },
    {
     "name": "stderr",
     "output_type": "stream",
     "text": [
      "/home/arsim/anaconda3/envs/fastai-cpu/lib/python3.6/site-packages/lightgbm/basic.py:1205: UserWarning: Using categorical_feature in Dataset.\n",
      "  warnings.warn('Using categorical_feature in Dataset.')\n",
      "/home/arsim/anaconda3/envs/fastai-cpu/lib/python3.6/site-packages/lightgbm/basic.py:762: UserWarning: categorical_feature in param dict is overridden.\n",
      "  warnings.warn('categorical_feature in param dict is overridden.')\n"
     ]
    },
    {
     "name": "stdout",
     "output_type": "stream",
     "text": [
      "[500]\ttraining's rmse: 173.02\tvalid_1's rmse: 177.202\n",
      "[1000]\ttraining's rmse: 163.476\tvalid_1's rmse: 169.967\n",
      "[1500]\ttraining's rmse: 157.642\tvalid_1's rmse: 165.911\n",
      "[2000]\ttraining's rmse: 153.616\tvalid_1's rmse: 163.912\n",
      "[2500]\ttraining's rmse: 150.662\tvalid_1's rmse: 162.777\n",
      "[3000]\ttraining's rmse: 148.321\tvalid_1's rmse: 162.096\n",
      "[3500]\ttraining's rmse: 146.374\tvalid_1's rmse: 161.594\n",
      "[4000]\ttraining's rmse: 144.622\tvalid_1's rmse: 161.332\n",
      "Early stopping, best iteration is:\n",
      "[3976]\ttraining's rmse: 144.708\tvalid_1's rmse: 161.327\n",
      "fold n°3\n",
      "Training until validation scores don't improve for 200 rounds.\n"
     ]
    },
    {
     "name": "stderr",
     "output_type": "stream",
     "text": [
      "/home/arsim/anaconda3/envs/fastai-cpu/lib/python3.6/site-packages/lightgbm/basic.py:1205: UserWarning: Using categorical_feature in Dataset.\n",
      "  warnings.warn('Using categorical_feature in Dataset.')\n",
      "/home/arsim/anaconda3/envs/fastai-cpu/lib/python3.6/site-packages/lightgbm/basic.py:762: UserWarning: categorical_feature in param dict is overridden.\n",
      "  warnings.warn('categorical_feature in param dict is overridden.')\n"
     ]
    },
    {
     "name": "stdout",
     "output_type": "stream",
     "text": [
      "[500]\ttraining's rmse: 172.458\tvalid_1's rmse: 186.321\n",
      "[1000]\ttraining's rmse: 162.704\tvalid_1's rmse: 181.225\n",
      "[1500]\ttraining's rmse: 156.652\tvalid_1's rmse: 178.936\n",
      "[2000]\ttraining's rmse: 152.57\tvalid_1's rmse: 177.987\n",
      "[2500]\ttraining's rmse: 149.659\tvalid_1's rmse: 177.414\n",
      "[3000]\ttraining's rmse: 147.412\tvalid_1's rmse: 177.164\n",
      "Early stopping, best iteration is:\n",
      "[3167]\ttraining's rmse: 146.737\tvalid_1's rmse: 177.058\n",
      "fold n°4\n",
      "Training until validation scores don't improve for 200 rounds.\n"
     ]
    },
    {
     "name": "stderr",
     "output_type": "stream",
     "text": [
      "/home/arsim/anaconda3/envs/fastai-cpu/lib/python3.6/site-packages/lightgbm/basic.py:1205: UserWarning: Using categorical_feature in Dataset.\n",
      "  warnings.warn('Using categorical_feature in Dataset.')\n",
      "/home/arsim/anaconda3/envs/fastai-cpu/lib/python3.6/site-packages/lightgbm/basic.py:762: UserWarning: categorical_feature in param dict is overridden.\n",
      "  warnings.warn('categorical_feature in param dict is overridden.')\n"
     ]
    },
    {
     "name": "stdout",
     "output_type": "stream",
     "text": [
      "[500]\ttraining's rmse: 173.471\tvalid_1's rmse: 178.67\n",
      "[1000]\ttraining's rmse: 163.927\tvalid_1's rmse: 171.678\n",
      "[1500]\ttraining's rmse: 157.914\tvalid_1's rmse: 168.375\n",
      "[2000]\ttraining's rmse: 153.89\tvalid_1's rmse: 167.114\n",
      "[2500]\ttraining's rmse: 150.951\tvalid_1's rmse: 166.545\n",
      "[3000]\ttraining's rmse: 148.639\tvalid_1's rmse: 166.212\n",
      "[3500]\ttraining's rmse: 146.682\tvalid_1's rmse: 165.916\n",
      "[4000]\ttraining's rmse: 144.956\tvalid_1's rmse: 165.781\n",
      "Early stopping, best iteration is:\n",
      "[3905]\ttraining's rmse: 145.271\tvalid_1's rmse: 165.733\n",
      "fold n°5\n",
      "Training until validation scores don't improve for 200 rounds.\n"
     ]
    },
    {
     "name": "stderr",
     "output_type": "stream",
     "text": [
      "/home/arsim/anaconda3/envs/fastai-cpu/lib/python3.6/site-packages/lightgbm/basic.py:1205: UserWarning: Using categorical_feature in Dataset.\n",
      "  warnings.warn('Using categorical_feature in Dataset.')\n",
      "/home/arsim/anaconda3/envs/fastai-cpu/lib/python3.6/site-packages/lightgbm/basic.py:762: UserWarning: categorical_feature in param dict is overridden.\n",
      "  warnings.warn('categorical_feature in param dict is overridden.')\n"
     ]
    },
    {
     "name": "stdout",
     "output_type": "stream",
     "text": [
      "[500]\ttraining's rmse: 172.956\tvalid_1's rmse: 181.11\n",
      "[1000]\ttraining's rmse: 163.279\tvalid_1's rmse: 174.919\n",
      "[1500]\ttraining's rmse: 157.449\tvalid_1's rmse: 172.013\n",
      "[2000]\ttraining's rmse: 153.439\tvalid_1's rmse: 170.795\n",
      "[2500]\ttraining's rmse: 150.512\tvalid_1's rmse: 170.531\n",
      "[3000]\ttraining's rmse: 148.2\tvalid_1's rmse: 170.405\n",
      "Early stopping, best iteration is:\n",
      "[2827]\ttraining's rmse: 148.954\tvalid_1's rmse: 170.361\n",
      "fold n°6\n",
      "Training until validation scores don't improve for 200 rounds.\n"
     ]
    },
    {
     "name": "stderr",
     "output_type": "stream",
     "text": [
      "/home/arsim/anaconda3/envs/fastai-cpu/lib/python3.6/site-packages/lightgbm/basic.py:1205: UserWarning: Using categorical_feature in Dataset.\n",
      "  warnings.warn('Using categorical_feature in Dataset.')\n",
      "/home/arsim/anaconda3/envs/fastai-cpu/lib/python3.6/site-packages/lightgbm/basic.py:762: UserWarning: categorical_feature in param dict is overridden.\n",
      "  warnings.warn('categorical_feature in param dict is overridden.')\n"
     ]
    },
    {
     "name": "stdout",
     "output_type": "stream",
     "text": [
      "[500]\ttraining's rmse: 173.072\tvalid_1's rmse: 177.447\n",
      "[1000]\ttraining's rmse: 163.626\tvalid_1's rmse: 171.456\n",
      "[1500]\ttraining's rmse: 157.649\tvalid_1's rmse: 168.415\n",
      "[2000]\ttraining's rmse: 153.549\tvalid_1's rmse: 167.116\n",
      "[2500]\ttraining's rmse: 150.525\tvalid_1's rmse: 166.535\n",
      "[3000]\ttraining's rmse: 148.118\tvalid_1's rmse: 166.28\n",
      "Early stopping, best iteration is:\n",
      "[3131]\ttraining's rmse: 147.591\tvalid_1's rmse: 166.246\n",
      "fold n°7\n",
      "Training until validation scores don't improve for 200 rounds.\n"
     ]
    },
    {
     "name": "stderr",
     "output_type": "stream",
     "text": [
      "/home/arsim/anaconda3/envs/fastai-cpu/lib/python3.6/site-packages/lightgbm/basic.py:1205: UserWarning: Using categorical_feature in Dataset.\n",
      "  warnings.warn('Using categorical_feature in Dataset.')\n",
      "/home/arsim/anaconda3/envs/fastai-cpu/lib/python3.6/site-packages/lightgbm/basic.py:762: UserWarning: categorical_feature in param dict is overridden.\n",
      "  warnings.warn('categorical_feature in param dict is overridden.')\n"
     ]
    },
    {
     "name": "stdout",
     "output_type": "stream",
     "text": [
      "[500]\ttraining's rmse: 173.085\tvalid_1's rmse: 177.533\n",
      "[1000]\ttraining's rmse: 163.782\tvalid_1's rmse: 170.669\n",
      "[1500]\ttraining's rmse: 157.726\tvalid_1's rmse: 167.161\n",
      "[2000]\ttraining's rmse: 153.706\tvalid_1's rmse: 165.508\n",
      "[2500]\ttraining's rmse: 150.764\tvalid_1's rmse: 164.952\n",
      "Early stopping, best iteration is:\n",
      "[2796]\ttraining's rmse: 149.328\tvalid_1's rmse: 164.824\n",
      "fold n°8\n",
      "Training until validation scores don't improve for 200 rounds.\n"
     ]
    },
    {
     "name": "stderr",
     "output_type": "stream",
     "text": [
      "/home/arsim/anaconda3/envs/fastai-cpu/lib/python3.6/site-packages/lightgbm/basic.py:1205: UserWarning: Using categorical_feature in Dataset.\n",
      "  warnings.warn('Using categorical_feature in Dataset.')\n",
      "/home/arsim/anaconda3/envs/fastai-cpu/lib/python3.6/site-packages/lightgbm/basic.py:762: UserWarning: categorical_feature in param dict is overridden.\n",
      "  warnings.warn('categorical_feature in param dict is overridden.')\n"
     ]
    },
    {
     "name": "stdout",
     "output_type": "stream",
     "text": [
      "[500]\ttraining's rmse: 173.454\tvalid_1's rmse: 175.478\n",
      "[1000]\ttraining's rmse: 163.648\tvalid_1's rmse: 170.061\n",
      "[1500]\ttraining's rmse: 157.606\tvalid_1's rmse: 168.197\n",
      "[2000]\ttraining's rmse: 153.504\tvalid_1's rmse: 167.607\n",
      "Early stopping, best iteration is:\n",
      "[2027]\ttraining's rmse: 153.325\tvalid_1's rmse: 167.588\n",
      "fold n°9\n",
      "Training until validation scores don't improve for 200 rounds.\n"
     ]
    },
    {
     "name": "stderr",
     "output_type": "stream",
     "text": [
      "/home/arsim/anaconda3/envs/fastai-cpu/lib/python3.6/site-packages/lightgbm/basic.py:1205: UserWarning: Using categorical_feature in Dataset.\n",
      "  warnings.warn('Using categorical_feature in Dataset.')\n",
      "/home/arsim/anaconda3/envs/fastai-cpu/lib/python3.6/site-packages/lightgbm/basic.py:762: UserWarning: categorical_feature in param dict is overridden.\n",
      "  warnings.warn('categorical_feature in param dict is overridden.')\n"
     ]
    },
    {
     "name": "stdout",
     "output_type": "stream",
     "text": [
      "[500]\ttraining's rmse: 174.243\tvalid_1's rmse: 168.572\n",
      "[1000]\ttraining's rmse: 164.948\tvalid_1's rmse: 161.531\n",
      "[1500]\ttraining's rmse: 158.828\tvalid_1's rmse: 158.52\n",
      "[2000]\ttraining's rmse: 154.829\tvalid_1's rmse: 156.541\n",
      "[2500]\ttraining's rmse: 151.912\tvalid_1's rmse: 155.558\n",
      "[3000]\ttraining's rmse: 149.623\tvalid_1's rmse: 155.068\n",
      "Early stopping, best iteration is:\n",
      "[3145]\ttraining's rmse: 149.007\tvalid_1's rmse: 155.019\n",
      "Mean rmse value: 163.3096425129507\n"
     ]
    }
   ],
   "source": [
    "#Now fine tune the model from here onwards!\n",
    "folds = KFold(n_splits=10, shuffle=True, random_state=42)\n",
    "categorical_columns = categorical_columns #to hold cat. columns\n",
    "features = [c for c in train.columns] #features\n",
    "predictions = np.zeros(len(test)) #to hold predictions\n",
    "rmse_l = []\n",
    "rmse_mean = []\n",
    "for fold_, (trn_idx, val_idx) in enumerate(folds.split(train.values, target.values)):\n",
    "    print(\"fold n°{}\".format(fold_))\n",
    "    X_train = train.iloc[trn_idx][features]\n",
    "    X_valid = train.iloc[val_idx][features]\n",
    "    y_train = target.iloc[trn_idx]\n",
    "    y_valid = target.iloc[val_idx]\n",
    "\n",
    "    trn_data = lgb.Dataset(X_train,\n",
    "                           label=y_train,\n",
    "                           categorical_feature = categorical_columns,\n",
    "\n",
    "                          )\n",
    "    val_data = lgb.Dataset(X_valid,\n",
    "                           label=y_valid,\n",
    "                           reference=trn_data,\n",
    "                           categorical_feature = categorical_columns,\n",
    "\n",
    "                          )\n",
    "\n",
    "    num_round = 10000\n",
    "    model = lgb.train(params,\n",
    "                    trn_data,\n",
    "                    num_round,\n",
    "                    valid_sets = [trn_data, val_data],\n",
    "                    verbose_eval=500,\n",
    "                    early_stopping_rounds = 200,\n",
    "                   )\n",
    "    \n",
    "    \n",
    "    pred_test_y = model.predict(X_valid, num_iteration=model.best_iteration)\n",
    "    pred_test = model.predict(test, num_iteration=model.best_iteration)\n",
    "    predictions += pred_test/5\n",
    "    \n",
    "\n",
    "    rmse = sqrt(mean_squared_error(y_valid, pred_test_y))\n",
    "    rmse_l.append(rmse)\n",
    "    \n",
    "rmse_array = np.asarray(rmse_l)\n",
    "    \n",
    "rmse_mean.append(rmse_array.mean())\n",
    "\n",
    "print('Mean rmse value: '+str(rmse_mean[0]))\n",
    "\n"
   ]
  },
  {
   "cell_type": "code",
   "execution_count": 43,
   "metadata": {},
   "outputs": [
    {
     "data": {
      "text/plain": [
       "[163.3096425129507]"
      ]
     },
     "execution_count": 43,
     "metadata": {},
     "output_type": "execute_result"
    }
   ],
   "source": [
    "rmse_mean"
   ]
  },
  {
   "cell_type": "code",
   "execution_count": 29,
   "metadata": {},
   "outputs": [
    {
     "data": {
      "text/plain": [
       "array([268.48209, 301.0575 , 341.85774, 252.39231, 258.02174, 226.06087, 330.04826, 224.58075, 337.20188,\n",
       "       267.80597])"
      ]
     },
     "execution_count": 29,
     "metadata": {},
     "output_type": "execute_result"
    }
   ],
   "source": [
    "#Taking a peek at the top 10 predictions\n",
    "predictions[:10]"
   ]
  },
  {
   "cell_type": "code",
   "execution_count": 134,
   "metadata": {},
   "outputs": [
    {
     "data": {
      "text/plain": [
       "1987"
      ]
     },
     "execution_count": 134,
     "metadata": {},
     "output_type": "execute_result"
    }
   ],
   "source": [
    "len(predictions)"
   ]
  },
  {
   "cell_type": "code",
   "execution_count": 44,
   "metadata": {},
   "outputs": [],
   "source": [
    "pred_df_lgbm = pd.DataFrame(predictions, columns = ['Fees'])"
   ]
  },
  {
   "cell_type": "code",
   "execution_count": 45,
   "metadata": {},
   "outputs": [],
   "source": [
    "pred_df_lgbm.to_excel(\"abhishek_lgbm_10_fold.xlsx\", index = False)"
   ]
  },
  {
   "cell_type": "code",
   "execution_count": 46,
   "metadata": {},
   "outputs": [
    {
     "data": {
      "image/png": "[encoded data removed]",
      "text/plain": [
       "<Figure size 864x1296 with 1 Axes>"
      ]
     },
     "metadata": {
      "needs_background": "light"
     },
     "output_type": "display_data"
    }
   ],
   "source": [
    "\n",
    "fig, ax = plt.subplots(figsize=(12,18))\n",
    "lgb.plot_importance(model, max_num_features=50, height=0.8, ax=ax)\n",
    "ax.grid(False)\n",
    "plt.title(\"LightGBM - Feature Importance\", fontsize=15)\n",
    "plt.tight_layout()\n",
    "plt.savefig('lgbm_1st4mil_importances.png')\n",
    "plt.show()\n",
    "\n"
   ]
  },
  {
   "cell_type": "markdown",
   "metadata": {},
   "source": [
    "\n",
    "# Currenlty ranked in Top 40 of this competition.\n"
   ]
  },
  {
   "cell_type": "markdown",
   "metadata": {},
   "source": [
    "### Leaderboard Link: https://www.machinehack.com/course/predict-a-doctors-consultation-fees-hackathon/leaderboard"
   ]
  }
 ],
 "metadata": {
  "kernelspec": {
   "display_name": "Python 3",
   "language": "python",
   "name": "python3"
  },
  "language_info": {
   "codemirror_mode": {
    "name": "ipython",
    "version": 3
   },
   "file_extension": ".py",
   "mimetype": "text/x-python",
   "name": "python",
   "nbconvert_exporter": "python",
   "pygments_lexer": "ipython3",
   "version": "3.6.8"
  }
 },
 "nbformat": 4,
 "nbformat_minor": 2
}

{
 "cells": [
  {
   "cell_type": "code",
   "execution_count": 1,
   "metadata": {},
   "outputs": [],
   "source": [
    "from fastai.imports import *\n",
    "from fastai.structured import *\n",
    "\n",
    "from pandas_summary import DataFrameSummary\n",
    "from sklearn.ensemble import RandomForestRegressor, RandomForestClassifier\n",
    "from IPython.display import display\n",
    "\n",
    "from sklearn import metrics\n",
    "import lightgbm as lgb\n",
    "from sklearn.model_selection import KFold\n",
    "from sklearn import preprocessing, model_selection, metrics\n",
    "import re"
   ]
  },
  {
   "cell_type": "code",
   "execution_count": 1,
   "metadata": {},
   "outputs": [],
   "source": [
    "PATH = \"\""
   ]
  },
  {
   "cell_type": "code",
   "execution_count": 2,
   "metadata": {},
   "outputs": [
    {
     "name": "stdout",
     "output_type": "stream",
     "text": [
      "flight_fee_lgbm.ipynb  Sample_submission.xlsx  train.xlsx\r\n",
      "flight_fee_rf.ipynb    test.xlsx\r\n"
     ]
    }
   ],
   "source": [
    "!ls {PATH}"
   ]
  },
  {
   "cell_type": "code",
   "execution_count": 5,
   "metadata": {},
   "outputs": [],
   "source": [
    "\n",
    "def display_all(df):\n",
    "    with pd.option_context(\"display.max_rows\", 1000, \"display.max_columns\", 1000): \n",
    "        display(df)\n"
   ]
  },
  {
   "cell_type": "code",
   "execution_count": 6,
   "metadata": {},
   "outputs": [],
   "source": [
    "raw = pd.read_excel(f'{PATH}train.xlsx', parse_dates=[\"Date_of_Journey\",\"Dep_Time\",\"Arrival_Time\",\"Duration\"],encoding=\"utf-8\")"
   ]
  },
  {
   "cell_type": "code",
   "execution_count": 523,
   "metadata": {},
   "outputs": [],
   "source": [
    "test = pd.read_excel(f'{PATH}test.xlsx', parse_dates=[\"Date_of_Journey\",\"Dep_Time\",\"Arrival_Time\",\"Duration\"],encoding=\"utf-8\")"
   ]
  },
  {
   "cell_type": "code",
   "execution_count": 73,
   "metadata": {},
   "outputs": [
    {
     "data": {
      "text/plain": [
       "((2671, 10), (10683, 11))"
      ]
     },
     "execution_count": 73,
     "metadata": {},
     "output_type": "execute_result"
    }
   ],
   "source": [
    "test.shape,raw.shape"
   ]
  },
  {
   "cell_type": "code",
   "execution_count": 74,
   "metadata": {},
   "outputs": [
    {
     "data": {
      "text/plain": [
       "Airline            0\n",
       "Date_of_Journey    0\n",
       "Source             0\n",
       "Destination        0\n",
       "Route              0\n",
       "Dep_Time           0\n",
       "Arrival_Time       0\n",
       "Duration           0\n",
       "Total_Stops        0\n",
       "Additional_Info    0\n",
       "dtype: int64"
      ]
     },
     "execution_count": 74,
     "metadata": {},
     "output_type": "execute_result"
    }
   ],
   "source": [
    "test.isnull().sum()"
   ]
  },
  {
   "cell_type": "code",
   "execution_count": 75,
   "metadata": {},
   "outputs": [
    {
     "data": {
      "text/plain": [
       "Airline            0\n",
       "Date_of_Journey    0\n",
       "Source             0\n",
       "Destination        0\n",
       "Route              1\n",
       "Dep_Time           0\n",
       "Arrival_Time       0\n",
       "Duration           0\n",
       "Total_Stops        1\n",
       "Additional_Info    0\n",
       "Price              0\n",
       "dtype: int64"
      ]
     },
     "execution_count": 75,
     "metadata": {},
     "output_type": "execute_result"
    }
   ],
   "source": [
    "raw.isnull().sum()"
   ]
  },
  {
   "cell_type": "code",
   "execution_count": 11,
   "metadata": {},
   "outputs": [],
   "source": [
    "#Almost No Null values WOW!"
   ]
  },
  {
   "cell_type": "code",
   "execution_count": 197,
   "metadata": {},
   "outputs": [
    {
     "name": "stdout",
     "output_type": "stream",
     "text": [
      "<class 'pandas.core.frame.DataFrame'>\n",
      "RangeIndex: 10683 entries, 0 to 10682\n",
      "Data columns (total 11 columns):\n",
      "Airline            10683 non-null object\n",
      "Date_of_Journey    10683 non-null datetime64[ns]\n",
      "Source             10683 non-null object\n",
      "Destination        10683 non-null object\n",
      "Route              10682 non-null object\n",
      "Dep_Time           10683 non-null datetime64[ns]\n",
      "Arrival_Time       10683 non-null datetime64[ns]\n",
      "Duration           10683 non-null object\n",
      "Total_Stops        10682 non-null object\n",
      "Additional_Info    10683 non-null object\n",
      "Price              10683 non-null int64\n",
      "dtypes: datetime64[ns](3), int64(1), object(7)\n",
      "memory usage: 918.1+ KB\n"
     ]
    }
   ],
   "source": [
    "raw.info()"
   ]
  },
  {
   "cell_type": "code",
   "execution_count": 198,
   "metadata": {},
   "outputs": [
    {
     "name": "stdout",
     "output_type": "stream",
     "text": [
      "<class 'pandas.core.frame.DataFrame'>\n",
      "RangeIndex: 2671 entries, 0 to 2670\n",
      "Data columns (total 10 columns):\n",
      "Airline            2671 non-null object\n",
      "Date_of_Journey    2671 non-null datetime64[ns]\n",
      "Source             2671 non-null object\n",
      "Destination        2671 non-null object\n",
      "Route              2671 non-null object\n",
      "Dep_Time           2671 non-null datetime64[ns]\n",
      "Arrival_Time       2671 non-null datetime64[ns]\n",
      "Duration           2671 non-null object\n",
      "Total_Stops        2671 non-null object\n",
      "Additional_Info    2671 non-null object\n",
      "dtypes: datetime64[ns](3), object(7)\n",
      "memory usage: 208.8+ KB\n"
     ]
    }
   ],
   "source": [
    "test.info()"
   ]
  },
  {
   "cell_type": "code",
   "execution_count": 375,
   "metadata": {},
   "outputs": [
    {
     "data": {
      "text/html": [
       "<div>\n",
       "<style scoped>\n",
       "    .dataframe tbody tr th:only-of-type {\n",
       "        vertical-align: middle;\n",
       "    }\n",
       "\n",
       "    .dataframe tbody tr th {\n",
       "        vertical-align: top;\n",
       "    }\n",
       "\n",
       "    .dataframe thead th {\n",
       "        text-align: right;\n",
       "    }\n",
       "</style>\n",
       "<table border=\"1\" class=\"dataframe\">\n",
       "  <thead>\n",
       "    <tr style=\"text-align: right;\">\n",
       "      <th></th>\n",
       "      <th>Airline</th>\n",
       "      <th>Date_of_Journey</th>\n",
       "      <th>Source</th>\n",
       "      <th>Destination</th>\n",
       "      <th>Route</th>\n",
       "      <th>Dep_Time</th>\n",
       "      <th>Arrival_Time</th>\n",
       "      <th>Duration</th>\n",
       "      <th>Total_Stops</th>\n",
       "      <th>Additional_Info</th>\n",
       "      <th>Price</th>\n",
       "    </tr>\n",
       "  </thead>\n",
       "  <tbody>\n",
       "    <tr>\n",
       "      <th>0</th>\n",
       "      <td>IndiGo</td>\n",
       "      <td>2019-03-24</td>\n",
       "      <td>Banglore</td>\n",
       "      <td>New Delhi</td>\n",
       "      <td>BLR → DEL</td>\n",
       "      <td>2019-03-13 22:20:00</td>\n",
       "      <td>2019-03-22 01:10:00</td>\n",
       "      <td>2h 50m</td>\n",
       "      <td>non-stop</td>\n",
       "      <td>No info</td>\n",
       "      <td>3897</td>\n",
       "    </tr>\n",
       "    <tr>\n",
       "      <th>1</th>\n",
       "      <td>Air India</td>\n",
       "      <td>2019-01-05</td>\n",
       "      <td>Kolkata</td>\n",
       "      <td>Banglore</td>\n",
       "      <td>CCU → IXR → BBI → BLR</td>\n",
       "      <td>2019-03-13 05:50:00</td>\n",
       "      <td>2019-03-13 13:15:00</td>\n",
       "      <td>7h 25m</td>\n",
       "      <td>2 stops</td>\n",
       "      <td>No info</td>\n",
       "      <td>7662</td>\n",
       "    </tr>\n",
       "    <tr>\n",
       "      <th>2</th>\n",
       "      <td>Jet Airways</td>\n",
       "      <td>2019-09-06</td>\n",
       "      <td>Delhi</td>\n",
       "      <td>Cochin</td>\n",
       "      <td>DEL → LKO → BOM → COK</td>\n",
       "      <td>2019-03-13 09:25:00</td>\n",
       "      <td>2019-06-10 04:25:00</td>\n",
       "      <td>19h</td>\n",
       "      <td>2 stops</td>\n",
       "      <td>No info</td>\n",
       "      <td>13882</td>\n",
       "    </tr>\n",
       "  </tbody>\n",
       "</table>\n",
       "</div>"
      ],
      "text/plain": [
       "       Airline Date_of_Journey    Source Destination                  Route  \\\n",
       "0       IndiGo      2019-03-24  Banglore   New Delhi              BLR → DEL   \n",
       "1    Air India      2019-01-05   Kolkata    Banglore  CCU → IXR → BBI → BLR   \n",
       "2  Jet Airways      2019-09-06     Delhi      Cochin  DEL → LKO → BOM → COK   \n",
       "\n",
       "             Dep_Time        Arrival_Time Duration Total_Stops  \\\n",
       "0 2019-03-13 22:20:00 2019-03-22 01:10:00   2h 50m    non-stop   \n",
       "1 2019-03-13 05:50:00 2019-03-13 13:15:00   7h 25m     2 stops   \n",
       "2 2019-03-13 09:25:00 2019-06-10 04:25:00      19h     2 stops   \n",
       "\n",
       "  Additional_Info  Price  \n",
       "0         No info   3897  \n",
       "1         No info   7662  \n",
       "2         No info  13882  "
      ]
     },
     "execution_count": 375,
     "metadata": {},
     "output_type": "execute_result"
    }
   ],
   "source": [
    "raw.head(3)"
   ]
  },
  {
   "cell_type": "code",
   "execution_count": 213,
   "metadata": {},
   "outputs": [],
   "source": [
    "#Keeping an eye for outrageous outliers!"
   ]
  },
  {
   "cell_type": "code",
   "execution_count": 376,
   "metadata": {},
   "outputs": [
    {
     "data": {
      "text/html": [
       "<div>\n",
       "<style scoped>\n",
       "    .dataframe tbody tr th:only-of-type {\n",
       "        vertical-align: middle;\n",
       "    }\n",
       "\n",
       "    .dataframe tbody tr th {\n",
       "        vertical-align: top;\n",
       "    }\n",
       "\n",
       "    .dataframe thead th {\n",
       "        text-align: right;\n",
       "    }\n",
       "</style>\n",
       "<table border=\"1\" class=\"dataframe\">\n",
       "  <thead>\n",
       "    <tr style=\"text-align: right;\">\n",
       "      <th></th>\n",
       "      <th>Airline</th>\n",
       "      <th>Date_of_Journey</th>\n",
       "      <th>Source</th>\n",
       "      <th>Destination</th>\n",
       "      <th>Route</th>\n",
       "      <th>Dep_Time</th>\n",
       "      <th>Arrival_Time</th>\n",
       "      <th>Duration</th>\n",
       "      <th>Total_Stops</th>\n",
       "      <th>Additional_Info</th>\n",
       "      <th>Price</th>\n",
       "    </tr>\n",
       "  </thead>\n",
       "  <tbody>\n",
       "    <tr>\n",
       "      <th>count</th>\n",
       "      <td>10683</td>\n",
       "      <td>10683</td>\n",
       "      <td>10683</td>\n",
       "      <td>10683</td>\n",
       "      <td>10682</td>\n",
       "      <td>10683</td>\n",
       "      <td>10683</td>\n",
       "      <td>10683</td>\n",
       "      <td>10682</td>\n",
       "      <td>10683</td>\n",
       "      <td>10683.000000</td>\n",
       "    </tr>\n",
       "    <tr>\n",
       "      <th>unique</th>\n",
       "      <td>12</td>\n",
       "      <td>40</td>\n",
       "      <td>5</td>\n",
       "      <td>6</td>\n",
       "      <td>128</td>\n",
       "      <td>222</td>\n",
       "      <td>1316</td>\n",
       "      <td>368</td>\n",
       "      <td>5</td>\n",
       "      <td>10</td>\n",
       "      <td>NaN</td>\n",
       "    </tr>\n",
       "    <tr>\n",
       "      <th>top</th>\n",
       "      <td>Jet Airways</td>\n",
       "      <td>2019-05-18 00:00:00</td>\n",
       "      <td>Delhi</td>\n",
       "      <td>Cochin</td>\n",
       "      <td>DEL → BOM → COK</td>\n",
       "      <td>2019-03-13 18:55:00</td>\n",
       "      <td>2019-03-13 19:00:00</td>\n",
       "      <td>2h 50m</td>\n",
       "      <td>1 stop</td>\n",
       "      <td>No info</td>\n",
       "      <td>NaN</td>\n",
       "    </tr>\n",
       "    <tr>\n",
       "      <th>freq</th>\n",
       "      <td>3849</td>\n",
       "      <td>504</td>\n",
       "      <td>4537</td>\n",
       "      <td>4537</td>\n",
       "      <td>2376</td>\n",
       "      <td>233</td>\n",
       "      <td>423</td>\n",
       "      <td>550</td>\n",
       "      <td>5625</td>\n",
       "      <td>8345</td>\n",
       "      <td>NaN</td>\n",
       "    </tr>\n",
       "    <tr>\n",
       "      <th>first</th>\n",
       "      <td>NaN</td>\n",
       "      <td>2019-01-03 00:00:00</td>\n",
       "      <td>NaN</td>\n",
       "      <td>NaN</td>\n",
       "      <td>NaN</td>\n",
       "      <td>2019-03-13 00:20:00</td>\n",
       "      <td>2019-03-02 00:05:00</td>\n",
       "      <td>NaN</td>\n",
       "      <td>NaN</td>\n",
       "      <td>NaN</td>\n",
       "      <td>NaN</td>\n",
       "    </tr>\n",
       "    <tr>\n",
       "      <th>last</th>\n",
       "      <td>NaN</td>\n",
       "      <td>2019-12-06 00:00:00</td>\n",
       "      <td>NaN</td>\n",
       "      <td>NaN</td>\n",
       "      <td>NaN</td>\n",
       "      <td>2019-03-13 23:55:00</td>\n",
       "      <td>2019-06-29 04:25:00</td>\n",
       "      <td>NaN</td>\n",
       "      <td>NaN</td>\n",
       "      <td>NaN</td>\n",
       "      <td>NaN</td>\n",
       "    </tr>\n",
       "    <tr>\n",
       "      <th>mean</th>\n",
       "      <td>NaN</td>\n",
       "      <td>NaN</td>\n",
       "      <td>NaN</td>\n",
       "      <td>NaN</td>\n",
       "      <td>NaN</td>\n",
       "      <td>NaN</td>\n",
       "      <td>NaN</td>\n",
       "      <td>NaN</td>\n",
       "      <td>NaN</td>\n",
       "      <td>NaN</td>\n",
       "      <td>9087.064121</td>\n",
       "    </tr>\n",
       "    <tr>\n",
       "      <th>std</th>\n",
       "      <td>NaN</td>\n",
       "      <td>NaN</td>\n",
       "      <td>NaN</td>\n",
       "      <td>NaN</td>\n",
       "      <td>NaN</td>\n",
       "      <td>NaN</td>\n",
       "      <td>NaN</td>\n",
       "      <td>NaN</td>\n",
       "      <td>NaN</td>\n",
       "      <td>NaN</td>\n",
       "      <td>4611.359167</td>\n",
       "    </tr>\n",
       "    <tr>\n",
       "      <th>min</th>\n",
       "      <td>NaN</td>\n",
       "      <td>NaN</td>\n",
       "      <td>NaN</td>\n",
       "      <td>NaN</td>\n",
       "      <td>NaN</td>\n",
       "      <td>NaN</td>\n",
       "      <td>NaN</td>\n",
       "      <td>NaN</td>\n",
       "      <td>NaN</td>\n",
       "      <td>NaN</td>\n",
       "      <td>1759.000000</td>\n",
       "    </tr>\n",
       "    <tr>\n",
       "      <th>25%</th>\n",
       "      <td>NaN</td>\n",
       "      <td>NaN</td>\n",
       "      <td>NaN</td>\n",
       "      <td>NaN</td>\n",
       "      <td>NaN</td>\n",
       "      <td>NaN</td>\n",
       "      <td>NaN</td>\n",
       "      <td>NaN</td>\n",
       "      <td>NaN</td>\n",
       "      <td>NaN</td>\n",
       "      <td>5277.000000</td>\n",
       "    </tr>\n",
       "    <tr>\n",
       "      <th>50%</th>\n",
       "      <td>NaN</td>\n",
       "      <td>NaN</td>\n",
       "      <td>NaN</td>\n",
       "      <td>NaN</td>\n",
       "      <td>NaN</td>\n",
       "      <td>NaN</td>\n",
       "      <td>NaN</td>\n",
       "      <td>NaN</td>\n",
       "      <td>NaN</td>\n",
       "      <td>NaN</td>\n",
       "      <td>8372.000000</td>\n",
       "    </tr>\n",
       "    <tr>\n",
       "      <th>75%</th>\n",
       "      <td>NaN</td>\n",
       "      <td>NaN</td>\n",
       "      <td>NaN</td>\n",
       "      <td>NaN</td>\n",
       "      <td>NaN</td>\n",
       "      <td>NaN</td>\n",
       "      <td>NaN</td>\n",
       "      <td>NaN</td>\n",
       "      <td>NaN</td>\n",
       "      <td>NaN</td>\n",
       "      <td>12373.000000</td>\n",
       "    </tr>\n",
       "    <tr>\n",
       "      <th>max</th>\n",
       "      <td>NaN</td>\n",
       "      <td>NaN</td>\n",
       "      <td>NaN</td>\n",
       "      <td>NaN</td>\n",
       "      <td>NaN</td>\n",
       "      <td>NaN</td>\n",
       "      <td>NaN</td>\n",
       "      <td>NaN</td>\n",
       "      <td>NaN</td>\n",
       "      <td>NaN</td>\n",
       "      <td>79512.000000</td>\n",
       "    </tr>\n",
       "  </tbody>\n",
       "</table>\n",
       "</div>"
      ],
      "text/plain": [
       "            Airline      Date_of_Journey Source Destination            Route  \\\n",
       "count         10683                10683  10683       10683            10682   \n",
       "unique           12                   40      5           6              128   \n",
       "top     Jet Airways  2019-05-18 00:00:00  Delhi      Cochin  DEL → BOM → COK   \n",
       "freq           3849                  504   4537        4537             2376   \n",
       "first           NaN  2019-01-03 00:00:00    NaN         NaN              NaN   \n",
       "last            NaN  2019-12-06 00:00:00    NaN         NaN              NaN   \n",
       "mean            NaN                  NaN    NaN         NaN              NaN   \n",
       "std             NaN                  NaN    NaN         NaN              NaN   \n",
       "min             NaN                  NaN    NaN         NaN              NaN   \n",
       "25%             NaN                  NaN    NaN         NaN              NaN   \n",
       "50%             NaN                  NaN    NaN         NaN              NaN   \n",
       "75%             NaN                  NaN    NaN         NaN              NaN   \n",
       "max             NaN                  NaN    NaN         NaN              NaN   \n",
       "\n",
       "                   Dep_Time         Arrival_Time Duration Total_Stops  \\\n",
       "count                 10683                10683    10683       10682   \n",
       "unique                  222                 1316      368           5   \n",
       "top     2019-03-13 18:55:00  2019-03-13 19:00:00   2h 50m      1 stop   \n",
       "freq                    233                  423      550        5625   \n",
       "first   2019-03-13 00:20:00  2019-03-02 00:05:00      NaN         NaN   \n",
       "last    2019-03-13 23:55:00  2019-06-29 04:25:00      NaN         NaN   \n",
       "mean                    NaN                  NaN      NaN         NaN   \n",
       "std                     NaN                  NaN      NaN         NaN   \n",
       "min                     NaN                  NaN      NaN         NaN   \n",
       "25%                     NaN                  NaN      NaN         NaN   \n",
       "50%                     NaN                  NaN      NaN         NaN   \n",
       "75%                     NaN                  NaN      NaN         NaN   \n",
       "max                     NaN                  NaN      NaN         NaN   \n",
       "\n",
       "       Additional_Info         Price  \n",
       "count            10683  10683.000000  \n",
       "unique              10           NaN  \n",
       "top            No info           NaN  \n",
       "freq              8345           NaN  \n",
       "first              NaN           NaN  \n",
       "last               NaN           NaN  \n",
       "mean               NaN   9087.064121  \n",
       "std                NaN   4611.359167  \n",
       "min                NaN   1759.000000  \n",
       "25%                NaN   5277.000000  \n",
       "50%                NaN   8372.000000  \n",
       "75%                NaN  12373.000000  \n",
       "max                NaN  79512.000000  "
      ]
     },
     "execution_count": 376,
     "metadata": {},
     "output_type": "execute_result"
    }
   ],
   "source": [
    "raw.describe(include='all')"
   ]
  },
  {
   "cell_type": "code",
   "execution_count": 377,
   "metadata": {},
   "outputs": [
    {
     "data": {
      "text/html": [
       "<div>\n",
       "<style scoped>\n",
       "    .dataframe tbody tr th:only-of-type {\n",
       "        vertical-align: middle;\n",
       "    }\n",
       "\n",
       "    .dataframe tbody tr th {\n",
       "        vertical-align: top;\n",
       "    }\n",
       "\n",
       "    .dataframe thead th {\n",
       "        text-align: right;\n",
       "    }\n",
       "</style>\n",
       "<table border=\"1\" class=\"dataframe\">\n",
       "  <thead>\n",
       "    <tr style=\"text-align: right;\">\n",
       "      <th></th>\n",
       "      <th>Airline</th>\n",
       "      <th>Date_of_Journey</th>\n",
       "      <th>Source</th>\n",
       "      <th>Destination</th>\n",
       "      <th>Route</th>\n",
       "      <th>Dep_Time</th>\n",
       "      <th>Arrival_Time</th>\n",
       "      <th>Duration</th>\n",
       "      <th>Total_Stops</th>\n",
       "      <th>Additional_Info</th>\n",
       "    </tr>\n",
       "  </thead>\n",
       "  <tbody>\n",
       "    <tr>\n",
       "      <th>count</th>\n",
       "      <td>2671</td>\n",
       "      <td>2671</td>\n",
       "      <td>2671</td>\n",
       "      <td>2671</td>\n",
       "      <td>2671</td>\n",
       "      <td>2671</td>\n",
       "      <td>2671</td>\n",
       "      <td>2671</td>\n",
       "      <td>2671</td>\n",
       "      <td>2671</td>\n",
       "    </tr>\n",
       "    <tr>\n",
       "      <th>unique</th>\n",
       "      <td>11</td>\n",
       "      <td>40</td>\n",
       "      <td>5</td>\n",
       "      <td>6</td>\n",
       "      <td>100</td>\n",
       "      <td>199</td>\n",
       "      <td>690</td>\n",
       "      <td>320</td>\n",
       "      <td>5</td>\n",
       "      <td>6</td>\n",
       "    </tr>\n",
       "    <tr>\n",
       "      <th>top</th>\n",
       "      <td>Jet Airways</td>\n",
       "      <td>2019-09-05 00:00:00</td>\n",
       "      <td>Delhi</td>\n",
       "      <td>Cochin</td>\n",
       "      <td>DEL → BOM → COK</td>\n",
       "      <td>2019-03-13 10:00:00</td>\n",
       "      <td>2019-03-13 19:00:00</td>\n",
       "      <td>2h 50m</td>\n",
       "      <td>1 stop</td>\n",
       "      <td>No info</td>\n",
       "    </tr>\n",
       "    <tr>\n",
       "      <th>freq</th>\n",
       "      <td>897</td>\n",
       "      <td>144</td>\n",
       "      <td>1145</td>\n",
       "      <td>1145</td>\n",
       "      <td>624</td>\n",
       "      <td>62</td>\n",
       "      <td>113</td>\n",
       "      <td>122</td>\n",
       "      <td>1431</td>\n",
       "      <td>2148</td>\n",
       "    </tr>\n",
       "    <tr>\n",
       "      <th>first</th>\n",
       "      <td>NaN</td>\n",
       "      <td>2019-01-03 00:00:00</td>\n",
       "      <td>NaN</td>\n",
       "      <td>NaN</td>\n",
       "      <td>NaN</td>\n",
       "      <td>2019-03-13 00:25:00</td>\n",
       "      <td>2019-03-02 00:25:00</td>\n",
       "      <td>NaN</td>\n",
       "      <td>NaN</td>\n",
       "      <td>NaN</td>\n",
       "    </tr>\n",
       "    <tr>\n",
       "      <th>last</th>\n",
       "      <td>NaN</td>\n",
       "      <td>2019-12-06 00:00:00</td>\n",
       "      <td>NaN</td>\n",
       "      <td>NaN</td>\n",
       "      <td>NaN</td>\n",
       "      <td>2019-03-13 23:55:00</td>\n",
       "      <td>2019-06-29 04:25:00</td>\n",
       "      <td>NaN</td>\n",
       "      <td>NaN</td>\n",
       "      <td>NaN</td>\n",
       "    </tr>\n",
       "  </tbody>\n",
       "</table>\n",
       "</div>"
      ],
      "text/plain": [
       "            Airline      Date_of_Journey Source Destination            Route  \\\n",
       "count          2671                 2671   2671        2671             2671   \n",
       "unique           11                   40      5           6              100   \n",
       "top     Jet Airways  2019-09-05 00:00:00  Delhi      Cochin  DEL → BOM → COK   \n",
       "freq            897                  144   1145        1145              624   \n",
       "first           NaN  2019-01-03 00:00:00    NaN         NaN              NaN   \n",
       "last            NaN  2019-12-06 00:00:00    NaN         NaN              NaN   \n",
       "\n",
       "                   Dep_Time         Arrival_Time Duration Total_Stops  \\\n",
       "count                  2671                 2671     2671        2671   \n",
       "unique                  199                  690      320           5   \n",
       "top     2019-03-13 10:00:00  2019-03-13 19:00:00   2h 50m      1 stop   \n",
       "freq                     62                  113      122        1431   \n",
       "first   2019-03-13 00:25:00  2019-03-02 00:25:00      NaN         NaN   \n",
       "last    2019-03-13 23:55:00  2019-06-29 04:25:00      NaN         NaN   \n",
       "\n",
       "       Additional_Info  \n",
       "count             2671  \n",
       "unique               6  \n",
       "top            No info  \n",
       "freq              2148  \n",
       "first              NaN  \n",
       "last               NaN  "
      ]
     },
     "execution_count": 377,
     "metadata": {},
     "output_type": "execute_result"
    }
   ],
   "source": [
    "test.describe(include='all')"
   ]
  },
  {
   "cell_type": "code",
   "execution_count": 289,
   "metadata": {},
   "outputs": [],
   "source": [
    "#It seems we found an outlier, in duration time =5 mins!"
   ]
  },
  {
   "cell_type": "code",
   "execution_count": 380,
   "metadata": {},
   "outputs": [
    {
     "data": {
      "text/html": [
       "<script type=\"text/javascript\">window.PlotlyConfig = {MathJaxConfig: 'local'};</script><script type=\"text/javascript\">if (window.MathJax) {MathJax.Hub.Config({SVG: {font: \"STIX-Web\"}});}</script><script>requirejs.config({paths: { 'plotly': ['https://cdn.plot.ly/plotly-latest.min']},});if(!window._Plotly) {require(['plotly'],function(plotly) {window._Plotly=plotly;});}</script>"
      ],
      "text/vnd.plotly.v1+html": [
       "<script type=\"text/javascript\">window.PlotlyConfig = {MathJaxConfig: 'local'};</script><script type=\"text/javascript\">if (window.MathJax) {MathJax.Hub.Config({SVG: {font: \"STIX-Web\"}});}</script><script>requirejs.config({paths: { 'plotly': ['https://cdn.plot.ly/plotly-latest.min']},});if(!window._Plotly) {require(['plotly'],function(plotly) {window._Plotly=plotly;});}</script>"
      ]
     },
     "metadata": {},
     "output_type": "display_data"
    }
   ],
   "source": [
    "import plotly.offline as py\n",
    "py.init_notebook_mode(connected=True)\n",
    "import plotly.graph_objs as go\n",
    "import plotly.tools as tls"
   ]
  },
  {
   "cell_type": "code",
   "execution_count": 381,
   "metadata": {},
   "outputs": [],
   "source": [
    "train = raw.copy()"
   ]
  },
  {
   "cell_type": "code",
   "execution_count": 81,
   "metadata": {},
   "outputs": [],
   "source": [
    "def plot_cat(col,bars_only=False,top_n=10):\n",
    "    top_n = top_n if train[col].nunique() > top_n else train[col].nunique()\n",
    "    #This means if the unique entries in a column is greater than 10, keep their value as 10 otherwise, if its smaller than 10\n",
    "    #than use that specific value less than 10! e.g in case of hasDetection it will be 2\n",
    "    print(f\"{col} has {train[col].nunique()} unique values and type: {train[col].dtype}.\")\n",
    "    print(train[col].value_counts(normalize=True, dropna=False).head())\n",
    "    if not bars_only:\n",
    "        df = train.groupby([col]).agg({'Price': ['count', 'mean']})\n",
    "    #Will return a df, with 2 columns, 1 count of that specific category ,2) Mean value for detection rate \n",
    "        df = df.sort_values(('Price', 'count'), ascending=False).head(top_n).sort_index()\n",
    "    #Use to keep index order in check\n",
    "        data = [go.Bar(x=df.index, y=df['Price']['count'].values, name='counts'),\n",
    "                    go.Scatter(x=df.index, y=df['Price']['mean'], name='Avg Price', yaxis='y2')]\n",
    "        #Bars containing combined total of has_detection & noDetection, whereas scatter represent mean of target value\n",
    "\n",
    "        layout = go.Layout(dict(title = f\"Counts of {col} by top-{top_n} categories and mean target value\",\n",
    "                                xaxis = dict(title = f'{col}',\n",
    "                                             showgrid=False,\n",
    "                                             zeroline=False,\n",
    "                                             showline=False,),\n",
    "                                yaxis = dict(title = 'Counts',\n",
    "                                             showgrid=False,\n",
    "                                             zeroline=False,\n",
    "                                             showline=False,),\n",
    "                                yaxis2=dict(title='Avg Price', overlaying='y', side='right')),\n",
    "                           legend=dict(orientation=\"v\"))\n",
    "        \n",
    "    else:\n",
    "            top_cat = list(train[col].value_counts(dropna=False).index[:top_n])\n",
    "            #This will fetch the index for that unique entries\n",
    "            df0 = train.loc[(train[col].isin(top_cat)) & (train['Price'] == 1), col].value_counts().head(10).sort_index()\n",
    "                    #Make sure that column index present & fetch entries when has_Detect==1,  column_We_inspecting\n",
    "            df1 = train.loc[(train[col].isin(top_cat)) & (train['Price'] == 0), col].value_counts().head(10).sort_index()\n",
    "                    #Same for the case now, when no detection is found!\n",
    "            data = [go.Bar(x=df0.index, y=df0.values, name='Has Detections'),\n",
    "                    go.Bar(x=df1.index, y=df1.values, name='No Detections')]\n",
    "\n",
    "            layout = go.Layout(dict(title = f\"Counts of {col} by top-{top_n} categories\",\n",
    "                                xaxis = dict(title = f'{col}',\n",
    "                                             showgrid=False,\n",
    "                                             zeroline=False,\n",
    "                                             showline=False,),\n",
    "                                yaxis = dict(title = 'Counts',\n",
    "                                             showgrid=False,\n",
    "                                             zeroline=False,\n",
    "                                             showline=False,),\n",
    "                                ),\n",
    "                           legend=dict(orientation=\"v\"), barmode='group')\n",
    "        \n",
    "    py.iplot(dict(data=data, layout=layout))"
   ]
  },
  {
   "cell_type": "code",
   "execution_count": 82,
   "metadata": {},
   "outputs": [
    {
     "name": "stdout",
     "output_type": "stream",
     "text": [
      "Airline has 12 unique values and type: object.\n",
      "Jet Airways          0.360292\n",
      "IndiGo               0.192174\n",
      "Air India            0.163999\n",
      "Multiple carriers    0.111954\n",
      "SpiceJet             0.076570\n",
      "Name: Airline, dtype: float64\n"
     ]
    },
    {
     "data": {
      "application/vnd.plotly.v1+json": {
       "config": {
        "linkText": "Export to plot.ly",
        "plotlyServerURL": "https://plot.ly",
        "showLink": false
       },
       "data": [
        {
         "name": "counts",
         "type": "bar",
         "uid": "e8f59834-e86b-4d2f-b671-92f03e05087f",
         "x": [
          "Air Asia",
          "Air India",
          "GoAir",
          "IndiGo",
          "Jet Airways",
          "Jet Airways Business",
          "Multiple carriers",
          "Multiple carriers Premium economy",
          "SpiceJet",
          "Vistara"
         ],
         "y": [
          319,
          1752,
          194,
          2053,
          3849,
          6,
          1196,
          13,
          818,
          479
         ]
        },
        {
         "name": "Avg Price",
         "type": "scatter",
         "uid": "91c83bf9-817b-48ee-86f7-b72816eb5e1f",
         "x": [
          "Air Asia",
          "Air India",
          "GoAir",
          "IndiGo",
          "Jet Airways",
          "Jet Airways Business",
          "Multiple carriers",
          "Multiple carriers Premium economy",
          "SpiceJet",
          "Vistara"
         ],
         "y": [
          5590.260188087775,
          9611.210616438357,
          5861.056701030928,
          5673.68290306868,
          11643.92335671603,
          58358.666666666664,
          10902.678093645485,
          11418.846153846154,
          4338.284841075794,
          7796.348643006263
         ],
         "yaxis": "y2"
        }
       ],
       "layout": {
        "legend": {
         "orientation": "v"
        },
        "title": {
         "text": "Counts of Airline by top-10 categories and mean target value"
        },
        "xaxis": {
         "showgrid": false,
         "showline": false,
         "title": {
          "text": "Airline"
         },
         "zeroline": false
        },
        "yaxis": {
         "showgrid": false,
         "showline": false,
         "title": {
          "text": "Counts"
         },
         "zeroline": false
        },
        "yaxis2": {
         "overlaying": "y",
         "side": "right",
         "title": {
          "text": "Avg Price"
         }
        }
       }
      },
      "text/html": [
       "<div id=\"4f4ea413-13ab-49f6-bd42-443c263c8202\" style=\"height: 525px; width: 100%;\" class=\"plotly-graph-div\"></div><script type=\"text/javascript\">require([\"plotly\"], function(Plotly) { window.PLOTLYENV=window.PLOTLYENV || {};window.PLOTLYENV.BASE_URL=\"https://plot.ly\";Plotly.newPlot(\"4f4ea413-13ab-49f6-bd42-443c263c8202\", [{\"name\": \"counts\", \"x\": [\"Air Asia\", \"Air India\", \"GoAir\", \"IndiGo\", \"Jet Airways\", \"Jet Airways Business\", \"Multiple carriers\", \"Multiple carriers Premium economy\", \"SpiceJet\", \"Vistara\"], \"y\": [319, 1752, 194, 2053, 3849, 6, 1196, 13, 818, 479], \"type\": \"bar\", \"uid\": \"36d3df14-8d8d-4c41-9f87-18c7c3c2321e\"}, {\"name\": \"Avg Price\", \"x\": [\"Air Asia\", \"Air India\", \"GoAir\", \"IndiGo\", \"Jet Airways\", \"Jet Airways Business\", \"Multiple carriers\", \"Multiple carriers Premium economy\", \"SpiceJet\", \"Vistara\"], \"y\": [5590.260188087775, 9611.210616438357, 5861.056701030928, 5673.68290306868, 11643.92335671603, 58358.666666666664, 10902.678093645485, 11418.846153846154, 4338.284841075794, 7796.348643006263], \"yaxis\": \"y2\", \"type\": \"scatter\", \"uid\": \"3c529096-bfcb-4e18-9267-70fce161986d\"}], {\"legend\": {\"orientation\": \"v\"}, \"title\": {\"text\": \"Counts of Airline by top-10 categories and mean target value\"}, \"xaxis\": {\"showgrid\": false, \"showline\": false, \"title\": {\"text\": \"Airline\"}, \"zeroline\": false}, \"yaxis\": {\"showgrid\": false, \"showline\": false, \"title\": {\"text\": \"Counts\"}, \"zeroline\": false}, \"yaxis2\": {\"overlaying\": \"y\", \"side\": \"right\", \"title\": {\"text\": \"Avg Price\"}}}, {\"showLink\": false, \"linkText\": \"Export to plot.ly\", \"plotlyServerURL\": \"https://plot.ly\"})});</script><script type=\"text/javascript\">window.addEventListener(\"resize\", function(){window._Plotly.Plots.resize(document.getElementById(\"4f4ea413-13ab-49f6-bd42-443c263c8202\"));});</script>"
      ],
      "text/vnd.plotly.v1+html": [
       "<div id=\"4f4ea413-13ab-49f6-bd42-443c263c8202\" style=\"height: 525px; width: 100%;\" class=\"plotly-graph-div\"></div><script type=\"text/javascript\">require([\"plotly\"], function(Plotly) { window.PLOTLYENV=window.PLOTLYENV || {};window.PLOTLYENV.BASE_URL=\"https://plot.ly\";Plotly.newPlot(\"4f4ea413-13ab-49f6-bd42-443c263c8202\", [{\"name\": \"counts\", \"x\": [\"Air Asia\", \"Air India\", \"GoAir\", \"IndiGo\", \"Jet Airways\", \"Jet Airways Business\", \"Multiple carriers\", \"Multiple carriers Premium economy\", \"SpiceJet\", \"Vistara\"], \"y\": [319, 1752, 194, 2053, 3849, 6, 1196, 13, 818, 479], \"type\": \"bar\", \"uid\": \"36d3df14-8d8d-4c41-9f87-18c7c3c2321e\"}, {\"name\": \"Avg Price\", \"x\": [\"Air Asia\", \"Air India\", \"GoAir\", \"IndiGo\", \"Jet Airways\", \"Jet Airways Business\", \"Multiple carriers\", \"Multiple carriers Premium economy\", \"SpiceJet\", \"Vistara\"], \"y\": [5590.260188087775, 9611.210616438357, 5861.056701030928, 5673.68290306868, 11643.92335671603, 58358.666666666664, 10902.678093645485, 11418.846153846154, 4338.284841075794, 7796.348643006263], \"yaxis\": \"y2\", \"type\": \"scatter\", \"uid\": \"3c529096-bfcb-4e18-9267-70fce161986d\"}], {\"legend\": {\"orientation\": \"v\"}, \"title\": {\"text\": \"Counts of Airline by top-10 categories and mean target value\"}, \"xaxis\": {\"showgrid\": false, \"showline\": false, \"title\": {\"text\": \"Airline\"}, \"zeroline\": false}, \"yaxis\": {\"showgrid\": false, \"showline\": false, \"title\": {\"text\": \"Counts\"}, \"zeroline\": false}, \"yaxis2\": {\"overlaying\": \"y\", \"side\": \"right\", \"title\": {\"text\": \"Avg Price\"}}}, {\"showLink\": false, \"linkText\": \"Export to plot.ly\", \"plotlyServerURL\": \"https://plot.ly\"})});</script><script type=\"text/javascript\">window.addEventListener(\"resize\", function(){window._Plotly.Plots.resize(document.getElementById(\"4f4ea413-13ab-49f6-bd42-443c263c8202\"));});</script>"
      ]
     },
     "metadata": {},
     "output_type": "display_data"
    }
   ],
   "source": [
    "plot_cat('Airline')"
   ]
  },
  {
   "cell_type": "code",
   "execution_count": 83,
   "metadata": {},
   "outputs": [
    {
     "name": "stdout",
     "output_type": "stream",
     "text": [
      "Source has 5 unique values and type: object.\n",
      "Delhi       0.424693\n",
      "Kolkata     0.268745\n",
      "Banglore    0.205654\n",
      "Mumbai      0.065244\n",
      "Chennai     0.035664\n",
      "Name: Source, dtype: float64\n"
     ]
    },
    {
     "data": {
      "application/vnd.plotly.v1+json": {
       "config": {
        "linkText": "Export to plot.ly",
        "plotlyServerURL": "https://plot.ly",
        "showLink": false
       },
       "data": [
        {
         "name": "counts",
         "type": "bar",
         "uid": "84e8eb36-19cb-441f-905f-70941618ac5b",
         "x": [
          "Banglore",
          "Chennai",
          "Delhi",
          "Kolkata",
          "Mumbai"
         ],
         "y": [
          2197,
          381,
          4537,
          2871,
          697
         ]
        },
        {
         "name": "Avg Price",
         "type": "scatter",
         "uid": "1e79544b-b845-4059-8cd4-7b547382d0db",
         "x": [
          "Banglore",
          "Chennai",
          "Delhi",
          "Kolkata",
          "Mumbai"
         ],
         "y": [
          8017.464269458353,
          4789.892388451443,
          10539.43905664536,
          9158.389411354929,
          5059.708751793401
         ],
         "yaxis": "y2"
        }
       ],
       "layout": {
        "legend": {
         "orientation": "v"
        },
        "title": {
         "text": "Counts of Source by top-5 categories and mean target value"
        },
        "xaxis": {
         "showgrid": false,
         "showline": false,
         "title": {
          "text": "Source"
         },
         "zeroline": false
        },
        "yaxis": {
         "showgrid": false,
         "showline": false,
         "title": {
          "text": "Counts"
         },
         "zeroline": false
        },
        "yaxis2": {
         "overlaying": "y",
         "side": "right",
         "title": {
          "text": "Avg Price"
         }
        }
       }
      },
      "text/html": [
       "<div id=\"4482c85c-e209-4195-9868-55aadfb956e7\" style=\"height: 525px; width: 100%;\" class=\"plotly-graph-div\"></div><script type=\"text/javascript\">require([\"plotly\"], function(Plotly) { window.PLOTLYENV=window.PLOTLYENV || {};window.PLOTLYENV.BASE_URL=\"https://plot.ly\";Plotly.newPlot(\"4482c85c-e209-4195-9868-55aadfb956e7\", [{\"name\": \"counts\", \"x\": [\"Banglore\", \"Chennai\", \"Delhi\", \"Kolkata\", \"Mumbai\"], \"y\": [2197, 381, 4537, 2871, 697], \"type\": \"bar\", \"uid\": \"0d2f053c-1f72-4749-a58a-6860bb56107d\"}, {\"name\": \"Avg Price\", \"x\": [\"Banglore\", \"Chennai\", \"Delhi\", \"Kolkata\", \"Mumbai\"], \"y\": [8017.464269458353, 4789.892388451443, 10539.43905664536, 9158.389411354929, 5059.708751793401], \"yaxis\": \"y2\", \"type\": \"scatter\", \"uid\": \"bfbe201e-5ae3-4a32-b054-462417a88e41\"}], {\"legend\": {\"orientation\": \"v\"}, \"title\": {\"text\": \"Counts of Source by top-5 categories and mean target value\"}, \"xaxis\": {\"showgrid\": false, \"showline\": false, \"title\": {\"text\": \"Source\"}, \"zeroline\": false}, \"yaxis\": {\"showgrid\": false, \"showline\": false, \"title\": {\"text\": \"Counts\"}, \"zeroline\": false}, \"yaxis2\": {\"overlaying\": \"y\", \"side\": \"right\", \"title\": {\"text\": \"Avg Price\"}}}, {\"showLink\": false, \"linkText\": \"Export to plot.ly\", \"plotlyServerURL\": \"https://plot.ly\"})});</script><script type=\"text/javascript\">window.addEventListener(\"resize\", function(){window._Plotly.Plots.resize(document.getElementById(\"4482c85c-e209-4195-9868-55aadfb956e7\"));});</script>"
      ],
      "text/vnd.plotly.v1+html": [
       "<div id=\"4482c85c-e209-4195-9868-55aadfb956e7\" style=\"height: 525px; width: 100%;\" class=\"plotly-graph-div\"></div><script type=\"text/javascript\">require([\"plotly\"], function(Plotly) { window.PLOTLYENV=window.PLOTLYENV || {};window.PLOTLYENV.BASE_URL=\"https://plot.ly\";Plotly.newPlot(\"4482c85c-e209-4195-9868-55aadfb956e7\", [{\"name\": \"counts\", \"x\": [\"Banglore\", \"Chennai\", \"Delhi\", \"Kolkata\", \"Mumbai\"], \"y\": [2197, 381, 4537, 2871, 697], \"type\": \"bar\", \"uid\": \"0d2f053c-1f72-4749-a58a-6860bb56107d\"}, {\"name\": \"Avg Price\", \"x\": [\"Banglore\", \"Chennai\", \"Delhi\", \"Kolkata\", \"Mumbai\"], \"y\": [8017.464269458353, 4789.892388451443, 10539.43905664536, 9158.389411354929, 5059.708751793401], \"yaxis\": \"y2\", \"type\": \"scatter\", \"uid\": \"bfbe201e-5ae3-4a32-b054-462417a88e41\"}], {\"legend\": {\"orientation\": \"v\"}, \"title\": {\"text\": \"Counts of Source by top-5 categories and mean target value\"}, \"xaxis\": {\"showgrid\": false, \"showline\": false, \"title\": {\"text\": \"Source\"}, \"zeroline\": false}, \"yaxis\": {\"showgrid\": false, \"showline\": false, \"title\": {\"text\": \"Counts\"}, \"zeroline\": false}, \"yaxis2\": {\"overlaying\": \"y\", \"side\": \"right\", \"title\": {\"text\": \"Avg Price\"}}}, {\"showLink\": false, \"linkText\": \"Export to plot.ly\", \"plotlyServerURL\": \"https://plot.ly\"})});</script><script type=\"text/javascript\">window.addEventListener(\"resize\", function(){window._Plotly.Plots.resize(document.getElementById(\"4482c85c-e209-4195-9868-55aadfb956e7\"));});</script>"
      ]
     },
     "metadata": {},
     "output_type": "display_data"
    }
   ],
   "source": [
    "plot_cat('Source')"
   ]
  },
  {
   "cell_type": "code",
   "execution_count": 28,
   "metadata": {},
   "outputs": [
    {
     "name": "stdout",
     "output_type": "stream",
     "text": [
      "Destination has 6 unique values and type: object.\n",
      "Cochin       0.424693\n",
      "Banglore     0.268745\n",
      "Delhi        0.118412\n",
      "New Delhi    0.087241\n",
      "Hyderabad    0.065244\n",
      "Name: Destination, dtype: float64\n"
     ]
    },
    {
     "data": {
      "application/vnd.plotly.v1+json": {
       "config": {
        "linkText": "Export to plot.ly",
        "plotlyServerURL": "https://plot.ly",
        "showLink": false
       },
       "data": [
        {
         "name": "counts",
         "type": "bar",
         "uid": "b4535c74-5dfc-468d-807b-fc40a3ce0bc1",
         "x": [
          "Banglore",
          "Cochin",
          "Delhi",
          "Hyderabad",
          "Kolkata",
          "New Delhi"
         ],
         "y": [
          2871,
          4537,
          1265,
          697,
          381,
          932
         ]
        },
        {
         "name": "Avg Price",
         "type": "scatter",
         "uid": "e05952c2-ceef-4fa9-923c-7c4d9b0e4c7f",
         "x": [
          "Banglore",
          "Cochin",
          "Delhi",
          "Hyderabad",
          "Kolkata",
          "New Delhi"
         ],
         "y": [
          9158.389411354929,
          10539.43905664536,
          5143.918577075099,
          5059.708751793401,
          4789.892388451443,
          11917.716738197425
         ],
         "yaxis": "y2"
        }
       ],
       "layout": {
        "legend": {
         "orientation": "v"
        },
        "title": {
         "text": "Counts of Destination by top-6 categories and mean target value"
        },
        "xaxis": {
         "showgrid": false,
         "showline": false,
         "title": {
          "text": "Destination"
         },
         "zeroline": false
        },
        "yaxis": {
         "showgrid": false,
         "showline": false,
         "title": {
          "text": "Counts"
         },
         "zeroline": false
        },
        "yaxis2": {
         "overlaying": "y",
         "side": "right",
         "title": {
          "text": "Avg Price"
         }
        }
       }
      },
      "text/html": [
       "<div id=\"b91e540c-3bfb-4b23-96c0-9e911ab745e9\" style=\"height: 525px; width: 100%;\" class=\"plotly-graph-div\"></div><script type=\"text/javascript\">require([\"plotly\"], function(Plotly) { window.PLOTLYENV=window.PLOTLYENV || {};window.PLOTLYENV.BASE_URL=\"https://plot.ly\";Plotly.newPlot(\"b91e540c-3bfb-4b23-96c0-9e911ab745e9\", [{\"name\": \"counts\", \"x\": [\"Banglore\", \"Cochin\", \"Delhi\", \"Hyderabad\", \"Kolkata\", \"New Delhi\"], \"y\": [2871, 4537, 1265, 697, 381, 932], \"type\": \"bar\", \"uid\": \"1db5aa12-7973-4bbe-aba7-69cc81be1b0d\"}, {\"name\": \"Avg Price\", \"x\": [\"Banglore\", \"Cochin\", \"Delhi\", \"Hyderabad\", \"Kolkata\", \"New Delhi\"], \"y\": [9158.389411354929, 10539.43905664536, 5143.918577075099, 5059.708751793401, 4789.892388451443, 11917.716738197425], \"yaxis\": \"y2\", \"type\": \"scatter\", \"uid\": \"e4bd0168-ec26-40b2-a3fe-d6c188dca814\"}], {\"legend\": {\"orientation\": \"v\"}, \"title\": {\"text\": \"Counts of Destination by top-6 categories and mean target value\"}, \"xaxis\": {\"showgrid\": false, \"showline\": false, \"title\": {\"text\": \"Destination\"}, \"zeroline\": false}, \"yaxis\": {\"showgrid\": false, \"showline\": false, \"title\": {\"text\": \"Counts\"}, \"zeroline\": false}, \"yaxis2\": {\"overlaying\": \"y\", \"side\": \"right\", \"title\": {\"text\": \"Avg Price\"}}}, {\"showLink\": false, \"linkText\": \"Export to plot.ly\", \"plotlyServerURL\": \"https://plot.ly\"})});</script><script type=\"text/javascript\">window.addEventListener(\"resize\", function(){window._Plotly.Plots.resize(document.getElementById(\"b91e540c-3bfb-4b23-96c0-9e911ab745e9\"));});</script>"
      ],
      "text/vnd.plotly.v1+html": [
       "<div id=\"b91e540c-3bfb-4b23-96c0-9e911ab745e9\" style=\"height: 525px; width: 100%;\" class=\"plotly-graph-div\"></div><script type=\"text/javascript\">require([\"plotly\"], function(Plotly) { window.PLOTLYENV=window.PLOTLYENV || {};window.PLOTLYENV.BASE_URL=\"https://plot.ly\";Plotly.newPlot(\"b91e540c-3bfb-4b23-96c0-9e911ab745e9\", [{\"name\": \"counts\", \"x\": [\"Banglore\", \"Cochin\", \"Delhi\", \"Hyderabad\", \"Kolkata\", \"New Delhi\"], \"y\": [2871, 4537, 1265, 697, 381, 932], \"type\": \"bar\", \"uid\": \"1db5aa12-7973-4bbe-aba7-69cc81be1b0d\"}, {\"name\": \"Avg Price\", \"x\": [\"Banglore\", \"Cochin\", \"Delhi\", \"Hyderabad\", \"Kolkata\", \"New Delhi\"], \"y\": [9158.389411354929, 10539.43905664536, 5143.918577075099, 5059.708751793401, 4789.892388451443, 11917.716738197425], \"yaxis\": \"y2\", \"type\": \"scatter\", \"uid\": \"e4bd0168-ec26-40b2-a3fe-d6c188dca814\"}], {\"legend\": {\"orientation\": \"v\"}, \"title\": {\"text\": \"Counts of Destination by top-6 categories and mean target value\"}, \"xaxis\": {\"showgrid\": false, \"showline\": false, \"title\": {\"text\": \"Destination\"}, \"zeroline\": false}, \"yaxis\": {\"showgrid\": false, \"showline\": false, \"title\": {\"text\": \"Counts\"}, \"zeroline\": false}, \"yaxis2\": {\"overlaying\": \"y\", \"side\": \"right\", \"title\": {\"text\": \"Avg Price\"}}}, {\"showLink\": false, \"linkText\": \"Export to plot.ly\", \"plotlyServerURL\": \"https://plot.ly\"})});</script><script type=\"text/javascript\">window.addEventListener(\"resize\", function(){window._Plotly.Plots.resize(document.getElementById(\"b91e540c-3bfb-4b23-96c0-9e911ab745e9\"));});</script>"
      ]
     },
     "metadata": {},
     "output_type": "display_data"
    }
   ],
   "source": [
    "plot_cat('Destination')"
   ]
  },
  {
   "cell_type": "code",
   "execution_count": 356,
   "metadata": {},
   "outputs": [
    {
     "name": "stdout",
     "output_type": "stream",
     "text": [
      "Additional_Info has 10 unique values and type: object.\n",
      "No info                         0.781148\n",
      "In-flight meal not included     0.185528\n",
      "No check-in baggage included    0.029954\n",
      "1 Long layover                  0.001779\n",
      "Change airports                 0.000655\n",
      "Name: Additional_Info, dtype: float64\n"
     ]
    },
    {
     "data": {
      "application/vnd.plotly.v1+json": {
       "config": {
        "linkText": "Export to plot.ly",
        "plotlyServerURL": "https://plot.ly",
        "showLink": false
       },
       "data": [
        {
         "name": "counts",
         "type": "bar",
         "uid": "ef8e6789-d438-4b52-834b-22ded6158ecd",
         "x": [
          "1 Long layover",
          "1 Short layover",
          "2 Long layover",
          "Business class",
          "Change airports",
          "In-flight meal not included",
          "No Info",
          "No check-in baggage included",
          "No info",
          "Red-eye flight"
         ],
         "y": [
          19,
          1,
          1,
          4,
          7,
          1982,
          3,
          320,
          8345,
          1
         ]
        },
        {
         "name": "Avg Price",
         "type": "scatter",
         "uid": "3042444b-47a8-4330-977d-ca53095ac8aa",
         "x": [
          "1 Long layover",
          "1 Short layover",
          "2 Long layover",
          "Business class",
          "Change airports",
          "In-flight meal not included",
          "No Info",
          "No check-in baggage included",
          "No info",
          "Red-eye flight"
         ],
         "y": [
          22109.63157894737,
          26743,
          26480,
          56811.25,
          16800.714285714286,
          9471.834510595358,
          8044.666666666667,
          3645.15625,
          9141.320191731576,
          10873
         ],
         "yaxis": "y2"
        }
       ],
       "layout": {
        "legend": {
         "orientation": "v"
        },
        "title": {
         "text": "Counts of Additional_Info by top-10 categories and mean target value"
        },
        "xaxis": {
         "showgrid": false,
         "showline": false,
         "title": {
          "text": "Additional_Info"
         },
         "zeroline": false
        },
        "yaxis": {
         "showgrid": false,
         "showline": false,
         "title": {
          "text": "Counts"
         },
         "zeroline": false
        },
        "yaxis2": {
         "overlaying": "y",
         "side": "right",
         "title": {
          "text": "Avg Price"
         }
        }
       }
      },
      "text/html": [
       "<div id=\"3e03259a-765f-49c9-a2f1-b2ff85289265\" style=\"height: 525px; width: 100%;\" class=\"plotly-graph-div\"></div><script type=\"text/javascript\">require([\"plotly\"], function(Plotly) { window.PLOTLYENV=window.PLOTLYENV || {};window.PLOTLYENV.BASE_URL=\"https://plot.ly\";Plotly.newPlot(\"3e03259a-765f-49c9-a2f1-b2ff85289265\", [{\"name\": \"counts\", \"x\": [\"1 Long layover\", \"1 Short layover\", \"2 Long layover\", \"Business class\", \"Change airports\", \"In-flight meal not included\", \"No Info\", \"No check-in baggage included\", \"No info\", \"Red-eye flight\"], \"y\": [19, 1, 1, 4, 7, 1982, 3, 320, 8345, 1], \"type\": \"bar\", \"uid\": \"a9959472-c251-4430-906e-f910f1f3d4b3\"}, {\"name\": \"Avg Price\", \"x\": [\"1 Long layover\", \"1 Short layover\", \"2 Long layover\", \"Business class\", \"Change airports\", \"In-flight meal not included\", \"No Info\", \"No check-in baggage included\", \"No info\", \"Red-eye flight\"], \"y\": [22109.63157894737, 26743.0, 26480.0, 56811.25, 16800.714285714286, 9471.834510595358, 8044.666666666667, 3645.15625, 9141.320191731576, 10873.0], \"yaxis\": \"y2\", \"type\": \"scatter\", \"uid\": \"d7a1843c-32fc-4962-8992-eb5af1a8f350\"}], {\"legend\": {\"orientation\": \"v\"}, \"title\": {\"text\": \"Counts of Additional_Info by top-10 categories and mean target value\"}, \"xaxis\": {\"showgrid\": false, \"showline\": false, \"title\": {\"text\": \"Additional_Info\"}, \"zeroline\": false}, \"yaxis\": {\"showgrid\": false, \"showline\": false, \"title\": {\"text\": \"Counts\"}, \"zeroline\": false}, \"yaxis2\": {\"overlaying\": \"y\", \"side\": \"right\", \"title\": {\"text\": \"Avg Price\"}}}, {\"showLink\": false, \"linkText\": \"Export to plot.ly\", \"plotlyServerURL\": \"https://plot.ly\"})});</script><script type=\"text/javascript\">window.addEventListener(\"resize\", function(){window._Plotly.Plots.resize(document.getElementById(\"3e03259a-765f-49c9-a2f1-b2ff85289265\"));});</script>"
      ],
      "text/vnd.plotly.v1+html": [
       "<div id=\"3e03259a-765f-49c9-a2f1-b2ff85289265\" style=\"height: 525px; width: 100%;\" class=\"plotly-graph-div\"></div><script type=\"text/javascript\">require([\"plotly\"], function(Plotly) { window.PLOTLYENV=window.PLOTLYENV || {};window.PLOTLYENV.BASE_URL=\"https://plot.ly\";Plotly.newPlot(\"3e03259a-765f-49c9-a2f1-b2ff85289265\", [{\"name\": \"counts\", \"x\": [\"1 Long layover\", \"1 Short layover\", \"2 Long layover\", \"Business class\", \"Change airports\", \"In-flight meal not included\", \"No Info\", \"No check-in baggage included\", \"No info\", \"Red-eye flight\"], \"y\": [19, 1, 1, 4, 7, 1982, 3, 320, 8345, 1], \"type\": \"bar\", \"uid\": \"a9959472-c251-4430-906e-f910f1f3d4b3\"}, {\"name\": \"Avg Price\", \"x\": [\"1 Long layover\", \"1 Short layover\", \"2 Long layover\", \"Business class\", \"Change airports\", \"In-flight meal not included\", \"No Info\", \"No check-in baggage included\", \"No info\", \"Red-eye flight\"], \"y\": [22109.63157894737, 26743.0, 26480.0, 56811.25, 16800.714285714286, 9471.834510595358, 8044.666666666667, 3645.15625, 9141.320191731576, 10873.0], \"yaxis\": \"y2\", \"type\": \"scatter\", \"uid\": \"d7a1843c-32fc-4962-8992-eb5af1a8f350\"}], {\"legend\": {\"orientation\": \"v\"}, \"title\": {\"text\": \"Counts of Additional_Info by top-10 categories and mean target value\"}, \"xaxis\": {\"showgrid\": false, \"showline\": false, \"title\": {\"text\": \"Additional_Info\"}, \"zeroline\": false}, \"yaxis\": {\"showgrid\": false, \"showline\": false, \"title\": {\"text\": \"Counts\"}, \"zeroline\": false}, \"yaxis2\": {\"overlaying\": \"y\", \"side\": \"right\", \"title\": {\"text\": \"Avg Price\"}}}, {\"showLink\": false, \"linkText\": \"Export to plot.ly\", \"plotlyServerURL\": \"https://plot.ly\"})});</script><script type=\"text/javascript\">window.addEventListener(\"resize\", function(){window._Plotly.Plots.resize(document.getElementById(\"3e03259a-765f-49c9-a2f1-b2ff85289265\"));});</script>"
      ]
     },
     "metadata": {},
     "output_type": "display_data"
    }
   ],
   "source": [
    "plot_cat('Additional_Info')"
   ]
  },
  {
   "cell_type": "code",
   "execution_count": null,
   "metadata": {},
   "outputs": [],
   "source": [
    "#Figuring out with Data Transformations here!"
   ]
  },
  {
   "cell_type": "code",
   "execution_count": 382,
   "metadata": {},
   "outputs": [
    {
     "data": {
      "text/plain": [
       "Jet Airways                          3849\n",
       "IndiGo                               2053\n",
       "Air India                            1752\n",
       "Multiple carriers                    1196\n",
       "SpiceJet                              818\n",
       "Vistara                               479\n",
       "Air Asia                              319\n",
       "GoAir                                 194\n",
       "Multiple carriers Premium economy      13\n",
       "Jet Airways Business                    6\n",
       "Vistara Premium economy                 3\n",
       "Trujet                                  1\n",
       "Name: Airline, dtype: int64"
      ]
     },
     "execution_count": 382,
     "metadata": {},
     "output_type": "execute_result"
    }
   ],
   "source": [
    "raw.Airline.value_counts()"
   ]
  },
  {
   "cell_type": "code",
   "execution_count": 383,
   "metadata": {},
   "outputs": [
    {
     "data": {
      "text/plain": [
       "Delhi       4537\n",
       "Kolkata     2871\n",
       "Banglore    2197\n",
       "Mumbai       697\n",
       "Chennai      381\n",
       "Name: Source, dtype: int64"
      ]
     },
     "execution_count": 383,
     "metadata": {},
     "output_type": "execute_result"
    }
   ],
   "source": [
    "raw.Source.value_counts() "
   ]
  },
  {
   "cell_type": "code",
   "execution_count": 384,
   "metadata": {},
   "outputs": [
    {
     "data": {
      "text/plain": [
       "Cochin       4537\n",
       "Banglore     2871\n",
       "Delhi        1265\n",
       "New Delhi     932\n",
       "Hyderabad     697\n",
       "Kolkata       381\n",
       "Name: Destination, dtype: int64"
      ]
     },
     "execution_count": 384,
     "metadata": {},
     "output_type": "execute_result"
    }
   ],
   "source": [
    "raw.Destination.value_counts()"
   ]
  },
  {
   "cell_type": "code",
   "execution_count": 385,
   "metadata": {},
   "outputs": [
    {
     "data": {
      "text/plain": [
       "DEL → BOM → COK          2376\n",
       "BLR → DEL                1552\n",
       "CCU → BOM → BLR           979\n",
       "CCU → BLR                 724\n",
       "BOM → HYD                 621\n",
       "CCU → DEL → BLR           565\n",
       "BLR → BOM → DEL           402\n",
       "MAA → CCU                 381\n",
       "DEL → HYD → COK           326\n",
       "DEL → JAI → BOM → COK     240\n",
       "Name: Route, dtype: int64"
      ]
     },
     "execution_count": 385,
     "metadata": {},
     "output_type": "execute_result"
    }
   ],
   "source": [
    "raw.Route.value_counts().head(10) \n",
    "#This is a tricky one now,skip this in initial stages, since Total_Stops is telling us the same thing!\n",
    "#Value _counts is 128!"
   ]
  },
  {
   "cell_type": "code",
   "execution_count": 387,
   "metadata": {},
   "outputs": [
    {
     "data": {
      "text/plain": [
       "No info                         8345\n",
       "In-flight meal not included     1982\n",
       "No check-in baggage included     320\n",
       "1 Long layover                    19\n",
       "Change airports                    7\n",
       "Business class                     4\n",
       "No Info                            3\n",
       "2 Long layover                     1\n",
       "Red-eye flight                     1\n",
       "1 Short layover                    1\n",
       "Name: Additional_Info, dtype: int64"
      ]
     },
     "execution_count": 387,
     "metadata": {},
     "output_type": "execute_result"
    }
   ],
   "source": [
    "raw.Additional_Info.value_counts()"
   ]
  },
  {
   "cell_type": "code",
   "execution_count": 24,
   "metadata": {},
   "outputs": [],
   "source": [
    "#Dealing, with departure, arrival by making session bins!"
   ]
  },
  {
   "cell_type": "code",
   "execution_count": 388,
   "metadata": {},
   "outputs": [
    {
     "data": {
      "text/plain": [
       "1 stop      5625\n",
       "non-stop    3491\n",
       "2 stops     1520\n",
       "3 stops       45\n",
       "4 stops        1\n",
       "Name: Total_Stops, dtype: int64"
      ]
     },
     "execution_count": 388,
     "metadata": {},
     "output_type": "execute_result"
    }
   ],
   "source": [
    " raw.Total_Stops.value_counts() "
   ]
  },
  {
   "cell_type": "code",
   "execution_count": 389,
   "metadata": {},
   "outputs": [
    {
     "data": {
      "text/html": [
       "<div>\n",
       "<style scoped>\n",
       "    .dataframe tbody tr th:only-of-type {\n",
       "        vertical-align: middle;\n",
       "    }\n",
       "\n",
       "    .dataframe tbody tr th {\n",
       "        vertical-align: top;\n",
       "    }\n",
       "\n",
       "    .dataframe thead th {\n",
       "        text-align: right;\n",
       "    }\n",
       "</style>\n",
       "<table border=\"1\" class=\"dataframe\">\n",
       "  <thead>\n",
       "    <tr style=\"text-align: right;\">\n",
       "      <th></th>\n",
       "      <th>Airline</th>\n",
       "      <th>Date_of_Journey</th>\n",
       "      <th>Source</th>\n",
       "      <th>Destination</th>\n",
       "      <th>Route</th>\n",
       "      <th>Dep_Time</th>\n",
       "      <th>Arrival_Time</th>\n",
       "      <th>Duration</th>\n",
       "      <th>Total_Stops</th>\n",
       "      <th>Additional_Info</th>\n",
       "      <th>Price</th>\n",
       "    </tr>\n",
       "  </thead>\n",
       "  <tbody>\n",
       "    <tr>\n",
       "      <th>0</th>\n",
       "      <td>IndiGo</td>\n",
       "      <td>2019-03-24</td>\n",
       "      <td>Banglore</td>\n",
       "      <td>New Delhi</td>\n",
       "      <td>BLR → DEL</td>\n",
       "      <td>2019-03-13 22:20:00</td>\n",
       "      <td>2019-03-22 01:10:00</td>\n",
       "      <td>2h 50m</td>\n",
       "      <td>non-stop</td>\n",
       "      <td>No info</td>\n",
       "      <td>3897</td>\n",
       "    </tr>\n",
       "    <tr>\n",
       "      <th>1</th>\n",
       "      <td>Air India</td>\n",
       "      <td>2019-01-05</td>\n",
       "      <td>Kolkata</td>\n",
       "      <td>Banglore</td>\n",
       "      <td>CCU → IXR → BBI → BLR</td>\n",
       "      <td>2019-03-13 05:50:00</td>\n",
       "      <td>2019-03-13 13:15:00</td>\n",
       "      <td>7h 25m</td>\n",
       "      <td>2 stops</td>\n",
       "      <td>No info</td>\n",
       "      <td>7662</td>\n",
       "    </tr>\n",
       "    <tr>\n",
       "      <th>2</th>\n",
       "      <td>Jet Airways</td>\n",
       "      <td>2019-09-06</td>\n",
       "      <td>Delhi</td>\n",
       "      <td>Cochin</td>\n",
       "      <td>DEL → LKO → BOM → COK</td>\n",
       "      <td>2019-03-13 09:25:00</td>\n",
       "      <td>2019-06-10 04:25:00</td>\n",
       "      <td>19h</td>\n",
       "      <td>2 stops</td>\n",
       "      <td>No info</td>\n",
       "      <td>13882</td>\n",
       "    </tr>\n",
       "    <tr>\n",
       "      <th>3</th>\n",
       "      <td>IndiGo</td>\n",
       "      <td>2019-12-05</td>\n",
       "      <td>Kolkata</td>\n",
       "      <td>Banglore</td>\n",
       "      <td>CCU → NAG → BLR</td>\n",
       "      <td>2019-03-13 18:05:00</td>\n",
       "      <td>2019-03-13 23:30:00</td>\n",
       "      <td>5h 25m</td>\n",
       "      <td>1 stop</td>\n",
       "      <td>No info</td>\n",
       "      <td>6218</td>\n",
       "    </tr>\n",
       "    <tr>\n",
       "      <th>4</th>\n",
       "      <td>IndiGo</td>\n",
       "      <td>2019-01-03</td>\n",
       "      <td>Banglore</td>\n",
       "      <td>New Delhi</td>\n",
       "      <td>BLR → NAG → DEL</td>\n",
       "      <td>2019-03-13 16:50:00</td>\n",
       "      <td>2019-03-13 21:35:00</td>\n",
       "      <td>4h 45m</td>\n",
       "      <td>1 stop</td>\n",
       "      <td>No info</td>\n",
       "      <td>13302</td>\n",
       "    </tr>\n",
       "  </tbody>\n",
       "</table>\n",
       "</div>"
      ],
      "text/plain": [
       "       Airline Date_of_Journey    Source Destination                  Route  \\\n",
       "0       IndiGo      2019-03-24  Banglore   New Delhi              BLR → DEL   \n",
       "1    Air India      2019-01-05   Kolkata    Banglore  CCU → IXR → BBI → BLR   \n",
       "2  Jet Airways      2019-09-06     Delhi      Cochin  DEL → LKO → BOM → COK   \n",
       "3       IndiGo      2019-12-05   Kolkata    Banglore        CCU → NAG → BLR   \n",
       "4       IndiGo      2019-01-03  Banglore   New Delhi        BLR → NAG → DEL   \n",
       "\n",
       "             Dep_Time        Arrival_Time Duration Total_Stops  \\\n",
       "0 2019-03-13 22:20:00 2019-03-22 01:10:00   2h 50m    non-stop   \n",
       "1 2019-03-13 05:50:00 2019-03-13 13:15:00   7h 25m     2 stops   \n",
       "2 2019-03-13 09:25:00 2019-06-10 04:25:00      19h     2 stops   \n",
       "3 2019-03-13 18:05:00 2019-03-13 23:30:00   5h 25m      1 stop   \n",
       "4 2019-03-13 16:50:00 2019-03-13 21:35:00   4h 45m      1 stop   \n",
       "\n",
       "  Additional_Info  Price  \n",
       "0         No info   3897  \n",
       "1         No info   7662  \n",
       "2         No info  13882  \n",
       "3         No info   6218  \n",
       "4         No info  13302  "
      ]
     },
     "metadata": {},
     "output_type": "display_data"
    }
   ],
   "source": [
    "display_all(raw.head())"
   ]
  },
  {
   "cell_type": "code",
   "execution_count": null,
   "metadata": {},
   "outputs": [],
   "source": []
  },
  {
   "cell_type": "markdown",
   "metadata": {},
   "source": [
    "# Data Cleaning"
   ]
  },
  {
   "cell_type": "code",
   "execution_count": null,
   "metadata": {},
   "outputs": [],
   "source": [
    "#For training"
   ]
  },
  {
   "cell_type": "code",
   "execution_count": 525,
   "metadata": {},
   "outputs": [],
   "source": [
    "raw['Duration_Minutes'] = pd.to_timedelta(raw['Duration'])"
   ]
  },
  {
   "cell_type": "code",
   "execution_count": 526,
   "metadata": {},
   "outputs": [
    {
     "data": {
      "text/plain": [
       "dtype('<m8[ns]')"
      ]
     },
     "execution_count": 526,
     "metadata": {},
     "output_type": "execute_result"
    }
   ],
   "source": [
    "raw['Duration_Minutes'].dtype"
   ]
  },
  {
   "cell_type": "code",
   "execution_count": 527,
   "metadata": {},
   "outputs": [],
   "source": [
    "raw.Duration_Minutes;"
   ]
  },
  {
   "cell_type": "code",
   "execution_count": 528,
   "metadata": {},
   "outputs": [],
   "source": [
    "raw['Dur_In_Minutes'] = raw['Duration_Minutes'].astype('timedelta64[m]')"
   ]
  },
  {
   "cell_type": "code",
   "execution_count": null,
   "metadata": {},
   "outputs": [],
   "source": [
    "#For test"
   ]
  },
  {
   "cell_type": "code",
   "execution_count": 529,
   "metadata": {},
   "outputs": [],
   "source": [
    "test['Duration_Minutes'] = pd.to_timedelta(test['Duration'])"
   ]
  },
  {
   "cell_type": "code",
   "execution_count": 530,
   "metadata": {},
   "outputs": [],
   "source": [
    "test.Duration_Minutes;"
   ]
  },
  {
   "cell_type": "code",
   "execution_count": 531,
   "metadata": {},
   "outputs": [],
   "source": [
    "test['Dur_In_Minutes'] = test['Duration_Minutes'].astype('timedelta64[m]')"
   ]
  },
  {
   "cell_type": "code",
   "execution_count": 397,
   "metadata": {},
   "outputs": [
    {
     "data": {
      "text/html": [
       "<div>\n",
       "<style scoped>\n",
       "    .dataframe tbody tr th:only-of-type {\n",
       "        vertical-align: middle;\n",
       "    }\n",
       "\n",
       "    .dataframe tbody tr th {\n",
       "        vertical-align: top;\n",
       "    }\n",
       "\n",
       "    .dataframe thead th {\n",
       "        text-align: right;\n",
       "    }\n",
       "</style>\n",
       "<table border=\"1\" class=\"dataframe\">\n",
       "  <thead>\n",
       "    <tr style=\"text-align: right;\">\n",
       "      <th></th>\n",
       "      <th>Airline</th>\n",
       "      <th>Date_of_Journey</th>\n",
       "      <th>Source</th>\n",
       "      <th>Destination</th>\n",
       "      <th>Route</th>\n",
       "      <th>Dep_Time</th>\n",
       "      <th>Arrival_Time</th>\n",
       "      <th>Duration</th>\n",
       "      <th>Total_Stops</th>\n",
       "      <th>Additional_Info</th>\n",
       "      <th>Price</th>\n",
       "      <th>Duration_Minutes</th>\n",
       "      <th>Dur_In_Minutes</th>\n",
       "    </tr>\n",
       "  </thead>\n",
       "  <tbody>\n",
       "    <tr>\n",
       "      <th>0</th>\n",
       "      <td>IndiGo</td>\n",
       "      <td>2019-03-24</td>\n",
       "      <td>Banglore</td>\n",
       "      <td>New Delhi</td>\n",
       "      <td>BLR → DEL</td>\n",
       "      <td>2019-03-13 22:20:00</td>\n",
       "      <td>2019-03-22 01:10:00</td>\n",
       "      <td>2h 50m</td>\n",
       "      <td>non-stop</td>\n",
       "      <td>No info</td>\n",
       "      <td>3897</td>\n",
       "      <td>02:50:00</td>\n",
       "      <td>170.0</td>\n",
       "    </tr>\n",
       "    <tr>\n",
       "      <th>1</th>\n",
       "      <td>Air India</td>\n",
       "      <td>2019-01-05</td>\n",
       "      <td>Kolkata</td>\n",
       "      <td>Banglore</td>\n",
       "      <td>CCU → IXR → BBI → BLR</td>\n",
       "      <td>2019-03-13 05:50:00</td>\n",
       "      <td>2019-03-13 13:15:00</td>\n",
       "      <td>7h 25m</td>\n",
       "      <td>2 stops</td>\n",
       "      <td>No info</td>\n",
       "      <td>7662</td>\n",
       "      <td>07:25:00</td>\n",
       "      <td>445.0</td>\n",
       "    </tr>\n",
       "    <tr>\n",
       "      <th>2</th>\n",
       "      <td>Jet Airways</td>\n",
       "      <td>2019-09-06</td>\n",
       "      <td>Delhi</td>\n",
       "      <td>Cochin</td>\n",
       "      <td>DEL → LKO → BOM → COK</td>\n",
       "      <td>2019-03-13 09:25:00</td>\n",
       "      <td>2019-06-10 04:25:00</td>\n",
       "      <td>19h</td>\n",
       "      <td>2 stops</td>\n",
       "      <td>No info</td>\n",
       "      <td>13882</td>\n",
       "      <td>19:00:00</td>\n",
       "      <td>1140.0</td>\n",
       "    </tr>\n",
       "  </tbody>\n",
       "</table>\n",
       "</div>"
      ],
      "text/plain": [
       "       Airline Date_of_Journey    Source Destination                  Route  \\\n",
       "0       IndiGo      2019-03-24  Banglore   New Delhi              BLR → DEL   \n",
       "1    Air India      2019-01-05   Kolkata    Banglore  CCU → IXR → BBI → BLR   \n",
       "2  Jet Airways      2019-09-06     Delhi      Cochin  DEL → LKO → BOM → COK   \n",
       "\n",
       "             Dep_Time        Arrival_Time Duration Total_Stops  \\\n",
       "0 2019-03-13 22:20:00 2019-03-22 01:10:00   2h 50m    non-stop   \n",
       "1 2019-03-13 05:50:00 2019-03-13 13:15:00   7h 25m     2 stops   \n",
       "2 2019-03-13 09:25:00 2019-06-10 04:25:00      19h     2 stops   \n",
       "\n",
       "  Additional_Info  Price Duration_Minutes  Dur_In_Minutes  \n",
       "0         No info   3897         02:50:00           170.0  \n",
       "1         No info   7662         07:25:00           445.0  \n",
       "2         No info  13882         19:00:00          1140.0  "
      ]
     },
     "execution_count": 397,
     "metadata": {},
     "output_type": "execute_result"
    }
   ],
   "source": [
    "raw.head(3)"
   ]
  },
  {
   "cell_type": "code",
   "execution_count": 398,
   "metadata": {},
   "outputs": [
    {
     "data": {
      "text/html": [
       "<div>\n",
       "<style scoped>\n",
       "    .dataframe tbody tr th:only-of-type {\n",
       "        vertical-align: middle;\n",
       "    }\n",
       "\n",
       "    .dataframe tbody tr th {\n",
       "        vertical-align: top;\n",
       "    }\n",
       "\n",
       "    .dataframe thead th {\n",
       "        text-align: right;\n",
       "    }\n",
       "</style>\n",
       "<table border=\"1\" class=\"dataframe\">\n",
       "  <thead>\n",
       "    <tr style=\"text-align: right;\">\n",
       "      <th></th>\n",
       "      <th>Airline</th>\n",
       "      <th>Date_of_Journey</th>\n",
       "      <th>Source</th>\n",
       "      <th>Destination</th>\n",
       "      <th>Route</th>\n",
       "      <th>Dep_Time</th>\n",
       "      <th>Arrival_Time</th>\n",
       "      <th>Duration</th>\n",
       "      <th>Total_Stops</th>\n",
       "      <th>Additional_Info</th>\n",
       "      <th>Duration_Minutes</th>\n",
       "      <th>Dur_In_Minutes</th>\n",
       "    </tr>\n",
       "  </thead>\n",
       "  <tbody>\n",
       "    <tr>\n",
       "      <th>0</th>\n",
       "      <td>Jet Airways</td>\n",
       "      <td>2019-06-06</td>\n",
       "      <td>Delhi</td>\n",
       "      <td>Cochin</td>\n",
       "      <td>DEL → BOM → COK</td>\n",
       "      <td>2019-03-13 17:30:00</td>\n",
       "      <td>2019-06-07 04:25:00</td>\n",
       "      <td>10h 55m</td>\n",
       "      <td>1 stop</td>\n",
       "      <td>No info</td>\n",
       "      <td>10:55:00</td>\n",
       "      <td>655.0</td>\n",
       "    </tr>\n",
       "    <tr>\n",
       "      <th>1</th>\n",
       "      <td>IndiGo</td>\n",
       "      <td>2019-12-05</td>\n",
       "      <td>Kolkata</td>\n",
       "      <td>Banglore</td>\n",
       "      <td>CCU → MAA → BLR</td>\n",
       "      <td>2019-03-13 06:20:00</td>\n",
       "      <td>2019-03-13 10:20:00</td>\n",
       "      <td>4h</td>\n",
       "      <td>1 stop</td>\n",
       "      <td>No info</td>\n",
       "      <td>04:00:00</td>\n",
       "      <td>240.0</td>\n",
       "    </tr>\n",
       "    <tr>\n",
       "      <th>2</th>\n",
       "      <td>Jet Airways</td>\n",
       "      <td>2019-05-21</td>\n",
       "      <td>Delhi</td>\n",
       "      <td>Cochin</td>\n",
       "      <td>DEL → BOM → COK</td>\n",
       "      <td>2019-03-13 19:15:00</td>\n",
       "      <td>2019-05-22 19:00:00</td>\n",
       "      <td>23h 45m</td>\n",
       "      <td>1 stop</td>\n",
       "      <td>In-flight meal not included</td>\n",
       "      <td>23:45:00</td>\n",
       "      <td>1425.0</td>\n",
       "    </tr>\n",
       "  </tbody>\n",
       "</table>\n",
       "</div>"
      ],
      "text/plain": [
       "       Airline Date_of_Journey   Source Destination            Route  \\\n",
       "0  Jet Airways      2019-06-06    Delhi      Cochin  DEL → BOM → COK   \n",
       "1       IndiGo      2019-12-05  Kolkata    Banglore  CCU → MAA → BLR   \n",
       "2  Jet Airways      2019-05-21    Delhi      Cochin  DEL → BOM → COK   \n",
       "\n",
       "             Dep_Time        Arrival_Time Duration Total_Stops  \\\n",
       "0 2019-03-13 17:30:00 2019-06-07 04:25:00  10h 55m      1 stop   \n",
       "1 2019-03-13 06:20:00 2019-03-13 10:20:00       4h      1 stop   \n",
       "2 2019-03-13 19:15:00 2019-05-22 19:00:00  23h 45m      1 stop   \n",
       "\n",
       "               Additional_Info Duration_Minutes  Dur_In_Minutes  \n",
       "0                      No info         10:55:00           655.0  \n",
       "1                      No info         04:00:00           240.0  \n",
       "2  In-flight meal not included         23:45:00          1425.0  "
      ]
     },
     "execution_count": 398,
     "metadata": {},
     "output_type": "execute_result"
    }
   ],
   "source": [
    "test.head(3)"
   ]
  },
  {
   "cell_type": "code",
   "execution_count": null,
   "metadata": {},
   "outputs": [],
   "source": [
    "#Dealing with the 5min outlier that we found out earlier!"
   ]
  },
  {
   "cell_type": "code",
   "execution_count": 399,
   "metadata": {},
   "outputs": [
    {
     "data": {
      "text/html": [
       "<div>\n",
       "<style scoped>\n",
       "    .dataframe tbody tr th:only-of-type {\n",
       "        vertical-align: middle;\n",
       "    }\n",
       "\n",
       "    .dataframe tbody tr th {\n",
       "        vertical-align: top;\n",
       "    }\n",
       "\n",
       "    .dataframe thead th {\n",
       "        text-align: right;\n",
       "    }\n",
       "</style>\n",
       "<table border=\"1\" class=\"dataframe\">\n",
       "  <thead>\n",
       "    <tr style=\"text-align: right;\">\n",
       "      <th></th>\n",
       "      <th>Airline</th>\n",
       "      <th>Date_of_Journey</th>\n",
       "      <th>Source</th>\n",
       "      <th>Destination</th>\n",
       "      <th>Route</th>\n",
       "      <th>Dep_Time</th>\n",
       "      <th>Arrival_Time</th>\n",
       "      <th>Duration</th>\n",
       "      <th>Total_Stops</th>\n",
       "      <th>Additional_Info</th>\n",
       "      <th>Price</th>\n",
       "      <th>Duration_Minutes</th>\n",
       "      <th>Dur_In_Minutes</th>\n",
       "    </tr>\n",
       "  </thead>\n",
       "  <tbody>\n",
       "    <tr>\n",
       "      <th>6474</th>\n",
       "      <td>Air India</td>\n",
       "      <td>2019-06-03</td>\n",
       "      <td>Mumbai</td>\n",
       "      <td>Hyderabad</td>\n",
       "      <td>BOM → GOI → PNQ → HYD</td>\n",
       "      <td>2019-03-13 16:50:00</td>\n",
       "      <td>2019-03-13 16:55:00</td>\n",
       "      <td>5m</td>\n",
       "      <td>2 stops</td>\n",
       "      <td>No info</td>\n",
       "      <td>17327</td>\n",
       "      <td>00:05:00</td>\n",
       "      <td>5.0</td>\n",
       "    </tr>\n",
       "  </tbody>\n",
       "</table>\n",
       "</div>"
      ],
      "text/plain": [
       "        Airline Date_of_Journey  Source Destination                  Route  \\\n",
       "6474  Air India      2019-06-03  Mumbai   Hyderabad  BOM → GOI → PNQ → HYD   \n",
       "\n",
       "                Dep_Time        Arrival_Time Duration Total_Stops  \\\n",
       "6474 2019-03-13 16:50:00 2019-03-13 16:55:00       5m     2 stops   \n",
       "\n",
       "     Additional_Info  Price Duration_Minutes  Dur_In_Minutes  \n",
       "6474         No info  17327         00:05:00             5.0  "
      ]
     },
     "execution_count": 399,
     "metadata": {},
     "output_type": "execute_result"
    }
   ],
   "source": [
    "raw[raw['Dur_In_Minutes'] < 30]"
   ]
  },
  {
   "cell_type": "code",
   "execution_count": 400,
   "metadata": {},
   "outputs": [
    {
     "data": {
      "text/html": [
       "<div>\n",
       "<style scoped>\n",
       "    .dataframe tbody tr th:only-of-type {\n",
       "        vertical-align: middle;\n",
       "    }\n",
       "\n",
       "    .dataframe tbody tr th {\n",
       "        vertical-align: top;\n",
       "    }\n",
       "\n",
       "    .dataframe thead th {\n",
       "        text-align: right;\n",
       "    }\n",
       "</style>\n",
       "<table border=\"1\" class=\"dataframe\">\n",
       "  <thead>\n",
       "    <tr style=\"text-align: right;\">\n",
       "      <th></th>\n",
       "      <th>Airline</th>\n",
       "      <th>Date_of_Journey</th>\n",
       "      <th>Source</th>\n",
       "      <th>Destination</th>\n",
       "      <th>Route</th>\n",
       "      <th>Dep_Time</th>\n",
       "      <th>Arrival_Time</th>\n",
       "      <th>Duration</th>\n",
       "      <th>Total_Stops</th>\n",
       "      <th>Additional_Info</th>\n",
       "      <th>Duration_Minutes</th>\n",
       "      <th>Dur_In_Minutes</th>\n",
       "    </tr>\n",
       "  </thead>\n",
       "  <tbody>\n",
       "    <tr>\n",
       "      <th>2660</th>\n",
       "      <td>Air India</td>\n",
       "      <td>2019-12-03</td>\n",
       "      <td>Mumbai</td>\n",
       "      <td>Hyderabad</td>\n",
       "      <td>BOM → GOI → PNQ → HYD</td>\n",
       "      <td>2019-03-13 16:50:00</td>\n",
       "      <td>2019-03-13 16:55:00</td>\n",
       "      <td>5m</td>\n",
       "      <td>2 stops</td>\n",
       "      <td>No info</td>\n",
       "      <td>00:05:00</td>\n",
       "      <td>5.0</td>\n",
       "    </tr>\n",
       "  </tbody>\n",
       "</table>\n",
       "</div>"
      ],
      "text/plain": [
       "        Airline Date_of_Journey  Source Destination                  Route  \\\n",
       "2660  Air India      2019-12-03  Mumbai   Hyderabad  BOM → GOI → PNQ → HYD   \n",
       "\n",
       "                Dep_Time        Arrival_Time Duration Total_Stops  \\\n",
       "2660 2019-03-13 16:50:00 2019-03-13 16:55:00       5m     2 stops   \n",
       "\n",
       "     Additional_Info Duration_Minutes  Dur_In_Minutes  \n",
       "2660         No info         00:05:00             5.0  "
      ]
     },
     "execution_count": 400,
     "metadata": {},
     "output_type": "execute_result"
    }
   ],
   "source": [
    "test[test['Dur_In_Minutes'] < 30]"
   ]
  },
  {
   "cell_type": "code",
   "execution_count": 532,
   "metadata": {},
   "outputs": [
    {
     "data": {
      "text/plain": [
       "520.0"
      ]
     },
     "execution_count": 532,
     "metadata": {},
     "output_type": "execute_result"
    }
   ],
   "source": [
    "raw.Dur_In_Minutes.median()"
   ]
  },
  {
   "cell_type": "code",
   "execution_count": 533,
   "metadata": {},
   "outputs": [],
   "source": [
    "raw.at[6474, 'Dur_In_Minutes'] = raw.Dur_In_Minutes.median()"
   ]
  },
  {
   "cell_type": "code",
   "execution_count": 534,
   "metadata": {},
   "outputs": [
    {
     "data": {
      "text/html": [
       "<div>\n",
       "<style scoped>\n",
       "    .dataframe tbody tr th:only-of-type {\n",
       "        vertical-align: middle;\n",
       "    }\n",
       "\n",
       "    .dataframe tbody tr th {\n",
       "        vertical-align: top;\n",
       "    }\n",
       "\n",
       "    .dataframe thead th {\n",
       "        text-align: right;\n",
       "    }\n",
       "</style>\n",
       "<table border=\"1\" class=\"dataframe\">\n",
       "  <thead>\n",
       "    <tr style=\"text-align: right;\">\n",
       "      <th></th>\n",
       "      <th>Airline</th>\n",
       "      <th>Date_of_Journey</th>\n",
       "      <th>Source</th>\n",
       "      <th>Destination</th>\n",
       "      <th>Route</th>\n",
       "      <th>Dep_Time</th>\n",
       "      <th>Arrival_Time</th>\n",
       "      <th>Duration</th>\n",
       "      <th>Total_Stops</th>\n",
       "      <th>Additional_Info</th>\n",
       "      <th>Price</th>\n",
       "      <th>Duration_Minutes</th>\n",
       "      <th>Dur_In_Minutes</th>\n",
       "    </tr>\n",
       "  </thead>\n",
       "  <tbody>\n",
       "  </tbody>\n",
       "</table>\n",
       "</div>"
      ],
      "text/plain": [
       "Empty DataFrame\n",
       "Columns: [Airline, Date_of_Journey, Source, Destination, Route, Dep_Time, Arrival_Time, Duration, Total_Stops, Additional_Info, Price, Duration_Minutes, Dur_In_Minutes]\n",
       "Index: []"
      ]
     },
     "execution_count": 534,
     "metadata": {},
     "output_type": "execute_result"
    }
   ],
   "source": [
    "raw[raw['Dur_In_Minutes'] < 30] #Done!"
   ]
  },
  {
   "cell_type": "code",
   "execution_count": 234,
   "metadata": {},
   "outputs": [],
   "source": [
    "#Same for test data!"
   ]
  },
  {
   "cell_type": "code",
   "execution_count": 535,
   "metadata": {},
   "outputs": [
    {
     "data": {
      "text/plain": [
       "520.0"
      ]
     },
     "execution_count": 535,
     "metadata": {},
     "output_type": "execute_result"
    }
   ],
   "source": [
    "test.Dur_In_Minutes.median()"
   ]
  },
  {
   "cell_type": "code",
   "execution_count": 536,
   "metadata": {},
   "outputs": [],
   "source": [
    "test.at[2660, 'Dur_In_Minutes'] = test.Dur_In_Minutes.median()"
   ]
  },
  {
   "cell_type": "code",
   "execution_count": 537,
   "metadata": {},
   "outputs": [
    {
     "data": {
      "text/html": [
       "<div>\n",
       "<style scoped>\n",
       "    .dataframe tbody tr th:only-of-type {\n",
       "        vertical-align: middle;\n",
       "    }\n",
       "\n",
       "    .dataframe tbody tr th {\n",
       "        vertical-align: top;\n",
       "    }\n",
       "\n",
       "    .dataframe thead th {\n",
       "        text-align: right;\n",
       "    }\n",
       "</style>\n",
       "<table border=\"1\" class=\"dataframe\">\n",
       "  <thead>\n",
       "    <tr style=\"text-align: right;\">\n",
       "      <th></th>\n",
       "      <th>Airline</th>\n",
       "      <th>Date_of_Journey</th>\n",
       "      <th>Source</th>\n",
       "      <th>Destination</th>\n",
       "      <th>Route</th>\n",
       "      <th>Dep_Time</th>\n",
       "      <th>Arrival_Time</th>\n",
       "      <th>Duration</th>\n",
       "      <th>Total_Stops</th>\n",
       "      <th>Additional_Info</th>\n",
       "      <th>Duration_Minutes</th>\n",
       "      <th>Dur_In_Minutes</th>\n",
       "    </tr>\n",
       "  </thead>\n",
       "  <tbody>\n",
       "  </tbody>\n",
       "</table>\n",
       "</div>"
      ],
      "text/plain": [
       "Empty DataFrame\n",
       "Columns: [Airline, Date_of_Journey, Source, Destination, Route, Dep_Time, Arrival_Time, Duration, Total_Stops, Additional_Info, Duration_Minutes, Dur_In_Minutes]\n",
       "Index: []"
      ]
     },
     "execution_count": 537,
     "metadata": {},
     "output_type": "execute_result"
    }
   ],
   "source": [
    "test[test['Dur_In_Minutes'] < 30]"
   ]
  },
  {
   "cell_type": "code",
   "execution_count": null,
   "metadata": {},
   "outputs": [],
   "source": []
  },
  {
   "cell_type": "code",
   "execution_count": 127,
   "metadata": {},
   "outputs": [],
   "source": [
    "#Dealing with arrival and departure times!"
   ]
  },
  {
   "cell_type": "code",
   "execution_count": 538,
   "metadata": {},
   "outputs": [],
   "source": [
    "raw['session_dep'] = pd.cut(raw.Dep_Time.dt.hour,[0,6,12,18,24],labels=['Night','Morning','Afternoon','Evening']);"
   ]
  },
  {
   "cell_type": "code",
   "execution_count": 539,
   "metadata": {},
   "outputs": [],
   "source": [
    "raw['session_arr'] = pd.cut(raw.Arrival_Time.dt.hour,[0,6,12,18,24],labels=['Night','Morning','Afternoon','Evening']);"
   ]
  },
  {
   "cell_type": "code",
   "execution_count": null,
   "metadata": {},
   "outputs": [],
   "source": [
    "#For Test"
   ]
  },
  {
   "cell_type": "code",
   "execution_count": 540,
   "metadata": {},
   "outputs": [],
   "source": [
    "test['session_dep'] = pd.cut(test.Dep_Time.dt.hour,[0,6,12,18,24],labels=['Night','Morning','Afternoon','Evening']);"
   ]
  },
  {
   "cell_type": "code",
   "execution_count": 541,
   "metadata": {},
   "outputs": [],
   "source": [
    "test['session_arr'] = pd.cut(test.Arrival_Time.dt.hour,[0,6,12,18,24],labels=['Night','Morning','Afternoon','Evening']);"
   ]
  },
  {
   "cell_type": "code",
   "execution_count": 25,
   "metadata": {},
   "outputs": [
    {
     "data": {
      "text/html": [
       "<div>\n",
       "<style scoped>\n",
       "    .dataframe tbody tr th:only-of-type {\n",
       "        vertical-align: middle;\n",
       "    }\n",
       "\n",
       "    .dataframe tbody tr th {\n",
       "        vertical-align: top;\n",
       "    }\n",
       "\n",
       "    .dataframe thead th {\n",
       "        text-align: right;\n",
       "    }\n",
       "</style>\n",
       "<table border=\"1\" class=\"dataframe\">\n",
       "  <thead>\n",
       "    <tr style=\"text-align: right;\">\n",
       "      <th></th>\n",
       "      <th>Airline</th>\n",
       "      <th>Date_of_Journey</th>\n",
       "      <th>Source</th>\n",
       "      <th>Destination</th>\n",
       "      <th>Route</th>\n",
       "      <th>Dep_Time</th>\n",
       "      <th>Arrival_Time</th>\n",
       "      <th>Duration</th>\n",
       "      <th>Total_Stops</th>\n",
       "      <th>Additional_Info</th>\n",
       "      <th>Price</th>\n",
       "      <th>Duration_Minutes</th>\n",
       "      <th>Dur_In_Minutes</th>\n",
       "      <th>session_dep</th>\n",
       "      <th>session_arr</th>\n",
       "    </tr>\n",
       "  </thead>\n",
       "  <tbody>\n",
       "    <tr>\n",
       "      <th>0</th>\n",
       "      <td>IndiGo</td>\n",
       "      <td>2019-03-24</td>\n",
       "      <td>Banglore</td>\n",
       "      <td>New Delhi</td>\n",
       "      <td>BLR → DEL</td>\n",
       "      <td>2019-03-13 22:20:00</td>\n",
       "      <td>2019-03-22 01:10:00</td>\n",
       "      <td>2h 50m</td>\n",
       "      <td>non-stop</td>\n",
       "      <td>No info</td>\n",
       "      <td>3897</td>\n",
       "      <td>02:50:00</td>\n",
       "      <td>170.0</td>\n",
       "      <td>Evening</td>\n",
       "      <td>Night</td>\n",
       "    </tr>\n",
       "    <tr>\n",
       "      <th>1</th>\n",
       "      <td>Air India</td>\n",
       "      <td>2019-01-05</td>\n",
       "      <td>Kolkata</td>\n",
       "      <td>Banglore</td>\n",
       "      <td>CCU → IXR → BBI → BLR</td>\n",
       "      <td>2019-03-13 05:50:00</td>\n",
       "      <td>2019-03-13 13:15:00</td>\n",
       "      <td>7h 25m</td>\n",
       "      <td>2 stops</td>\n",
       "      <td>No info</td>\n",
       "      <td>7662</td>\n",
       "      <td>07:25:00</td>\n",
       "      <td>445.0</td>\n",
       "      <td>Night</td>\n",
       "      <td>Afternoon</td>\n",
       "    </tr>\n",
       "    <tr>\n",
       "      <th>2</th>\n",
       "      <td>Jet Airways</td>\n",
       "      <td>2019-09-06</td>\n",
       "      <td>Delhi</td>\n",
       "      <td>Cochin</td>\n",
       "      <td>DEL → LKO → BOM → COK</td>\n",
       "      <td>2019-03-13 09:25:00</td>\n",
       "      <td>2019-06-10 04:25:00</td>\n",
       "      <td>19h</td>\n",
       "      <td>2 stops</td>\n",
       "      <td>No info</td>\n",
       "      <td>13882</td>\n",
       "      <td>19:00:00</td>\n",
       "      <td>1140.0</td>\n",
       "      <td>Morning</td>\n",
       "      <td>Night</td>\n",
       "    </tr>\n",
       "  </tbody>\n",
       "</table>\n",
       "</div>"
      ],
      "text/plain": [
       "       Airline Date_of_Journey    Source Destination                  Route  \\\n",
       "0       IndiGo      2019-03-24  Banglore   New Delhi              BLR → DEL   \n",
       "1    Air India      2019-01-05   Kolkata    Banglore  CCU → IXR → BBI → BLR   \n",
       "2  Jet Airways      2019-09-06     Delhi      Cochin  DEL → LKO → BOM → COK   \n",
       "\n",
       "             Dep_Time        Arrival_Time Duration Total_Stops  \\\n",
       "0 2019-03-13 22:20:00 2019-03-22 01:10:00   2h 50m    non-stop   \n",
       "1 2019-03-13 05:50:00 2019-03-13 13:15:00   7h 25m     2 stops   \n",
       "2 2019-03-13 09:25:00 2019-06-10 04:25:00      19h     2 stops   \n",
       "\n",
       "  Additional_Info  Price Duration_Minutes  Dur_In_Minutes session_dep  \\\n",
       "0         No info   3897         02:50:00           170.0     Evening   \n",
       "1         No info   7662         07:25:00           445.0       Night   \n",
       "2         No info  13882         19:00:00          1140.0     Morning   \n",
       "\n",
       "  session_arr  \n",
       "0       Night  \n",
       "1   Afternoon  \n",
       "2       Night  "
      ]
     },
     "execution_count": 25,
     "metadata": {},
     "output_type": "execute_result"
    }
   ],
   "source": [
    "raw.head(3)"
   ]
  },
  {
   "cell_type": "code",
   "execution_count": 26,
   "metadata": {},
   "outputs": [
    {
     "data": {
      "text/html": [
       "<div>\n",
       "<style scoped>\n",
       "    .dataframe tbody tr th:only-of-type {\n",
       "        vertical-align: middle;\n",
       "    }\n",
       "\n",
       "    .dataframe tbody tr th {\n",
       "        vertical-align: top;\n",
       "    }\n",
       "\n",
       "    .dataframe thead th {\n",
       "        text-align: right;\n",
       "    }\n",
       "</style>\n",
       "<table border=\"1\" class=\"dataframe\">\n",
       "  <thead>\n",
       "    <tr style=\"text-align: right;\">\n",
       "      <th></th>\n",
       "      <th>Airline</th>\n",
       "      <th>Date_of_Journey</th>\n",
       "      <th>Source</th>\n",
       "      <th>Destination</th>\n",
       "      <th>Route</th>\n",
       "      <th>Dep_Time</th>\n",
       "      <th>Arrival_Time</th>\n",
       "      <th>Duration</th>\n",
       "      <th>Total_Stops</th>\n",
       "      <th>Additional_Info</th>\n",
       "      <th>Duration_Minutes</th>\n",
       "      <th>Dur_In_Minutes</th>\n",
       "      <th>session_dep</th>\n",
       "      <th>session_arr</th>\n",
       "    </tr>\n",
       "  </thead>\n",
       "  <tbody>\n",
       "    <tr>\n",
       "      <th>0</th>\n",
       "      <td>Jet Airways</td>\n",
       "      <td>2019-06-06</td>\n",
       "      <td>Delhi</td>\n",
       "      <td>Cochin</td>\n",
       "      <td>DEL → BOM → COK</td>\n",
       "      <td>2019-03-13 17:30:00</td>\n",
       "      <td>2019-06-07 04:25:00</td>\n",
       "      <td>10h 55m</td>\n",
       "      <td>1 stop</td>\n",
       "      <td>No info</td>\n",
       "      <td>10:55:00</td>\n",
       "      <td>655.0</td>\n",
       "      <td>Afternoon</td>\n",
       "      <td>Night</td>\n",
       "    </tr>\n",
       "    <tr>\n",
       "      <th>1</th>\n",
       "      <td>IndiGo</td>\n",
       "      <td>2019-12-05</td>\n",
       "      <td>Kolkata</td>\n",
       "      <td>Banglore</td>\n",
       "      <td>CCU → MAA → BLR</td>\n",
       "      <td>2019-03-13 06:20:00</td>\n",
       "      <td>2019-03-13 10:20:00</td>\n",
       "      <td>4h</td>\n",
       "      <td>1 stop</td>\n",
       "      <td>No info</td>\n",
       "      <td>04:00:00</td>\n",
       "      <td>240.0</td>\n",
       "      <td>Night</td>\n",
       "      <td>Morning</td>\n",
       "    </tr>\n",
       "    <tr>\n",
       "      <th>2</th>\n",
       "      <td>Jet Airways</td>\n",
       "      <td>2019-05-21</td>\n",
       "      <td>Delhi</td>\n",
       "      <td>Cochin</td>\n",
       "      <td>DEL → BOM → COK</td>\n",
       "      <td>2019-03-13 19:15:00</td>\n",
       "      <td>2019-05-22 19:00:00</td>\n",
       "      <td>23h 45m</td>\n",
       "      <td>1 stop</td>\n",
       "      <td>In-flight meal not included</td>\n",
       "      <td>23:45:00</td>\n",
       "      <td>1425.0</td>\n",
       "      <td>Evening</td>\n",
       "      <td>Evening</td>\n",
       "    </tr>\n",
       "  </tbody>\n",
       "</table>\n",
       "</div>"
      ],
      "text/plain": [
       "       Airline Date_of_Journey   Source Destination            Route  \\\n",
       "0  Jet Airways      2019-06-06    Delhi      Cochin  DEL → BOM → COK   \n",
       "1       IndiGo      2019-12-05  Kolkata    Banglore  CCU → MAA → BLR   \n",
       "2  Jet Airways      2019-05-21    Delhi      Cochin  DEL → BOM → COK   \n",
       "\n",
       "             Dep_Time        Arrival_Time Duration Total_Stops  \\\n",
       "0 2019-03-13 17:30:00 2019-06-07 04:25:00  10h 55m      1 stop   \n",
       "1 2019-03-13 06:20:00 2019-03-13 10:20:00       4h      1 stop   \n",
       "2 2019-03-13 19:15:00 2019-05-22 19:00:00  23h 45m      1 stop   \n",
       "\n",
       "               Additional_Info Duration_Minutes  Dur_In_Minutes session_dep  \\\n",
       "0                      No info         10:55:00           655.0   Afternoon   \n",
       "1                      No info         04:00:00           240.0       Night   \n",
       "2  In-flight meal not included         23:45:00          1425.0     Evening   \n",
       "\n",
       "  session_arr  \n",
       "0       Night  \n",
       "1     Morning  \n",
       "2     Evening  "
      ]
     },
     "execution_count": 26,
     "metadata": {},
     "output_type": "execute_result"
    }
   ],
   "source": [
    "test.head(3)"
   ]
  },
  {
   "cell_type": "code",
   "execution_count": 1,
   "metadata": {},
   "outputs": [],
   "source": [
    "#Remove the unecessary columns!"
   ]
  },
  {
   "cell_type": "code",
   "execution_count": 309,
   "metadata": {},
   "outputs": [
    {
     "data": {
      "text/plain": [
       "Index(['Airline', 'Date_of_Journey', 'Source', 'Destination', 'Route',\n",
       "       'Dep_Time', 'Arrival_Time', 'Duration', 'Total_Stops',\n",
       "       'Additional_Info', 'Price', 'Duration_Minutes', 'Dur_In_Minutes',\n",
       "       'session_dep', 'session_arr'],\n",
       "      dtype='object')"
      ]
     },
     "execution_count": 309,
     "metadata": {},
     "output_type": "execute_result"
    }
   ],
   "source": [
    "raw.columns"
   ]
  },
  {
   "cell_type": "code",
   "execution_count": 542,
   "metadata": {},
   "outputs": [],
   "source": [
    "df_raw = raw[['Airline', 'Date_of_Journey', 'Source', 'Destination','Total_Stops',\n",
    "                 'Additional_Info','Dur_In_Minutes','session_dep', 'session_arr', 'Route']]"
   ]
  },
  {
   "cell_type": "code",
   "execution_count": 412,
   "metadata": {},
   "outputs": [
    {
     "data": {
      "text/html": [
       "<div>\n",
       "<style scoped>\n",
       "    .dataframe tbody tr th:only-of-type {\n",
       "        vertical-align: middle;\n",
       "    }\n",
       "\n",
       "    .dataframe tbody tr th {\n",
       "        vertical-align: top;\n",
       "    }\n",
       "\n",
       "    .dataframe thead th {\n",
       "        text-align: right;\n",
       "    }\n",
       "</style>\n",
       "<table border=\"1\" class=\"dataframe\">\n",
       "  <thead>\n",
       "    <tr style=\"text-align: right;\">\n",
       "      <th></th>\n",
       "      <th>Airline</th>\n",
       "      <th>Date_of_Journey</th>\n",
       "      <th>Source</th>\n",
       "      <th>Destination</th>\n",
       "      <th>Total_Stops</th>\n",
       "      <th>Additional_Info</th>\n",
       "      <th>Dur_In_Minutes</th>\n",
       "      <th>session_dep</th>\n",
       "      <th>session_arr</th>\n",
       "      <th>Route</th>\n",
       "    </tr>\n",
       "  </thead>\n",
       "  <tbody>\n",
       "    <tr>\n",
       "      <th>0</th>\n",
       "      <td>IndiGo</td>\n",
       "      <td>2019-03-24</td>\n",
       "      <td>Banglore</td>\n",
       "      <td>New Delhi</td>\n",
       "      <td>non-stop</td>\n",
       "      <td>No info</td>\n",
       "      <td>170.0</td>\n",
       "      <td>Evening</td>\n",
       "      <td>Night</td>\n",
       "      <td>BLR → DEL</td>\n",
       "    </tr>\n",
       "    <tr>\n",
       "      <th>1</th>\n",
       "      <td>Air India</td>\n",
       "      <td>2019-01-05</td>\n",
       "      <td>Kolkata</td>\n",
       "      <td>Banglore</td>\n",
       "      <td>2 stops</td>\n",
       "      <td>No info</td>\n",
       "      <td>445.0</td>\n",
       "      <td>Night</td>\n",
       "      <td>Afternoon</td>\n",
       "      <td>CCU → IXR → BBI → BLR</td>\n",
       "    </tr>\n",
       "  </tbody>\n",
       "</table>\n",
       "</div>"
      ],
      "text/plain": [
       "     Airline Date_of_Journey    Source Destination Total_Stops  \\\n",
       "0     IndiGo      2019-03-24  Banglore   New Delhi    non-stop   \n",
       "1  Air India      2019-01-05   Kolkata    Banglore     2 stops   \n",
       "\n",
       "  Additional_Info  Dur_In_Minutes session_dep session_arr  \\\n",
       "0         No info           170.0     Evening       Night   \n",
       "1         No info           445.0       Night   Afternoon   \n",
       "\n",
       "                   Route  \n",
       "0              BLR → DEL  \n",
       "1  CCU → IXR → BBI → BLR  "
      ]
     },
     "execution_count": 412,
     "metadata": {},
     "output_type": "execute_result"
    }
   ],
   "source": [
    "df_raw.head(2)"
   ]
  },
  {
   "cell_type": "code",
   "execution_count": 187,
   "metadata": {},
   "outputs": [],
   "source": [
    "#Dealing with Date_Of_Journey!"
   ]
  },
  {
   "cell_type": "code",
   "execution_count": 543,
   "metadata": {},
   "outputs": [
    {
     "name": "stderr",
     "output_type": "stream",
     "text": [
      "/home/arsim/fastai/courses/ml1/fastai/structured.py:118: SettingWithCopyWarning:\n",
      "\n",
      "\n",
      "A value is trying to be set on a copy of a slice from a DataFrame.\n",
      "Try using .loc[row_indexer,col_indexer] = value instead\n",
      "\n",
      "See the caveats in the documentation: http://pandas.pydata.org/pandas-docs/stable/indexing.html#indexing-view-versus-copy\n",
      "\n"
     ]
    }
   ],
   "source": [
    "add_datepart(df_raw, 'Date_of_Journey');"
   ]
  },
  {
   "cell_type": "code",
   "execution_count": 414,
   "metadata": {},
   "outputs": [
    {
     "data": {
      "text/plain": [
       "(10683, 22)"
      ]
     },
     "execution_count": 414,
     "metadata": {},
     "output_type": "execute_result"
    }
   ],
   "source": [
    "df_raw.shape"
   ]
  },
  {
   "cell_type": "code",
   "execution_count": 415,
   "metadata": {},
   "outputs": [],
   "source": [
    "df_raw;"
   ]
  },
  {
   "cell_type": "code",
   "execution_count": 544,
   "metadata": {},
   "outputs": [],
   "source": [
    "df_raw['Price'] = raw.Price"
   ]
  },
  {
   "cell_type": "code",
   "execution_count": 417,
   "metadata": {},
   "outputs": [
    {
     "data": {
      "text/html": [
       "<div>\n",
       "<style scoped>\n",
       "    .dataframe tbody tr th:only-of-type {\n",
       "        vertical-align: middle;\n",
       "    }\n",
       "\n",
       "    .dataframe tbody tr th {\n",
       "        vertical-align: top;\n",
       "    }\n",
       "\n",
       "    .dataframe thead th {\n",
       "        text-align: right;\n",
       "    }\n",
       "</style>\n",
       "<table border=\"1\" class=\"dataframe\">\n",
       "  <thead>\n",
       "    <tr style=\"text-align: right;\">\n",
       "      <th></th>\n",
       "      <th>Airline</th>\n",
       "      <th>Source</th>\n",
       "      <th>Destination</th>\n",
       "      <th>Total_Stops</th>\n",
       "      <th>Additional_Info</th>\n",
       "      <th>Dur_In_Minutes</th>\n",
       "      <th>session_dep</th>\n",
       "      <th>session_arr</th>\n",
       "      <th>Route</th>\n",
       "      <th>Date_of_JourneyYear</th>\n",
       "      <th>Date_of_JourneyMonth</th>\n",
       "      <th>Date_of_JourneyWeek</th>\n",
       "      <th>Date_of_JourneyDay</th>\n",
       "      <th>Date_of_JourneyDayofweek</th>\n",
       "      <th>Date_of_JourneyDayofyear</th>\n",
       "      <th>Date_of_JourneyIs_month_end</th>\n",
       "      <th>Date_of_JourneyIs_month_start</th>\n",
       "      <th>Date_of_JourneyIs_quarter_end</th>\n",
       "      <th>Date_of_JourneyIs_quarter_start</th>\n",
       "      <th>Date_of_JourneyIs_year_end</th>\n",
       "      <th>Date_of_JourneyIs_year_start</th>\n",
       "      <th>Date_of_JourneyElapsed</th>\n",
       "      <th>Price</th>\n",
       "    </tr>\n",
       "  </thead>\n",
       "  <tbody>\n",
       "    <tr>\n",
       "      <th>0</th>\n",
       "      <td>IndiGo</td>\n",
       "      <td>Banglore</td>\n",
       "      <td>New Delhi</td>\n",
       "      <td>non-stop</td>\n",
       "      <td>No info</td>\n",
       "      <td>170.0</td>\n",
       "      <td>Evening</td>\n",
       "      <td>Night</td>\n",
       "      <td>BLR → DEL</td>\n",
       "      <td>2019</td>\n",
       "      <td>3</td>\n",
       "      <td>12</td>\n",
       "      <td>24</td>\n",
       "      <td>6</td>\n",
       "      <td>83</td>\n",
       "      <td>False</td>\n",
       "      <td>False</td>\n",
       "      <td>False</td>\n",
       "      <td>False</td>\n",
       "      <td>False</td>\n",
       "      <td>False</td>\n",
       "      <td>1553385600</td>\n",
       "      <td>3897</td>\n",
       "    </tr>\n",
       "    <tr>\n",
       "      <th>1</th>\n",
       "      <td>Air India</td>\n",
       "      <td>Kolkata</td>\n",
       "      <td>Banglore</td>\n",
       "      <td>2 stops</td>\n",
       "      <td>No info</td>\n",
       "      <td>445.0</td>\n",
       "      <td>Night</td>\n",
       "      <td>Afternoon</td>\n",
       "      <td>CCU → IXR → BBI → BLR</td>\n",
       "      <td>2019</td>\n",
       "      <td>1</td>\n",
       "      <td>1</td>\n",
       "      <td>5</td>\n",
       "      <td>5</td>\n",
       "      <td>5</td>\n",
       "      <td>False</td>\n",
       "      <td>False</td>\n",
       "      <td>False</td>\n",
       "      <td>False</td>\n",
       "      <td>False</td>\n",
       "      <td>False</td>\n",
       "      <td>1546646400</td>\n",
       "      <td>7662</td>\n",
       "    </tr>\n",
       "    <tr>\n",
       "      <th>2</th>\n",
       "      <td>Jet Airways</td>\n",
       "      <td>Delhi</td>\n",
       "      <td>Cochin</td>\n",
       "      <td>2 stops</td>\n",
       "      <td>No info</td>\n",
       "      <td>1140.0</td>\n",
       "      <td>Morning</td>\n",
       "      <td>Night</td>\n",
       "      <td>DEL → LKO → BOM → COK</td>\n",
       "      <td>2019</td>\n",
       "      <td>9</td>\n",
       "      <td>36</td>\n",
       "      <td>6</td>\n",
       "      <td>4</td>\n",
       "      <td>249</td>\n",
       "      <td>False</td>\n",
       "      <td>False</td>\n",
       "      <td>False</td>\n",
       "      <td>False</td>\n",
       "      <td>False</td>\n",
       "      <td>False</td>\n",
       "      <td>1567728000</td>\n",
       "      <td>13882</td>\n",
       "    </tr>\n",
       "  </tbody>\n",
       "</table>\n",
       "</div>"
      ],
      "text/plain": [
       "       Airline    Source Destination Total_Stops Additional_Info  \\\n",
       "0       IndiGo  Banglore   New Delhi    non-stop         No info   \n",
       "1    Air India   Kolkata    Banglore     2 stops         No info   \n",
       "2  Jet Airways     Delhi      Cochin     2 stops         No info   \n",
       "\n",
       "   Dur_In_Minutes session_dep session_arr                  Route  \\\n",
       "0           170.0     Evening       Night              BLR → DEL   \n",
       "1           445.0       Night   Afternoon  CCU → IXR → BBI → BLR   \n",
       "2          1140.0     Morning       Night  DEL → LKO → BOM → COK   \n",
       "\n",
       "   Date_of_JourneyYear  Date_of_JourneyMonth  Date_of_JourneyWeek  \\\n",
       "0                 2019                     3                   12   \n",
       "1                 2019                     1                    1   \n",
       "2                 2019                     9                   36   \n",
       "\n",
       "   Date_of_JourneyDay  Date_of_JourneyDayofweek  Date_of_JourneyDayofyear  \\\n",
       "0                  24                         6                        83   \n",
       "1                   5                         5                         5   \n",
       "2                   6                         4                       249   \n",
       "\n",
       "   Date_of_JourneyIs_month_end  Date_of_JourneyIs_month_start  \\\n",
       "0                        False                          False   \n",
       "1                        False                          False   \n",
       "2                        False                          False   \n",
       "\n",
       "   Date_of_JourneyIs_quarter_end  Date_of_JourneyIs_quarter_start  \\\n",
       "0                          False                            False   \n",
       "1                          False                            False   \n",
       "2                          False                            False   \n",
       "\n",
       "   Date_of_JourneyIs_year_end  Date_of_JourneyIs_year_start  \\\n",
       "0                       False                         False   \n",
       "1                       False                         False   \n",
       "2                       False                         False   \n",
       "\n",
       "   Date_of_JourneyElapsed  Price  \n",
       "0              1553385600   3897  \n",
       "1              1546646400   7662  \n",
       "2              1567728000  13882  "
      ]
     },
     "metadata": {},
     "output_type": "display_data"
    }
   ],
   "source": [
    "display_all(df_raw.head(3))"
   ]
  },
  {
   "cell_type": "code",
   "execution_count": null,
   "metadata": {},
   "outputs": [],
   "source": [
    "#Similarly for test data-set!"
   ]
  },
  {
   "cell_type": "code",
   "execution_count": 545,
   "metadata": {},
   "outputs": [],
   "source": [
    "test = test[['Airline', 'Date_of_Journey', 'Source', 'Destination','Total_Stops',\n",
    "                 'Additional_Info','Dur_In_Minutes','session_dep', 'session_arr','Route']]"
   ]
  },
  {
   "cell_type": "code",
   "execution_count": 546,
   "metadata": {},
   "outputs": [
    {
     "data": {
      "text/html": [
       "<div>\n",
       "<style scoped>\n",
       "    .dataframe tbody tr th:only-of-type {\n",
       "        vertical-align: middle;\n",
       "    }\n",
       "\n",
       "    .dataframe tbody tr th {\n",
       "        vertical-align: top;\n",
       "    }\n",
       "\n",
       "    .dataframe thead th {\n",
       "        text-align: right;\n",
       "    }\n",
       "</style>\n",
       "<table border=\"1\" class=\"dataframe\">\n",
       "  <thead>\n",
       "    <tr style=\"text-align: right;\">\n",
       "      <th></th>\n",
       "      <th>Airline</th>\n",
       "      <th>Date_of_Journey</th>\n",
       "      <th>Source</th>\n",
       "      <th>Destination</th>\n",
       "      <th>Total_Stops</th>\n",
       "      <th>Additional_Info</th>\n",
       "      <th>Dur_In_Minutes</th>\n",
       "      <th>session_dep</th>\n",
       "      <th>session_arr</th>\n",
       "      <th>Route</th>\n",
       "    </tr>\n",
       "  </thead>\n",
       "  <tbody>\n",
       "    <tr>\n",
       "      <th>0</th>\n",
       "      <td>Jet Airways</td>\n",
       "      <td>2019-06-06</td>\n",
       "      <td>Delhi</td>\n",
       "      <td>Cochin</td>\n",
       "      <td>1 stop</td>\n",
       "      <td>No info</td>\n",
       "      <td>655.0</td>\n",
       "      <td>Afternoon</td>\n",
       "      <td>Night</td>\n",
       "      <td>DEL → BOM → COK</td>\n",
       "    </tr>\n",
       "    <tr>\n",
       "      <th>1</th>\n",
       "      <td>IndiGo</td>\n",
       "      <td>2019-12-05</td>\n",
       "      <td>Kolkata</td>\n",
       "      <td>Banglore</td>\n",
       "      <td>1 stop</td>\n",
       "      <td>No info</td>\n",
       "      <td>240.0</td>\n",
       "      <td>Night</td>\n",
       "      <td>Morning</td>\n",
       "      <td>CCU → MAA → BLR</td>\n",
       "    </tr>\n",
       "  </tbody>\n",
       "</table>\n",
       "</div>"
      ],
      "text/plain": [
       "       Airline Date_of_Journey   Source Destination Total_Stops  \\\n",
       "0  Jet Airways      2019-06-06    Delhi      Cochin      1 stop   \n",
       "1       IndiGo      2019-12-05  Kolkata    Banglore      1 stop   \n",
       "\n",
       "  Additional_Info  Dur_In_Minutes session_dep session_arr            Route  \n",
       "0         No info           655.0   Afternoon       Night  DEL → BOM → COK  \n",
       "1         No info           240.0       Night     Morning  CCU → MAA → BLR  "
      ]
     },
     "execution_count": 546,
     "metadata": {},
     "output_type": "execute_result"
    }
   ],
   "source": [
    "test.head(2)"
   ]
  },
  {
   "cell_type": "code",
   "execution_count": 547,
   "metadata": {},
   "outputs": [],
   "source": [
    "add_datepart(test, 'Date_of_Journey');"
   ]
  },
  {
   "cell_type": "code",
   "execution_count": 421,
   "metadata": {},
   "outputs": [
    {
     "data": {
      "text/plain": [
       "Index(['Airline', 'Source', 'Destination', 'Total_Stops', 'Additional_Info',\n",
       "       'Dur_In_Minutes', 'session_dep', 'session_arr', 'Route',\n",
       "       'Date_of_JourneyYear', 'Date_of_JourneyMonth', 'Date_of_JourneyWeek',\n",
       "       'Date_of_JourneyDay', 'Date_of_JourneyDayofweek',\n",
       "       'Date_of_JourneyDayofyear', 'Date_of_JourneyIs_month_end',\n",
       "       'Date_of_JourneyIs_month_start', 'Date_of_JourneyIs_quarter_end',\n",
       "       'Date_of_JourneyIs_quarter_start', 'Date_of_JourneyIs_year_end',\n",
       "       'Date_of_JourneyIs_year_start', 'Date_of_JourneyElapsed'],\n",
       "      dtype='object')"
      ]
     },
     "execution_count": 421,
     "metadata": {},
     "output_type": "execute_result"
    }
   ],
   "source": [
    "test.columns"
   ]
  },
  {
   "cell_type": "code",
   "execution_count": 422,
   "metadata": {},
   "outputs": [
    {
     "data": {
      "text/plain": [
       "Index(['Airline', 'Source', 'Destination', 'Total_Stops', 'Additional_Info',\n",
       "       'Dur_In_Minutes', 'session_dep', 'session_arr', 'Route',\n",
       "       'Date_of_JourneyYear', 'Date_of_JourneyMonth', 'Date_of_JourneyWeek',\n",
       "       'Date_of_JourneyDay', 'Date_of_JourneyDayofweek',\n",
       "       'Date_of_JourneyDayofyear', 'Date_of_JourneyIs_month_end',\n",
       "       'Date_of_JourneyIs_month_start', 'Date_of_JourneyIs_quarter_end',\n",
       "       'Date_of_JourneyIs_quarter_start', 'Date_of_JourneyIs_year_end',\n",
       "       'Date_of_JourneyIs_year_start', 'Date_of_JourneyElapsed', 'Price'],\n",
       "      dtype='object')"
      ]
     },
     "execution_count": 422,
     "metadata": {},
     "output_type": "execute_result"
    }
   ],
   "source": [
    "df_raw.columns"
   ]
  },
  {
   "cell_type": "code",
   "execution_count": 423,
   "metadata": {},
   "outputs": [
    {
     "data": {
      "text/plain": [
       "(10683, 23)"
      ]
     },
     "execution_count": 423,
     "metadata": {},
     "output_type": "execute_result"
    }
   ],
   "source": [
    "df_raw.shape"
   ]
  },
  {
   "cell_type": "code",
   "execution_count": null,
   "metadata": {},
   "outputs": [],
   "source": [
    "#Clean the total stops"
   ]
  },
  {
   "cell_type": "code",
   "execution_count": 548,
   "metadata": {},
   "outputs": [],
   "source": [
    "df_raw['Total_Stops'].fillna(df_raw['Total_Stops'].value_counts().index[0],inplace=True)"
   ]
  },
  {
   "cell_type": "code",
   "execution_count": 549,
   "metadata": {},
   "outputs": [
    {
     "data": {
      "text/plain": [
       "1 stop      5626\n",
       "non-stop    3491\n",
       "2 stops     1520\n",
       "3 stops       45\n",
       "4 stops        1\n",
       "Name: Total_Stops, dtype: int64"
      ]
     },
     "execution_count": 549,
     "metadata": {},
     "output_type": "execute_result"
    }
   ],
   "source": [
    "df_raw['Total_Stops'].value_counts()"
   ]
  },
  {
   "cell_type": "markdown",
   "metadata": {},
   "source": [
    "# Short-Hand Approach for a Quick Random Forest Implementation"
   ]
  },
  {
   "cell_type": "code",
   "execution_count": 550,
   "metadata": {},
   "outputs": [],
   "source": [
    "os.makedirs('feather', exist_ok=True)\n",
    "df_raw.to_feather('feather/flight_train_raw')"
   ]
  },
  {
   "cell_type": "code",
   "execution_count": 551,
   "metadata": {},
   "outputs": [],
   "source": [
    "test.to_feather('feather/flight_test_raw')"
   ]
  },
  {
   "cell_type": "code",
   "execution_count": 608,
   "metadata": {},
   "outputs": [],
   "source": [
    "df_raw = pd.read_feather('feather/flight_train_raw')\n",
    "test = pd.read_feather('feather/flight_test_raw')"
   ]
  },
  {
   "cell_type": "code",
   "execution_count": null,
   "metadata": {},
   "outputs": [],
   "source": [
    "#Applying Categorical ordering to both training and test datasets!"
   ]
  },
  {
   "cell_type": "code",
   "execution_count": 609,
   "metadata": {},
   "outputs": [],
   "source": [
    "train_cats(df_raw)\n",
    "apply_cats(df=test, trn=df_raw)"
   ]
  },
  {
   "cell_type": "code",
   "execution_count": null,
   "metadata": {},
   "outputs": [],
   "source": [
    "#Converting Fee into log!"
   ]
  },
  {
   "cell_type": "code",
   "execution_count": 610,
   "metadata": {},
   "outputs": [],
   "source": [
    "df_raw.Price = np.log(df_raw.Price)"
   ]
  },
  {
   "cell_type": "code",
   "execution_count": 55,
   "metadata": {},
   "outputs": [],
   "source": [
    "#Removing the bad cols, after feature importance!"
   ]
  },
  {
   "cell_type": "code",
   "execution_count": 611,
   "metadata": {},
   "outputs": [],
   "source": [
    "bad_cols = [\n",
    "     'Date_of_JourneyYear', 'Date_of_JourneyWeek', 'Date_of_JourneyDayofweek',\n",
    "       'Date_of_JourneyDayofyear', 'Date_of_JourneyIs_month_end',\n",
    "       'Date_of_JourneyIs_month_start', 'Date_of_JourneyIs_quarter_end',\n",
    "       'Date_of_JourneyIs_quarter_start', 'Date_of_JourneyIs_year_end',\n",
    "       'Date_of_JourneyIs_year_start', 'Date_of_JourneyElapsed',\n",
    "]"
   ]
  },
  {
   "cell_type": "code",
   "execution_count": 612,
   "metadata": {},
   "outputs": [],
   "source": [
    "df_raw.drop(bad_cols,axis=1,inplace=True);\n"
   ]
  },
  {
   "cell_type": "code",
   "execution_count": 613,
   "metadata": {},
   "outputs": [],
   "source": [
    "test.drop(bad_cols,axis=1,inplace=True);"
   ]
  },
  {
   "cell_type": "code",
   "execution_count": 588,
   "metadata": {},
   "outputs": [
    {
     "data": {
      "text/plain": [
       "((10683, 12), (2671, 11))"
      ]
     },
     "execution_count": 588,
     "metadata": {},
     "output_type": "execute_result"
    }
   ],
   "source": [
    "df_raw.shape,test.shape"
   ]
  },
  {
   "cell_type": "code",
   "execution_count": 559,
   "metadata": {},
   "outputs": [
    {
     "data": {
      "text/html": [
       "<div>\n",
       "<style scoped>\n",
       "    .dataframe tbody tr th:only-of-type {\n",
       "        vertical-align: middle;\n",
       "    }\n",
       "\n",
       "    .dataframe tbody tr th {\n",
       "        vertical-align: top;\n",
       "    }\n",
       "\n",
       "    .dataframe thead th {\n",
       "        text-align: right;\n",
       "    }\n",
       "</style>\n",
       "<table border=\"1\" class=\"dataframe\">\n",
       "  <thead>\n",
       "    <tr style=\"text-align: right;\">\n",
       "      <th></th>\n",
       "      <th>Airline</th>\n",
       "      <th>Source</th>\n",
       "      <th>Destination</th>\n",
       "      <th>Total_Stops</th>\n",
       "      <th>Additional_Info</th>\n",
       "      <th>Dur_In_Minutes</th>\n",
       "      <th>session_dep</th>\n",
       "      <th>session_arr</th>\n",
       "      <th>Route</th>\n",
       "      <th>Date_of_JourneyMonth</th>\n",
       "      <th>Date_of_JourneyDay</th>\n",
       "      <th>Price</th>\n",
       "    </tr>\n",
       "  </thead>\n",
       "  <tbody>\n",
       "    <tr>\n",
       "      <th>0</th>\n",
       "      <td>IndiGo</td>\n",
       "      <td>Banglore</td>\n",
       "      <td>New Delhi</td>\n",
       "      <td>non-stop</td>\n",
       "      <td>No info</td>\n",
       "      <td>170.0</td>\n",
       "      <td>Evening</td>\n",
       "      <td>Night</td>\n",
       "      <td>BLR → DEL</td>\n",
       "      <td>3</td>\n",
       "      <td>24</td>\n",
       "      <td>8.267962</td>\n",
       "    </tr>\n",
       "    <tr>\n",
       "      <th>1</th>\n",
       "      <td>Air India</td>\n",
       "      <td>Kolkata</td>\n",
       "      <td>Banglore</td>\n",
       "      <td>2 stops</td>\n",
       "      <td>No info</td>\n",
       "      <td>445.0</td>\n",
       "      <td>Night</td>\n",
       "      <td>Afternoon</td>\n",
       "      <td>CCU → IXR → BBI → BLR</td>\n",
       "      <td>1</td>\n",
       "      <td>5</td>\n",
       "      <td>8.944028</td>\n",
       "    </tr>\n",
       "    <tr>\n",
       "      <th>2</th>\n",
       "      <td>Jet Airways</td>\n",
       "      <td>Delhi</td>\n",
       "      <td>Cochin</td>\n",
       "      <td>2 stops</td>\n",
       "      <td>No info</td>\n",
       "      <td>1140.0</td>\n",
       "      <td>Morning</td>\n",
       "      <td>Night</td>\n",
       "      <td>DEL → LKO → BOM → COK</td>\n",
       "      <td>9</td>\n",
       "      <td>6</td>\n",
       "      <td>9.538348</td>\n",
       "    </tr>\n",
       "    <tr>\n",
       "      <th>3</th>\n",
       "      <td>IndiGo</td>\n",
       "      <td>Kolkata</td>\n",
       "      <td>Banglore</td>\n",
       "      <td>1 stop</td>\n",
       "      <td>No info</td>\n",
       "      <td>325.0</td>\n",
       "      <td>Afternoon</td>\n",
       "      <td>Evening</td>\n",
       "      <td>CCU → NAG → BLR</td>\n",
       "      <td>12</td>\n",
       "      <td>5</td>\n",
       "      <td>8.735204</td>\n",
       "    </tr>\n",
       "    <tr>\n",
       "      <th>4</th>\n",
       "      <td>IndiGo</td>\n",
       "      <td>Banglore</td>\n",
       "      <td>New Delhi</td>\n",
       "      <td>1 stop</td>\n",
       "      <td>No info</td>\n",
       "      <td>285.0</td>\n",
       "      <td>Afternoon</td>\n",
       "      <td>Evening</td>\n",
       "      <td>BLR → NAG → DEL</td>\n",
       "      <td>1</td>\n",
       "      <td>3</td>\n",
       "      <td>9.495670</td>\n",
       "    </tr>\n",
       "  </tbody>\n",
       "</table>\n",
       "</div>"
      ],
      "text/plain": [
       "       Airline    Source Destination Total_Stops Additional_Info  \\\n",
       "0       IndiGo  Banglore   New Delhi    non-stop         No info   \n",
       "1    Air India   Kolkata    Banglore     2 stops         No info   \n",
       "2  Jet Airways     Delhi      Cochin     2 stops         No info   \n",
       "3       IndiGo   Kolkata    Banglore      1 stop         No info   \n",
       "4       IndiGo  Banglore   New Delhi      1 stop         No info   \n",
       "\n",
       "   Dur_In_Minutes session_dep session_arr                  Route  \\\n",
       "0           170.0     Evening       Night              BLR → DEL   \n",
       "1           445.0       Night   Afternoon  CCU → IXR → BBI → BLR   \n",
       "2          1140.0     Morning       Night  DEL → LKO → BOM → COK   \n",
       "3           325.0   Afternoon     Evening        CCU → NAG → BLR   \n",
       "4           285.0   Afternoon     Evening        BLR → NAG → DEL   \n",
       "\n",
       "   Date_of_JourneyMonth  Date_of_JourneyDay     Price  \n",
       "0                     3                  24  8.267962  \n",
       "1                     1                   5  8.944028  \n",
       "2                     9                   6  9.538348  \n",
       "3                    12                   5  8.735204  \n",
       "4                     1                   3  9.495670  "
      ]
     },
     "execution_count": 559,
     "metadata": {},
     "output_type": "execute_result"
    }
   ],
   "source": [
    "df_raw.head(5)"
   ]
  },
  {
   "cell_type": "code",
   "execution_count": 560,
   "metadata": {},
   "outputs": [
    {
     "data": {
      "text/html": [
       "<div>\n",
       "<style scoped>\n",
       "    .dataframe tbody tr th:only-of-type {\n",
       "        vertical-align: middle;\n",
       "    }\n",
       "\n",
       "    .dataframe tbody tr th {\n",
       "        vertical-align: top;\n",
       "    }\n",
       "\n",
       "    .dataframe thead th {\n",
       "        text-align: right;\n",
       "    }\n",
       "</style>\n",
       "<table border=\"1\" class=\"dataframe\">\n",
       "  <thead>\n",
       "    <tr style=\"text-align: right;\">\n",
       "      <th></th>\n",
       "      <th>Airline</th>\n",
       "      <th>Source</th>\n",
       "      <th>Destination</th>\n",
       "      <th>Total_Stops</th>\n",
       "      <th>Additional_Info</th>\n",
       "      <th>Dur_In_Minutes</th>\n",
       "      <th>session_dep</th>\n",
       "      <th>session_arr</th>\n",
       "      <th>Route</th>\n",
       "      <th>Date_of_JourneyMonth</th>\n",
       "      <th>Date_of_JourneyDay</th>\n",
       "    </tr>\n",
       "  </thead>\n",
       "  <tbody>\n",
       "    <tr>\n",
       "      <th>0</th>\n",
       "      <td>Jet Airways</td>\n",
       "      <td>Delhi</td>\n",
       "      <td>Cochin</td>\n",
       "      <td>1 stop</td>\n",
       "      <td>No info</td>\n",
       "      <td>655.0</td>\n",
       "      <td>Afternoon</td>\n",
       "      <td>Night</td>\n",
       "      <td>DEL → BOM → COK</td>\n",
       "      <td>6</td>\n",
       "      <td>6</td>\n",
       "    </tr>\n",
       "    <tr>\n",
       "      <th>1</th>\n",
       "      <td>IndiGo</td>\n",
       "      <td>Kolkata</td>\n",
       "      <td>Banglore</td>\n",
       "      <td>1 stop</td>\n",
       "      <td>No info</td>\n",
       "      <td>240.0</td>\n",
       "      <td>Night</td>\n",
       "      <td>Morning</td>\n",
       "      <td>CCU → MAA → BLR</td>\n",
       "      <td>12</td>\n",
       "      <td>5</td>\n",
       "    </tr>\n",
       "    <tr>\n",
       "      <th>2</th>\n",
       "      <td>Jet Airways</td>\n",
       "      <td>Delhi</td>\n",
       "      <td>Cochin</td>\n",
       "      <td>1 stop</td>\n",
       "      <td>In-flight meal not included</td>\n",
       "      <td>1425.0</td>\n",
       "      <td>Evening</td>\n",
       "      <td>Evening</td>\n",
       "      <td>DEL → BOM → COK</td>\n",
       "      <td>5</td>\n",
       "      <td>21</td>\n",
       "    </tr>\n",
       "    <tr>\n",
       "      <th>3</th>\n",
       "      <td>Multiple carriers</td>\n",
       "      <td>Delhi</td>\n",
       "      <td>Cochin</td>\n",
       "      <td>1 stop</td>\n",
       "      <td>No info</td>\n",
       "      <td>780.0</td>\n",
       "      <td>Morning</td>\n",
       "      <td>Evening</td>\n",
       "      <td>DEL → BOM → COK</td>\n",
       "      <td>5</td>\n",
       "      <td>21</td>\n",
       "    </tr>\n",
       "    <tr>\n",
       "      <th>4</th>\n",
       "      <td>Air Asia</td>\n",
       "      <td>Banglore</td>\n",
       "      <td>Delhi</td>\n",
       "      <td>non-stop</td>\n",
       "      <td>No info</td>\n",
       "      <td>170.0</td>\n",
       "      <td>Evening</td>\n",
       "      <td>Night</td>\n",
       "      <td>BLR → DEL</td>\n",
       "      <td>6</td>\n",
       "      <td>24</td>\n",
       "    </tr>\n",
       "  </tbody>\n",
       "</table>\n",
       "</div>"
      ],
      "text/plain": [
       "             Airline    Source Destination Total_Stops  \\\n",
       "0        Jet Airways     Delhi      Cochin      1 stop   \n",
       "1             IndiGo   Kolkata    Banglore      1 stop   \n",
       "2        Jet Airways     Delhi      Cochin      1 stop   \n",
       "3  Multiple carriers     Delhi      Cochin      1 stop   \n",
       "4           Air Asia  Banglore       Delhi    non-stop   \n",
       "\n",
       "               Additional_Info  Dur_In_Minutes session_dep session_arr  \\\n",
       "0                      No info           655.0   Afternoon       Night   \n",
       "1                      No info           240.0       Night     Morning   \n",
       "2  In-flight meal not included          1425.0     Evening     Evening   \n",
       "3                      No info           780.0     Morning     Evening   \n",
       "4                      No info           170.0     Evening       Night   \n",
       "\n",
       "             Route  Date_of_JourneyMonth  Date_of_JourneyDay  \n",
       "0  DEL → BOM → COK                     6                   6  \n",
       "1  CCU → MAA → BLR                    12                   5  \n",
       "2  DEL → BOM → COK                     5                  21  \n",
       "3  DEL → BOM → COK                     5                  21  \n",
       "4        BLR → DEL                     6                  24  "
      ]
     },
     "execution_count": 560,
     "metadata": {},
     "output_type": "execute_result"
    }
   ],
   "source": [
    "test.head(5)"
   ]
  },
  {
   "cell_type": "code",
   "execution_count": 99,
   "metadata": {},
   "outputs": [],
   "source": [
    "#Using proc_df of FAST-Ai"
   ]
  },
  {
   "cell_type": "code",
   "execution_count": 614,
   "metadata": {},
   "outputs": [],
   "source": [
    "df, y , nas = proc_df(df_raw, 'Price')\n",
    "test, _, nas = proc_df(test, na_dict=nas)\n",
    "df, y , nas = proc_df(df_raw, 'Price', na_dict=nas)"
   ]
  },
  {
   "cell_type": "code",
   "execution_count": 463,
   "metadata": {},
   "outputs": [
    {
     "data": {
      "text/html": [
       "<div>\n",
       "<style scoped>\n",
       "    .dataframe tbody tr th:only-of-type {\n",
       "        vertical-align: middle;\n",
       "    }\n",
       "\n",
       "    .dataframe tbody tr th {\n",
       "        vertical-align: top;\n",
       "    }\n",
       "\n",
       "    .dataframe thead th {\n",
       "        text-align: right;\n",
       "    }\n",
       "</style>\n",
       "<table border=\"1\" class=\"dataframe\">\n",
       "  <thead>\n",
       "    <tr style=\"text-align: right;\">\n",
       "      <th></th>\n",
       "      <th>Airline</th>\n",
       "      <th>Source</th>\n",
       "      <th>Destination</th>\n",
       "      <th>Total_Stops</th>\n",
       "      <th>Additional_Info</th>\n",
       "      <th>Dur_In_Minutes</th>\n",
       "      <th>session_dep</th>\n",
       "      <th>session_arr</th>\n",
       "      <th>Route</th>\n",
       "      <th>Date_of_JourneyMonth</th>\n",
       "      <th>Date_of_JourneyDay</th>\n",
       "    </tr>\n",
       "  </thead>\n",
       "  <tbody>\n",
       "    <tr>\n",
       "      <th>0</th>\n",
       "      <td>4</td>\n",
       "      <td>1</td>\n",
       "      <td>6</td>\n",
       "      <td>5</td>\n",
       "      <td>9</td>\n",
       "      <td>170.0</td>\n",
       "      <td>4</td>\n",
       "      <td>1</td>\n",
       "      <td>19</td>\n",
       "      <td>3</td>\n",
       "      <td>24</td>\n",
       "    </tr>\n",
       "    <tr>\n",
       "      <th>1</th>\n",
       "      <td>2</td>\n",
       "      <td>4</td>\n",
       "      <td>1</td>\n",
       "      <td>2</td>\n",
       "      <td>9</td>\n",
       "      <td>445.0</td>\n",
       "      <td>1</td>\n",
       "      <td>3</td>\n",
       "      <td>85</td>\n",
       "      <td>1</td>\n",
       "      <td>5</td>\n",
       "    </tr>\n",
       "    <tr>\n",
       "      <th>2</th>\n",
       "      <td>5</td>\n",
       "      <td>3</td>\n",
       "      <td>2</td>\n",
       "      <td>2</td>\n",
       "      <td>9</td>\n",
       "      <td>1140.0</td>\n",
       "      <td>2</td>\n",
       "      <td>1</td>\n",
       "      <td>119</td>\n",
       "      <td>9</td>\n",
       "      <td>6</td>\n",
       "    </tr>\n",
       "    <tr>\n",
       "      <th>3</th>\n",
       "      <td>4</td>\n",
       "      <td>4</td>\n",
       "      <td>1</td>\n",
       "      <td>1</td>\n",
       "      <td>9</td>\n",
       "      <td>325.0</td>\n",
       "      <td>3</td>\n",
       "      <td>4</td>\n",
       "      <td>92</td>\n",
       "      <td>12</td>\n",
       "      <td>5</td>\n",
       "    </tr>\n",
       "    <tr>\n",
       "      <th>4</th>\n",
       "      <td>4</td>\n",
       "      <td>1</td>\n",
       "      <td>6</td>\n",
       "      <td>1</td>\n",
       "      <td>9</td>\n",
       "      <td>285.0</td>\n",
       "      <td>3</td>\n",
       "      <td>4</td>\n",
       "      <td>30</td>\n",
       "      <td>1</td>\n",
       "      <td>3</td>\n",
       "    </tr>\n",
       "  </tbody>\n",
       "</table>\n",
       "</div>"
      ],
      "text/plain": [
       "   Airline  Source  Destination  Total_Stops  Additional_Info  Dur_In_Minutes  \\\n",
       "0        4       1            6            5                9           170.0   \n",
       "1        2       4            1            2                9           445.0   \n",
       "2        5       3            2            2                9          1140.0   \n",
       "3        4       4            1            1                9           325.0   \n",
       "4        4       1            6            1                9           285.0   \n",
       "\n",
       "   session_dep  session_arr  Route  Date_of_JourneyMonth  Date_of_JourneyDay  \n",
       "0            4            1     19                     3                  24  \n",
       "1            1            3     85                     1                   5  \n",
       "2            2            1    119                     9                   6  \n",
       "3            3            4     92                    12                   5  \n",
       "4            3            4     30                     1                   3  "
      ]
     },
     "execution_count": 463,
     "metadata": {},
     "output_type": "execute_result"
    }
   ],
   "source": [
    "df.head()"
   ]
  },
  {
   "cell_type": "code",
   "execution_count": 464,
   "metadata": {},
   "outputs": [
    {
     "data": {
      "text/html": [
       "<div>\n",
       "<style scoped>\n",
       "    .dataframe tbody tr th:only-of-type {\n",
       "        vertical-align: middle;\n",
       "    }\n",
       "\n",
       "    .dataframe tbody tr th {\n",
       "        vertical-align: top;\n",
       "    }\n",
       "\n",
       "    .dataframe thead th {\n",
       "        text-align: right;\n",
       "    }\n",
       "</style>\n",
       "<table border=\"1\" class=\"dataframe\">\n",
       "  <thead>\n",
       "    <tr style=\"text-align: right;\">\n",
       "      <th></th>\n",
       "      <th>Airline</th>\n",
       "      <th>Source</th>\n",
       "      <th>Destination</th>\n",
       "      <th>Total_Stops</th>\n",
       "      <th>Additional_Info</th>\n",
       "      <th>Dur_In_Minutes</th>\n",
       "      <th>session_dep</th>\n",
       "      <th>session_arr</th>\n",
       "      <th>Route</th>\n",
       "      <th>Date_of_JourneyMonth</th>\n",
       "      <th>Date_of_JourneyDay</th>\n",
       "    </tr>\n",
       "  </thead>\n",
       "  <tbody>\n",
       "    <tr>\n",
       "      <th>0</th>\n",
       "      <td>5</td>\n",
       "      <td>3</td>\n",
       "      <td>2</td>\n",
       "      <td>1</td>\n",
       "      <td>9</td>\n",
       "      <td>655.0</td>\n",
       "      <td>3</td>\n",
       "      <td>1</td>\n",
       "      <td>105</td>\n",
       "      <td>6</td>\n",
       "      <td>6</td>\n",
       "    </tr>\n",
       "    <tr>\n",
       "      <th>1</th>\n",
       "      <td>4</td>\n",
       "      <td>4</td>\n",
       "      <td>1</td>\n",
       "      <td>1</td>\n",
       "      <td>9</td>\n",
       "      <td>240.0</td>\n",
       "      <td>1</td>\n",
       "      <td>2</td>\n",
       "      <td>91</td>\n",
       "      <td>12</td>\n",
       "      <td>5</td>\n",
       "    </tr>\n",
       "    <tr>\n",
       "      <th>2</th>\n",
       "      <td>5</td>\n",
       "      <td>3</td>\n",
       "      <td>2</td>\n",
       "      <td>1</td>\n",
       "      <td>6</td>\n",
       "      <td>1425.0</td>\n",
       "      <td>4</td>\n",
       "      <td>4</td>\n",
       "      <td>105</td>\n",
       "      <td>5</td>\n",
       "      <td>21</td>\n",
       "    </tr>\n",
       "    <tr>\n",
       "      <th>3</th>\n",
       "      <td>7</td>\n",
       "      <td>3</td>\n",
       "      <td>2</td>\n",
       "      <td>1</td>\n",
       "      <td>9</td>\n",
       "      <td>780.0</td>\n",
       "      <td>2</td>\n",
       "      <td>4</td>\n",
       "      <td>105</td>\n",
       "      <td>5</td>\n",
       "      <td>21</td>\n",
       "    </tr>\n",
       "    <tr>\n",
       "      <th>4</th>\n",
       "      <td>1</td>\n",
       "      <td>1</td>\n",
       "      <td>3</td>\n",
       "      <td>5</td>\n",
       "      <td>9</td>\n",
       "      <td>170.0</td>\n",
       "      <td>4</td>\n",
       "      <td>1</td>\n",
       "      <td>19</td>\n",
       "      <td>6</td>\n",
       "      <td>24</td>\n",
       "    </tr>\n",
       "  </tbody>\n",
       "</table>\n",
       "</div>"
      ],
      "text/plain": [
       "   Airline  Source  Destination  Total_Stops  Additional_Info  Dur_In_Minutes  \\\n",
       "0        5       3            2            1                9           655.0   \n",
       "1        4       4            1            1                9           240.0   \n",
       "2        5       3            2            1                6          1425.0   \n",
       "3        7       3            2            1                9           780.0   \n",
       "4        1       1            3            5                9           170.0   \n",
       "\n",
       "   session_dep  session_arr  Route  Date_of_JourneyMonth  Date_of_JourneyDay  \n",
       "0            3            1    105                     6                   6  \n",
       "1            1            2     91                    12                   5  \n",
       "2            4            4    105                     5                  21  \n",
       "3            2            4    105                     5                  21  \n",
       "4            4            1     19                     6                  24  "
      ]
     },
     "execution_count": 464,
     "metadata": {},
     "output_type": "execute_result"
    }
   ],
   "source": [
    "test.head()"
   ]
  },
  {
   "cell_type": "code",
   "execution_count": 56,
   "metadata": {},
   "outputs": [],
   "source": [
    "#Remove Total_Stops and replace by Non-Stop! as they both are practically predicting same thing"
   ]
  },
  {
   "cell_type": "code",
   "execution_count": 496,
   "metadata": {},
   "outputs": [
    {
     "data": {
      "text/plain": [
       "((10683, 11), (2671, 11))"
      ]
     },
     "execution_count": 496,
     "metadata": {},
     "output_type": "execute_result"
    }
   ],
   "source": [
    "df.shape,test.shape"
   ]
  },
  {
   "cell_type": "code",
   "execution_count": 590,
   "metadata": {},
   "outputs": [],
   "source": [
    "def rmse(x,y): return math.sqrt(((x-y)**2).mean())\n",
    "\n",
    "def print_score(m):\n",
    "    res = [rmse(m.predict(X_train), y_train), rmse(m.predict(X_valid), y_valid),\n",
    "                m.score(X_train, y_train), m.score(X_valid, y_valid)]\n",
    "    if hasattr(m, 'oob_score_'): res.append(m.oob_score_)\n",
    "    print(res)"
   ]
  },
  {
   "cell_type": "code",
   "execution_count": 577,
   "metadata": {},
   "outputs": [
    {
     "data": {
      "text/plain": [
       "((8683, 11), (8683,), (2000, 11), (2000,))"
      ]
     },
     "execution_count": 577,
     "metadata": {},
     "output_type": "execute_result"
    }
   ],
   "source": [
    "\n",
    "X_train.shape, y_train.shape, X_valid.shape, y_valid.shape"
   ]
  },
  {
   "cell_type": "code",
   "execution_count": null,
   "metadata": {},
   "outputs": [],
   "source": [
    "#Use sci-kit learns train-test split"
   ]
  },
  {
   "cell_type": "code",
   "execution_count": 591,
   "metadata": {},
   "outputs": [],
   "source": [
    "y = pd.DataFrame(y, columns=['Price'])"
   ]
  },
  {
   "cell_type": "code",
   "execution_count": 563,
   "metadata": {},
   "outputs": [
    {
     "data": {
      "text/plain": [
       "((8683, 11), (8683,), (2000, 11), (2000,))"
      ]
     },
     "execution_count": 563,
     "metadata": {},
     "output_type": "execute_result"
    }
   ],
   "source": [
    "#Make a hold out set\n",
    "def split_vals(a,n): return a[:n].copy(), a[n:].copy()\n",
    "\n",
    "n_valid = 2000  # same as Kaggle's test set size\n",
    "n_trn = len(df)-n_valid\n",
    "raw_train, raw_valid = split_vals(df_raw, n_trn)\n",
    "X_train, X_valid = split_vals(df, n_trn)\n",
    "y_train, y_valid = split_vals(y, n_trn)\n",
    "\n",
    "X_train.shape, y_train.shape, X_valid.shape, y_valid.shape"
   ]
  },
  {
   "cell_type": "code",
   "execution_count": 615,
   "metadata": {},
   "outputs": [
    {
     "data": {
      "text/plain": [
       "((10683, 11), (2671, 11), (10683,))"
      ]
     },
     "execution_count": 615,
     "metadata": {},
     "output_type": "execute_result"
    }
   ],
   "source": [
    "df.shape,test.shape,y.shape"
   ]
  },
  {
   "cell_type": "code",
   "execution_count": 631,
   "metadata": {},
   "outputs": [],
   "source": [
    "from sklearn.model_selection import train_test_split\n",
    "X_train, X_valid, y_train, y_valid = train_test_split(df, y, test_size = 0.2, random_state = 42)"
   ]
  },
  {
   "cell_type": "code",
   "execution_count": 632,
   "metadata": {},
   "outputs": [
    {
     "data": {
      "text/plain": [
       "((8546, 11), (8546,), (2137, 11), (2137,))"
      ]
     },
     "execution_count": 632,
     "metadata": {},
     "output_type": "execute_result"
    }
   ],
   "source": [
    "X_train.shape, y_train.shape, X_valid.shape, y_valid.shape"
   ]
  },
  {
   "cell_type": "code",
   "execution_count": 627,
   "metadata": {},
   "outputs": [
    {
     "data": {
      "text/plain": [
       "array([10.06595,  9.42327,  8.62748, ...,  8.94507,  8.72323,  9.2362 ])"
      ]
     },
     "execution_count": 627,
     "metadata": {},
     "output_type": "execute_result"
    }
   ],
   "source": [
    "X_valid"
   ]
  },
  {
   "cell_type": "code",
   "execution_count": 625,
   "metadata": {},
   "outputs": [
    {
     "data": {
      "text/html": [
       "<div>\n",
       "<style scoped>\n",
       "    .dataframe tbody tr th:only-of-type {\n",
       "        vertical-align: middle;\n",
       "    }\n",
       "\n",
       "    .dataframe tbody tr th {\n",
       "        vertical-align: top;\n",
       "    }\n",
       "\n",
       "    .dataframe thead th {\n",
       "        text-align: right;\n",
       "    }\n",
       "</style>\n",
       "<table border=\"1\" class=\"dataframe\">\n",
       "  <thead>\n",
       "    <tr style=\"text-align: right;\">\n",
       "      <th></th>\n",
       "      <th>Airline</th>\n",
       "      <th>Source</th>\n",
       "      <th>Destination</th>\n",
       "      <th>Total_Stops</th>\n",
       "      <th>Additional_Info</th>\n",
       "      <th>Dur_In_Minutes</th>\n",
       "      <th>session_dep</th>\n",
       "      <th>session_arr</th>\n",
       "      <th>Route</th>\n",
       "      <th>Date_of_JourneyMonth</th>\n",
       "      <th>Date_of_JourneyDay</th>\n",
       "    </tr>\n",
       "  </thead>\n",
       "  <tbody>\n",
       "    <tr>\n",
       "      <th>8990</th>\n",
       "      <td>5</td>\n",
       "      <td>5</td>\n",
       "      <td>4</td>\n",
       "      <td>2</td>\n",
       "      <td>9</td>\n",
       "      <td>605.0</td>\n",
       "      <td>1</td>\n",
       "      <td>3</td>\n",
       "      <td>59</td>\n",
       "      <td>12</td>\n",
       "      <td>3</td>\n",
       "    </tr>\n",
       "    <tr>\n",
       "      <th>3684</th>\n",
       "      <td>5</td>\n",
       "      <td>3</td>\n",
       "      <td>2</td>\n",
       "      <td>1</td>\n",
       "      <td>6</td>\n",
       "      <td>1505.0</td>\n",
       "      <td>2</td>\n",
       "      <td>2</td>\n",
       "      <td>105</td>\n",
       "      <td>9</td>\n",
       "      <td>5</td>\n",
       "    </tr>\n",
       "    <tr>\n",
       "      <th>1034</th>\n",
       "      <td>9</td>\n",
       "      <td>3</td>\n",
       "      <td>2</td>\n",
       "      <td>1</td>\n",
       "      <td>9</td>\n",
       "      <td>380.0</td>\n",
       "      <td>3</td>\n",
       "      <td>4</td>\n",
       "      <td>122</td>\n",
       "      <td>4</td>\n",
       "      <td>24</td>\n",
       "    </tr>\n",
       "    <tr>\n",
       "      <th>3909</th>\n",
       "      <td>7</td>\n",
       "      <td>3</td>\n",
       "      <td>2</td>\n",
       "      <td>1</td>\n",
       "      <td>9</td>\n",
       "      <td>765.0</td>\n",
       "      <td>2</td>\n",
       "      <td>1</td>\n",
       "      <td>105</td>\n",
       "      <td>3</td>\n",
       "      <td>21</td>\n",
       "    </tr>\n",
       "    <tr>\n",
       "      <th>3088</th>\n",
       "      <td>2</td>\n",
       "      <td>3</td>\n",
       "      <td>2</td>\n",
       "      <td>2</td>\n",
       "      <td>9</td>\n",
       "      <td>1560.0</td>\n",
       "      <td>3</td>\n",
       "      <td>4</td>\n",
       "      <td>111</td>\n",
       "      <td>6</td>\n",
       "      <td>24</td>\n",
       "    </tr>\n",
       "  </tbody>\n",
       "</table>\n",
       "</div>"
      ],
      "text/plain": [
       "      Airline  Source  Destination  Total_Stops  Additional_Info  \\\n",
       "8990        5       5            4            2                9   \n",
       "3684        5       3            2            1                6   \n",
       "1034        9       3            2            1                9   \n",
       "3909        7       3            2            1                9   \n",
       "3088        2       3            2            2                9   \n",
       "\n",
       "      Dur_In_Minutes  session_dep  session_arr  Route  Date_of_JourneyMonth  \\\n",
       "8990           605.0            1            3     59                    12   \n",
       "3684          1505.0            2            2    105                     9   \n",
       "1034           380.0            3            4    122                     4   \n",
       "3909           765.0            2            1    105                     3   \n",
       "3088          1560.0            3            4    111                     6   \n",
       "\n",
       "      Date_of_JourneyDay  \n",
       "8990                   3  \n",
       "3684                   5  \n",
       "1034                  24  \n",
       "3909                  21  \n",
       "3088                  24  "
      ]
     },
     "execution_count": 625,
     "metadata": {},
     "output_type": "execute_result"
    }
   ],
   "source": [
    "X_train.head()"
   ]
  },
  {
   "cell_type": "code",
   "execution_count": 648,
   "metadata": {},
   "outputs": [
    {
     "name": "stdout",
     "output_type": "stream",
     "text": [
      "CPU times: user 13.4 s, sys: 108 ms, total: 13.5 s\n",
      "Wall time: 4.14 s\n",
      "[0.05627507244485087, 0.1316698845567889, 0.9879801203599313, 0.9345614366601949, 0.9363454183543459]\n"
     ]
    }
   ],
   "source": [
    "#Training a Random-Forest with minimal effort\n",
    "m = RandomForestRegressor(n_estimators=500, max_features=0.8, n_jobs=-1, oob_score=True)\n",
    "%time m.fit(df, y)\n",
    "print_score(m)"
   ]
  },
  {
   "cell_type": "code",
   "execution_count": 639,
   "metadata": {},
   "outputs": [
    {
     "data": {
      "text/html": [
       "<div>\n",
       "<style scoped>\n",
       "    .dataframe tbody tr th:only-of-type {\n",
       "        vertical-align: middle;\n",
       "    }\n",
       "\n",
       "    .dataframe tbody tr th {\n",
       "        vertical-align: top;\n",
       "    }\n",
       "\n",
       "    .dataframe thead th {\n",
       "        text-align: right;\n",
       "    }\n",
       "</style>\n",
       "<table border=\"1\" class=\"dataframe\">\n",
       "  <thead>\n",
       "    <tr style=\"text-align: right;\">\n",
       "      <th></th>\n",
       "      <th>cols</th>\n",
       "      <th>imp</th>\n",
       "    </tr>\n",
       "  </thead>\n",
       "  <tbody>\n",
       "    <tr>\n",
       "      <th>5</th>\n",
       "      <td>Dur_In_Minutes</td>\n",
       "      <td>0.494266</td>\n",
       "    </tr>\n",
       "    <tr>\n",
       "      <th>3</th>\n",
       "      <td>Total_Stops</td>\n",
       "      <td>0.142623</td>\n",
       "    </tr>\n",
       "    <tr>\n",
       "      <th>0</th>\n",
       "      <td>Airline</td>\n",
       "      <td>0.102341</td>\n",
       "    </tr>\n",
       "    <tr>\n",
       "      <th>10</th>\n",
       "      <td>Date_of_JourneyDay</td>\n",
       "      <td>0.088013</td>\n",
       "    </tr>\n",
       "    <tr>\n",
       "      <th>8</th>\n",
       "      <td>Route</td>\n",
       "      <td>0.045397</td>\n",
       "    </tr>\n",
       "    <tr>\n",
       "      <th>4</th>\n",
       "      <td>Additional_Info</td>\n",
       "      <td>0.036588</td>\n",
       "    </tr>\n",
       "    <tr>\n",
       "      <th>9</th>\n",
       "      <td>Date_of_JourneyMonth</td>\n",
       "      <td>0.035444</td>\n",
       "    </tr>\n",
       "    <tr>\n",
       "      <th>7</th>\n",
       "      <td>session_arr</td>\n",
       "      <td>0.015918</td>\n",
       "    </tr>\n",
       "    <tr>\n",
       "      <th>6</th>\n",
       "      <td>session_dep</td>\n",
       "      <td>0.014868</td>\n",
       "    </tr>\n",
       "    <tr>\n",
       "      <th>2</th>\n",
       "      <td>Destination</td>\n",
       "      <td>0.013616</td>\n",
       "    </tr>\n",
       "    <tr>\n",
       "      <th>1</th>\n",
       "      <td>Source</td>\n",
       "      <td>0.010925</td>\n",
       "    </tr>\n",
       "  </tbody>\n",
       "</table>\n",
       "</div>"
      ],
      "text/plain": [
       "                    cols       imp\n",
       "5         Dur_In_Minutes  0.494266\n",
       "3            Total_Stops  0.142623\n",
       "0                Airline  0.102341\n",
       "10    Date_of_JourneyDay  0.088013\n",
       "8                  Route  0.045397\n",
       "4        Additional_Info  0.036588\n",
       "9   Date_of_JourneyMonth  0.035444\n",
       "7            session_arr  0.015918\n",
       "6            session_dep  0.014868\n",
       "2            Destination  0.013616\n",
       "1                 Source  0.010925"
      ]
     },
     "execution_count": 639,
     "metadata": {},
     "output_type": "execute_result"
    }
   ],
   "source": [
    "fi = rf_feat_importance(m, df);\n",
    "fi"
   ]
  },
  {
   "cell_type": "code",
   "execution_count": 640,
   "metadata": {},
   "outputs": [
    {
     "data": {
      "text/plain": [
       "[]"
      ]
     },
     "execution_count": 640,
     "metadata": {},
     "output_type": "execute_result"
    }
   ],
   "source": [
    "bad_cols = fi[fi.imp<0.01].cols\n",
    "bad_cols.tolist()"
   ]
  },
  {
   "cell_type": "code",
   "execution_count": 641,
   "metadata": {},
   "outputs": [
    {
     "data": {
      "text/plain": [
       "array([9.28929, 8.69733, 9.5911 , ..., 8.79626, 8.47258, 9.57648])"
      ]
     },
     "execution_count": 641,
     "metadata": {},
     "output_type": "execute_result"
    }
   ],
   "source": [
    "pred_logs = m.predict(X_valid)\n",
    "pred_logs  "
   ]
  },
  {
   "cell_type": "code",
   "execution_count": 642,
   "metadata": {},
   "outputs": [
    {
     "data": {
      "text/plain": [
       "array([10821.46065,  5986.89571, 14633.90341, ...,  6609.49138,  4781.8595 , 14421.56104])"
      ]
     },
     "execution_count": 642,
     "metadata": {},
     "output_type": "execute_result"
    }
   ],
   "source": [
    "#All you have to do to inverse the log!\n",
    "np.exp(pred_logs)"
   ]
  },
  {
   "cell_type": "code",
   "execution_count": null,
   "metadata": {},
   "outputs": [],
   "source": [
    "#Time to make your first sumbission using RandomForest!"
   ]
  },
  {
   "cell_type": "code",
   "execution_count": 643,
   "metadata": {},
   "outputs": [
    {
     "data": {
      "text/plain": [
       "array([9.59971, 8.35165, 9.46474, ..., 9.67592, 9.51438, 8.94137])"
      ]
     },
     "execution_count": 643,
     "metadata": {},
     "output_type": "execute_result"
    }
   ],
   "source": [
    "pred_logs = m.predict(test)\n",
    "pred_logs  "
   ]
  },
  {
   "cell_type": "code",
   "execution_count": 644,
   "metadata": {},
   "outputs": [
    {
     "data": {
      "text/plain": [
       "array([14760.49102,  4237.1588 , 12896.9166 , ..., 15929.3165 , 13553.23917,  7641.65552])"
      ]
     },
     "execution_count": 644,
     "metadata": {},
     "output_type": "execute_result"
    }
   ],
   "source": [
    "preds = np.exp(pred_logs)\n",
    "preds"
   ]
  },
  {
   "cell_type": "code",
   "execution_count": 645,
   "metadata": {},
   "outputs": [
    {
     "data": {
      "text/html": [
       "<div>\n",
       "<style scoped>\n",
       "    .dataframe tbody tr th:only-of-type {\n",
       "        vertical-align: middle;\n",
       "    }\n",
       "\n",
       "    .dataframe tbody tr th {\n",
       "        vertical-align: top;\n",
       "    }\n",
       "\n",
       "    .dataframe thead th {\n",
       "        text-align: right;\n",
       "    }\n",
       "</style>\n",
       "<table border=\"1\" class=\"dataframe\">\n",
       "  <thead>\n",
       "    <tr style=\"text-align: right;\">\n",
       "      <th></th>\n",
       "      <th>Price</th>\n",
       "    </tr>\n",
       "  </thead>\n",
       "  <tbody>\n",
       "    <tr>\n",
       "      <th>0</th>\n",
       "      <td>14760.491022</td>\n",
       "    </tr>\n",
       "    <tr>\n",
       "      <th>1</th>\n",
       "      <td>4237.158797</td>\n",
       "    </tr>\n",
       "    <tr>\n",
       "      <th>2</th>\n",
       "      <td>12896.916595</td>\n",
       "    </tr>\n",
       "    <tr>\n",
       "      <th>3</th>\n",
       "      <td>12239.346789</td>\n",
       "    </tr>\n",
       "    <tr>\n",
       "      <th>4</th>\n",
       "      <td>3567.923244</td>\n",
       "    </tr>\n",
       "    <tr>\n",
       "      <th>5</th>\n",
       "      <td>10271.312086</td>\n",
       "    </tr>\n",
       "    <tr>\n",
       "      <th>6</th>\n",
       "      <td>12008.918128</td>\n",
       "    </tr>\n",
       "    <tr>\n",
       "      <th>7</th>\n",
       "      <td>5766.929399</td>\n",
       "    </tr>\n",
       "    <tr>\n",
       "      <th>8</th>\n",
       "      <td>4203.483289</td>\n",
       "    </tr>\n",
       "    <tr>\n",
       "      <th>9</th>\n",
       "      <td>14739.682987</td>\n",
       "    </tr>\n",
       "    <tr>\n",
       "      <th>10</th>\n",
       "      <td>8735.732661</td>\n",
       "    </tr>\n",
       "    <tr>\n",
       "      <th>11</th>\n",
       "      <td>6507.477841</td>\n",
       "    </tr>\n",
       "    <tr>\n",
       "      <th>12</th>\n",
       "      <td>9892.194265</td>\n",
       "    </tr>\n",
       "    <tr>\n",
       "      <th>13</th>\n",
       "      <td>12946.394073</td>\n",
       "    </tr>\n",
       "    <tr>\n",
       "      <th>14</th>\n",
       "      <td>10266.914417</td>\n",
       "    </tr>\n",
       "    <tr>\n",
       "      <th>15</th>\n",
       "      <td>16739.428954</td>\n",
       "    </tr>\n",
       "    <tr>\n",
       "      <th>16</th>\n",
       "      <td>8866.048913</td>\n",
       "    </tr>\n",
       "    <tr>\n",
       "      <th>17</th>\n",
       "      <td>11270.948630</td>\n",
       "    </tr>\n",
       "    <tr>\n",
       "      <th>18</th>\n",
       "      <td>10377.317487</td>\n",
       "    </tr>\n",
       "    <tr>\n",
       "      <th>19</th>\n",
       "      <td>12927.648516</td>\n",
       "    </tr>\n",
       "    <tr>\n",
       "      <th>20</th>\n",
       "      <td>14563.597016</td>\n",
       "    </tr>\n",
       "    <tr>\n",
       "      <th>21</th>\n",
       "      <td>9419.826065</td>\n",
       "    </tr>\n",
       "    <tr>\n",
       "      <th>22</th>\n",
       "      <td>11079.095276</td>\n",
       "    </tr>\n",
       "    <tr>\n",
       "      <th>23</th>\n",
       "      <td>12955.134702</td>\n",
       "    </tr>\n",
       "    <tr>\n",
       "      <th>24</th>\n",
       "      <td>4935.162386</td>\n",
       "    </tr>\n",
       "    <tr>\n",
       "      <th>25</th>\n",
       "      <td>6310.958151</td>\n",
       "    </tr>\n",
       "    <tr>\n",
       "      <th>26</th>\n",
       "      <td>5003.908706</td>\n",
       "    </tr>\n",
       "    <tr>\n",
       "      <th>27</th>\n",
       "      <td>16068.388627</td>\n",
       "    </tr>\n",
       "    <tr>\n",
       "      <th>28</th>\n",
       "      <td>10262.000000</td>\n",
       "    </tr>\n",
       "    <tr>\n",
       "      <th>29</th>\n",
       "      <td>13197.197473</td>\n",
       "    </tr>\n",
       "    <tr>\n",
       "      <th>...</th>\n",
       "      <td>...</td>\n",
       "    </tr>\n",
       "    <tr>\n",
       "      <th>2641</th>\n",
       "      <td>12311.833980</td>\n",
       "    </tr>\n",
       "    <tr>\n",
       "      <th>2642</th>\n",
       "      <td>12892.066495</td>\n",
       "    </tr>\n",
       "    <tr>\n",
       "      <th>2643</th>\n",
       "      <td>11060.586841</td>\n",
       "    </tr>\n",
       "    <tr>\n",
       "      <th>2644</th>\n",
       "      <td>10735.213301</td>\n",
       "    </tr>\n",
       "    <tr>\n",
       "      <th>2645</th>\n",
       "      <td>9462.855878</td>\n",
       "    </tr>\n",
       "    <tr>\n",
       "      <th>2646</th>\n",
       "      <td>15637.384097</td>\n",
       "    </tr>\n",
       "    <tr>\n",
       "      <th>2647</th>\n",
       "      <td>13902.287927</td>\n",
       "    </tr>\n",
       "    <tr>\n",
       "      <th>2648</th>\n",
       "      <td>5529.595298</td>\n",
       "    </tr>\n",
       "    <tr>\n",
       "      <th>2649</th>\n",
       "      <td>3538.115180</td>\n",
       "    </tr>\n",
       "    <tr>\n",
       "      <th>2650</th>\n",
       "      <td>11772.675172</td>\n",
       "    </tr>\n",
       "    <tr>\n",
       "      <th>2651</th>\n",
       "      <td>12187.915647</td>\n",
       "    </tr>\n",
       "    <tr>\n",
       "      <th>2652</th>\n",
       "      <td>13804.472543</td>\n",
       "    </tr>\n",
       "    <tr>\n",
       "      <th>2653</th>\n",
       "      <td>10839.417911</td>\n",
       "    </tr>\n",
       "    <tr>\n",
       "      <th>2654</th>\n",
       "      <td>15826.085033</td>\n",
       "    </tr>\n",
       "    <tr>\n",
       "      <th>2655</th>\n",
       "      <td>7014.815872</td>\n",
       "    </tr>\n",
       "    <tr>\n",
       "      <th>2656</th>\n",
       "      <td>8843.502834</td>\n",
       "    </tr>\n",
       "    <tr>\n",
       "      <th>2657</th>\n",
       "      <td>7658.519726</td>\n",
       "    </tr>\n",
       "    <tr>\n",
       "      <th>2658</th>\n",
       "      <td>10262.000000</td>\n",
       "    </tr>\n",
       "    <tr>\n",
       "      <th>2659</th>\n",
       "      <td>13577.200494</td>\n",
       "    </tr>\n",
       "    <tr>\n",
       "      <th>2660</th>\n",
       "      <td>15270.053517</td>\n",
       "    </tr>\n",
       "    <tr>\n",
       "      <th>2661</th>\n",
       "      <td>10888.359023</td>\n",
       "    </tr>\n",
       "    <tr>\n",
       "      <th>2662</th>\n",
       "      <td>3144.905730</td>\n",
       "    </tr>\n",
       "    <tr>\n",
       "      <th>2663</th>\n",
       "      <td>6401.717931</td>\n",
       "    </tr>\n",
       "    <tr>\n",
       "      <th>2664</th>\n",
       "      <td>8432.160068</td>\n",
       "    </tr>\n",
       "    <tr>\n",
       "      <th>2665</th>\n",
       "      <td>1965.594975</td>\n",
       "    </tr>\n",
       "    <tr>\n",
       "      <th>2666</th>\n",
       "      <td>10217.457988</td>\n",
       "    </tr>\n",
       "    <tr>\n",
       "      <th>2667</th>\n",
       "      <td>4739.581680</td>\n",
       "    </tr>\n",
       "    <tr>\n",
       "      <th>2668</th>\n",
       "      <td>15929.316497</td>\n",
       "    </tr>\n",
       "    <tr>\n",
       "      <th>2669</th>\n",
       "      <td>13553.239166</td>\n",
       "    </tr>\n",
       "    <tr>\n",
       "      <th>2670</th>\n",
       "      <td>7641.655524</td>\n",
       "    </tr>\n",
       "  </tbody>\n",
       "</table>\n",
       "<p>2671 rows × 1 columns</p>\n",
       "</div>"
      ],
      "text/plain": [
       "             Price\n",
       "0     14760.491022\n",
       "1      4237.158797\n",
       "2     12896.916595\n",
       "3     12239.346789\n",
       "4      3567.923244\n",
       "5     10271.312086\n",
       "6     12008.918128\n",
       "7      5766.929399\n",
       "8      4203.483289\n",
       "9     14739.682987\n",
       "10     8735.732661\n",
       "11     6507.477841\n",
       "12     9892.194265\n",
       "13    12946.394073\n",
       "14    10266.914417\n",
       "15    16739.428954\n",
       "16     8866.048913\n",
       "17    11270.948630\n",
       "18    10377.317487\n",
       "19    12927.648516\n",
       "20    14563.597016\n",
       "21     9419.826065\n",
       "22    11079.095276\n",
       "23    12955.134702\n",
       "24     4935.162386\n",
       "25     6310.958151\n",
       "26     5003.908706\n",
       "27    16068.388627\n",
       "28    10262.000000\n",
       "29    13197.197473\n",
       "...            ...\n",
       "2641  12311.833980\n",
       "2642  12892.066495\n",
       "2643  11060.586841\n",
       "2644  10735.213301\n",
       "2645   9462.855878\n",
       "2646  15637.384097\n",
       "2647  13902.287927\n",
       "2648   5529.595298\n",
       "2649   3538.115180\n",
       "2650  11772.675172\n",
       "2651  12187.915647\n",
       "2652  13804.472543\n",
       "2653  10839.417911\n",
       "2654  15826.085033\n",
       "2655   7014.815872\n",
       "2656   8843.502834\n",
       "2657   7658.519726\n",
       "2658  10262.000000\n",
       "2659  13577.200494\n",
       "2660  15270.053517\n",
       "2661  10888.359023\n",
       "2662   3144.905730\n",
       "2663   6401.717931\n",
       "2664   8432.160068\n",
       "2665   1965.594975\n",
       "2666  10217.457988\n",
       "2667   4739.581680\n",
       "2668  15929.316497\n",
       "2669  13553.239166\n",
       "2670   7641.655524\n",
       "\n",
       "[2671 rows x 1 columns]"
      ]
     },
     "execution_count": 645,
     "metadata": {},
     "output_type": "execute_result"
    }
   ],
   "source": [
    "pred_df_rf = pd.DataFrame(preds, columns = ['Price'])\n",
    "pred_df_rf"
   ]
  },
  {
   "cell_type": "code",
   "execution_count": 646,
   "metadata": {},
   "outputs": [],
   "source": [
    "pred_df_rf.to_excel(\"abhi_route_raju_help_2.xlsx\", index = False)"
   ]
  }
 ],
 "metadata": {
  "kernelspec": {
   "display_name": "Python 3",
   "language": "python",
   "name": "python3"
  },
  "language_info": {
   "codemirror_mode": {
    "name": "ipython",
    "version": 3
   },
   "file_extension": ".py",
   "mimetype": "text/x-python",
   "name": "python",
   "nbconvert_exporter": "python",
   "pygments_lexer": "ipython3",
   "version": "3.6.6"
  }
 },
 "nbformat": 4,
 "nbformat_minor": 2
}

{
 "cells": [
  {
   "cell_type": "code",
   "execution_count": 1,
   "metadata": {},
   "outputs": [],
   "source": [
    "from fastai.imports import *\n",
    "from fastai.structured import *\n",
    "\n",
    "from pandas_summary import DataFrameSummary\n",
    "from sklearn.ensemble import RandomForestRegressor, RandomForestClassifier\n",
    "from IPython.display import display\n",
    "\n",
    "from sklearn import metrics\n",
    "import lightgbm as lgb\n",
    "from sklearn.model_selection import KFold\n",
    "from sklearn import preprocessing, model_selection, metrics"
   ]
  },
  {
   "cell_type": "code",
   "execution_count": 205,
   "metadata": {},
   "outputs": [],
   "source": [
    "df_raw = pd.read_feather('feather/flight_train_raw_exp')\n",
    "test = pd.read_feather('feather/flight_test_raw_exp')"
   ]
  },
  {
   "cell_type": "code",
   "execution_count": 206,
   "metadata": {},
   "outputs": [],
   "source": [
    "train_cats(df_raw)\n",
    "apply_cats(df=test, trn=df_raw)"
   ]
  },
  {
   "cell_type": "code",
   "execution_count": 207,
   "metadata": {},
   "outputs": [],
   "source": [
    "df_raw.Price = np.log(df_raw.Price)"
   ]
  },
  {
   "cell_type": "code",
   "execution_count": 208,
   "metadata": {},
   "outputs": [],
   "source": [
    "bad_cols = ['Date_of_JourneyWeek',\n",
    " 'Date_of_JourneyMonth',\n",
    " 'Date_of_JourneyYear',\n",
    " 'Date_of_JourneyIs_month_end',\n",
    " 'Date_of_JourneyIs_month_start',\n",
    " 'Date_of_JourneyIs_quarter_end',\n",
    " 'Date_of_JourneyIs_quarter_start',\n",
    " 'Date_of_JourneyIs_year_end',\n",
    " 'Date_of_JourneyIs_year_start',\n",
    " 'Date_of_JourneyElapsed']"
   ]
  },
  {
   "cell_type": "code",
   "execution_count": 209,
   "metadata": {},
   "outputs": [],
   "source": [
    "df_raw.drop(bad_cols,axis=1,inplace=True);\n",
    "\n",
    "\n",
    "test.drop(bad_cols,axis=1,inplace=True);"
   ]
  },
  {
   "cell_type": "code",
   "execution_count": 210,
   "metadata": {},
   "outputs": [
    {
     "data": {
      "text/plain": [
       "((10683, 13), (2671, 12))"
      ]
     },
     "execution_count": 210,
     "metadata": {},
     "output_type": "execute_result"
    }
   ],
   "source": [
    "df_raw.shape,test.shape"
   ]
  },
  {
   "cell_type": "code",
   "execution_count": 213,
   "metadata": {},
   "outputs": [
    {
     "data": {
      "text/html": [
       "<div>\n",
       "<style scoped>\n",
       "    .dataframe tbody tr th:only-of-type {\n",
       "        vertical-align: middle;\n",
       "    }\n",
       "\n",
       "    .dataframe tbody tr th {\n",
       "        vertical-align: top;\n",
       "    }\n",
       "\n",
       "    .dataframe thead th {\n",
       "        text-align: right;\n",
       "    }\n",
       "</style>\n",
       "<table border=\"1\" class=\"dataframe\">\n",
       "  <thead>\n",
       "    <tr style=\"text-align: right;\">\n",
       "      <th></th>\n",
       "      <th>Airline</th>\n",
       "      <th>Source</th>\n",
       "      <th>Destination</th>\n",
       "      <th>Total_Stops</th>\n",
       "      <th>Additional_Info</th>\n",
       "      <th>Dur_In_Minutes</th>\n",
       "      <th>session_dep</th>\n",
       "      <th>session_arr</th>\n",
       "      <th>Date_of_JourneyDay</th>\n",
       "      <th>Date_of_JourneyDayofweek</th>\n",
       "      <th>Date_of_JourneyDayofyear</th>\n",
       "      <th>Price</th>\n",
       "      <th>Non-Stop</th>\n",
       "    </tr>\n",
       "  </thead>\n",
       "  <tbody>\n",
       "    <tr>\n",
       "      <th>0</th>\n",
       "      <td>IndiGo</td>\n",
       "      <td>Banglore</td>\n",
       "      <td>New Delhi</td>\n",
       "      <td>5</td>\n",
       "      <td>No info</td>\n",
       "      <td>170.0</td>\n",
       "      <td>Evening</td>\n",
       "      <td>Night</td>\n",
       "      <td>24</td>\n",
       "      <td>6</td>\n",
       "      <td>83</td>\n",
       "      <td>8.267962</td>\n",
       "      <td>1</td>\n",
       "    </tr>\n",
       "    <tr>\n",
       "      <th>1</th>\n",
       "      <td>Air India</td>\n",
       "      <td>Kolkata</td>\n",
       "      <td>Banglore</td>\n",
       "      <td>3</td>\n",
       "      <td>No info</td>\n",
       "      <td>445.0</td>\n",
       "      <td>Night</td>\n",
       "      <td>Afternoon</td>\n",
       "      <td>5</td>\n",
       "      <td>5</td>\n",
       "      <td>5</td>\n",
       "      <td>8.944028</td>\n",
       "      <td>0</td>\n",
       "    </tr>\n",
       "  </tbody>\n",
       "</table>\n",
       "</div>"
      ],
      "text/plain": [
       "     Airline    Source Destination  Total_Stops Additional_Info  \\\n",
       "0     IndiGo  Banglore   New Delhi            5         No info   \n",
       "1  Air India   Kolkata    Banglore            3         No info   \n",
       "\n",
       "   Dur_In_Minutes session_dep session_arr  Date_of_JourneyDay  \\\n",
       "0           170.0     Evening       Night                  24   \n",
       "1           445.0       Night   Afternoon                   5   \n",
       "\n",
       "   Date_of_JourneyDayofweek  Date_of_JourneyDayofyear     Price  Non-Stop  \n",
       "0                         6                        83  8.267962         1  \n",
       "1                         5                         5  8.944028         0  "
      ]
     },
     "execution_count": 213,
     "metadata": {},
     "output_type": "execute_result"
    }
   ],
   "source": [
    "df_raw.head(2)"
   ]
  },
  {
   "cell_type": "code",
   "execution_count": 214,
   "metadata": {},
   "outputs": [
    {
     "data": {
      "text/html": [
       "<div>\n",
       "<style scoped>\n",
       "    .dataframe tbody tr th:only-of-type {\n",
       "        vertical-align: middle;\n",
       "    }\n",
       "\n",
       "    .dataframe tbody tr th {\n",
       "        vertical-align: top;\n",
       "    }\n",
       "\n",
       "    .dataframe thead th {\n",
       "        text-align: right;\n",
       "    }\n",
       "</style>\n",
       "<table border=\"1\" class=\"dataframe\">\n",
       "  <thead>\n",
       "    <tr style=\"text-align: right;\">\n",
       "      <th></th>\n",
       "      <th>Airline</th>\n",
       "      <th>Source</th>\n",
       "      <th>Destination</th>\n",
       "      <th>Total_Stops</th>\n",
       "      <th>Additional_Info</th>\n",
       "      <th>Dur_In_Minutes</th>\n",
       "      <th>session_dep</th>\n",
       "      <th>session_arr</th>\n",
       "      <th>Date_of_JourneyDay</th>\n",
       "      <th>Date_of_JourneyDayofweek</th>\n",
       "      <th>Date_of_JourneyDayofyear</th>\n",
       "      <th>Non-Stop</th>\n",
       "    </tr>\n",
       "  </thead>\n",
       "  <tbody>\n",
       "    <tr>\n",
       "      <th>0</th>\n",
       "      <td>Jet Airways</td>\n",
       "      <td>Delhi</td>\n",
       "      <td>Cochin</td>\n",
       "      <td>4</td>\n",
       "      <td>No info</td>\n",
       "      <td>655.0</td>\n",
       "      <td>Afternoon</td>\n",
       "      <td>Night</td>\n",
       "      <td>6</td>\n",
       "      <td>3</td>\n",
       "      <td>157</td>\n",
       "      <td>0</td>\n",
       "    </tr>\n",
       "    <tr>\n",
       "      <th>1</th>\n",
       "      <td>IndiGo</td>\n",
       "      <td>Kolkata</td>\n",
       "      <td>Banglore</td>\n",
       "      <td>4</td>\n",
       "      <td>No info</td>\n",
       "      <td>240.0</td>\n",
       "      <td>Night</td>\n",
       "      <td>Morning</td>\n",
       "      <td>5</td>\n",
       "      <td>3</td>\n",
       "      <td>339</td>\n",
       "      <td>0</td>\n",
       "    </tr>\n",
       "  </tbody>\n",
       "</table>\n",
       "</div>"
      ],
      "text/plain": [
       "       Airline   Source Destination  Total_Stops Additional_Info  \\\n",
       "0  Jet Airways    Delhi      Cochin            4         No info   \n",
       "1       IndiGo  Kolkata    Banglore            4         No info   \n",
       "\n",
       "   Dur_In_Minutes session_dep session_arr  Date_of_JourneyDay  \\\n",
       "0           655.0   Afternoon       Night                   6   \n",
       "1           240.0       Night     Morning                   5   \n",
       "\n",
       "   Date_of_JourneyDayofweek  Date_of_JourneyDayofyear  Non-Stop  \n",
       "0                         3                       157         0  \n",
       "1                         3                       339         0  "
      ]
     },
     "execution_count": 214,
     "metadata": {},
     "output_type": "execute_result"
    }
   ],
   "source": [
    "test.head(2)"
   ]
  },
  {
   "cell_type": "code",
   "execution_count": null,
   "metadata": {},
   "outputs": [],
   "source": [
    "#Filtering out the categorical columns"
   ]
  },
  {
   "cell_type": "code",
   "execution_count": 240,
   "metadata": {},
   "outputs": [
    {
     "data": {
      "text/plain": [
       "['Airline',\n",
       " 'Source',\n",
       " 'Destination',\n",
       " 'Additional_Info',\n",
       " 'session_dep',\n",
       " 'session_arr']"
      ]
     },
     "execution_count": 240,
     "metadata": {},
     "output_type": "execute_result"
    }
   ],
   "source": [
    "my_d = dict(df_raw.dtypes)\n",
    "\n",
    "numerics = ['int8', 'int16', 'int32', 'int64', 'float16', 'float32', 'float64']\n",
    "\n",
    "categorical_columns = [c for c,v in my_d.items() if v not in numerics]\n",
    "categorical_columns"
   ]
  },
  {
   "cell_type": "code",
   "execution_count": 59,
   "metadata": {},
   "outputs": [],
   "source": [
    "# Doing Binary Encoding using proc_df"
   ]
  },
  {
   "cell_type": "code",
   "execution_count": 216,
   "metadata": {},
   "outputs": [],
   "source": [
    "train, y , nas = proc_df(df_raw, 'Price')\n",
    "test, _, nas = proc_df(test, na_dict=nas)\n",
    "train, y , nas = proc_df(df_raw, 'Price', na_dict=nas)"
   ]
  },
  {
   "cell_type": "code",
   "execution_count": 217,
   "metadata": {},
   "outputs": [
    {
     "data": {
      "text/html": [
       "<div>\n",
       "<style scoped>\n",
       "    .dataframe tbody tr th:only-of-type {\n",
       "        vertical-align: middle;\n",
       "    }\n",
       "\n",
       "    .dataframe tbody tr th {\n",
       "        vertical-align: top;\n",
       "    }\n",
       "\n",
       "    .dataframe thead th {\n",
       "        text-align: right;\n",
       "    }\n",
       "</style>\n",
       "<table border=\"1\" class=\"dataframe\">\n",
       "  <thead>\n",
       "    <tr style=\"text-align: right;\">\n",
       "      <th></th>\n",
       "      <th>Airline</th>\n",
       "      <th>Source</th>\n",
       "      <th>Destination</th>\n",
       "      <th>Total_Stops</th>\n",
       "      <th>Additional_Info</th>\n",
       "      <th>Dur_In_Minutes</th>\n",
       "      <th>session_dep</th>\n",
       "      <th>session_arr</th>\n",
       "      <th>Date_of_JourneyDay</th>\n",
       "      <th>Date_of_JourneyDayofweek</th>\n",
       "      <th>Date_of_JourneyDayofyear</th>\n",
       "      <th>Non-Stop</th>\n",
       "    </tr>\n",
       "  </thead>\n",
       "  <tbody>\n",
       "    <tr>\n",
       "      <th>0</th>\n",
       "      <td>4</td>\n",
       "      <td>1</td>\n",
       "      <td>6</td>\n",
       "      <td>5</td>\n",
       "      <td>9</td>\n",
       "      <td>170.0</td>\n",
       "      <td>4</td>\n",
       "      <td>1</td>\n",
       "      <td>24</td>\n",
       "      <td>6</td>\n",
       "      <td>83</td>\n",
       "      <td>1</td>\n",
       "    </tr>\n",
       "    <tr>\n",
       "      <th>1</th>\n",
       "      <td>2</td>\n",
       "      <td>4</td>\n",
       "      <td>1</td>\n",
       "      <td>3</td>\n",
       "      <td>9</td>\n",
       "      <td>445.0</td>\n",
       "      <td>1</td>\n",
       "      <td>3</td>\n",
       "      <td>5</td>\n",
       "      <td>5</td>\n",
       "      <td>5</td>\n",
       "      <td>0</td>\n",
       "    </tr>\n",
       "  </tbody>\n",
       "</table>\n",
       "</div>"
      ],
      "text/plain": [
       "   Airline  Source  Destination  Total_Stops  Additional_Info  Dur_In_Minutes  \\\n",
       "0        4       1            6            5                9           170.0   \n",
       "1        2       4            1            3                9           445.0   \n",
       "\n",
       "   session_dep  session_arr  Date_of_JourneyDay  Date_of_JourneyDayofweek  \\\n",
       "0            4            1                  24                         6   \n",
       "1            1            3                   5                         5   \n",
       "\n",
       "   Date_of_JourneyDayofyear  Non-Stop  \n",
       "0                        83         1  \n",
       "1                         5         0  "
      ]
     },
     "execution_count": 217,
     "metadata": {},
     "output_type": "execute_result"
    }
   ],
   "source": [
    "train.head(2)"
   ]
  },
  {
   "cell_type": "code",
   "execution_count": 218,
   "metadata": {},
   "outputs": [
    {
     "data": {
      "text/html": [
       "<div>\n",
       "<style scoped>\n",
       "    .dataframe tbody tr th:only-of-type {\n",
       "        vertical-align: middle;\n",
       "    }\n",
       "\n",
       "    .dataframe tbody tr th {\n",
       "        vertical-align: top;\n",
       "    }\n",
       "\n",
       "    .dataframe thead th {\n",
       "        text-align: right;\n",
       "    }\n",
       "</style>\n",
       "<table border=\"1\" class=\"dataframe\">\n",
       "  <thead>\n",
       "    <tr style=\"text-align: right;\">\n",
       "      <th></th>\n",
       "      <th>Airline</th>\n",
       "      <th>Source</th>\n",
       "      <th>Destination</th>\n",
       "      <th>Total_Stops</th>\n",
       "      <th>Additional_Info</th>\n",
       "      <th>Dur_In_Minutes</th>\n",
       "      <th>session_dep</th>\n",
       "      <th>session_arr</th>\n",
       "      <th>Date_of_JourneyDay</th>\n",
       "      <th>Date_of_JourneyDayofweek</th>\n",
       "      <th>Date_of_JourneyDayofyear</th>\n",
       "      <th>Non-Stop</th>\n",
       "    </tr>\n",
       "  </thead>\n",
       "  <tbody>\n",
       "    <tr>\n",
       "      <th>0</th>\n",
       "      <td>5</td>\n",
       "      <td>3</td>\n",
       "      <td>2</td>\n",
       "      <td>4</td>\n",
       "      <td>9</td>\n",
       "      <td>655.0</td>\n",
       "      <td>3</td>\n",
       "      <td>1</td>\n",
       "      <td>6</td>\n",
       "      <td>3</td>\n",
       "      <td>157</td>\n",
       "      <td>0</td>\n",
       "    </tr>\n",
       "    <tr>\n",
       "      <th>1</th>\n",
       "      <td>4</td>\n",
       "      <td>4</td>\n",
       "      <td>1</td>\n",
       "      <td>4</td>\n",
       "      <td>9</td>\n",
       "      <td>240.0</td>\n",
       "      <td>1</td>\n",
       "      <td>2</td>\n",
       "      <td>5</td>\n",
       "      <td>3</td>\n",
       "      <td>339</td>\n",
       "      <td>0</td>\n",
       "    </tr>\n",
       "  </tbody>\n",
       "</table>\n",
       "</div>"
      ],
      "text/plain": [
       "   Airline  Source  Destination  Total_Stops  Additional_Info  Dur_In_Minutes  \\\n",
       "0        5       3            2            4                9           655.0   \n",
       "1        4       4            1            4                9           240.0   \n",
       "\n",
       "   session_dep  session_arr  Date_of_JourneyDay  Date_of_JourneyDayofweek  \\\n",
       "0            3            1                   6                         3   \n",
       "1            1            2                   5                         3   \n",
       "\n",
       "   Date_of_JourneyDayofyear  Non-Stop  \n",
       "0                       157         0  \n",
       "1                       339         0  "
      ]
     },
     "execution_count": 218,
     "metadata": {},
     "output_type": "execute_result"
    }
   ],
   "source": [
    "test.head(2)"
   ]
  },
  {
   "cell_type": "markdown",
   "metadata": {},
   "source": [
    "# Training the LGBM Model!"
   ]
  },
  {
   "cell_type": "code",
   "execution_count": 219,
   "metadata": {},
   "outputs": [
    {
     "data": {
      "text/plain": [
       "{'boosting_type': 'gbdt',\n",
       " 'class_weight': None,\n",
       " 'colsample_bytree': 1.0,\n",
       " 'importance_type': 'split',\n",
       " 'learning_rate': 0.1,\n",
       " 'max_depth': -1,\n",
       " 'min_child_samples': 20,\n",
       " 'min_child_weight': 0.001,\n",
       " 'min_split_gain': 0.0,\n",
       " 'n_estimators': 100,\n",
       " 'n_jobs': -1,\n",
       " 'num_leaves': 31,\n",
       " 'objective': None,\n",
       " 'random_state': None,\n",
       " 'reg_alpha': 0.0,\n",
       " 'reg_lambda': 0.0,\n",
       " 'silent': True,\n",
       " 'subsample': 1.0,\n",
       " 'subsample_for_bin': 200000,\n",
       " 'subsample_freq': 0}"
      ]
     },
     "execution_count": 219,
     "metadata": {},
     "output_type": "execute_result"
    }
   ],
   "source": [
    "model = lgb.LGBMModel()\n",
    "model.get_params()"
   ]
  },
  {
   "cell_type": "code",
   "execution_count": 259,
   "metadata": {},
   "outputs": [],
   "source": [
    "params = {'num_leaves': 32,\n",
    "         'min_data_in_leaf': 70, \n",
    "         'objective':'regression',\n",
    "         'max_depth': 20,\n",
    "         'learning_rate': 0.01,\n",
    "         \"boosting\": \"gbdt\",\n",
    "         \"metric\": 'rmse',\n",
    "         \"verbosity\": -1} #73"
   ]
  },
  {
   "cell_type": "code",
   "execution_count": 221,
   "metadata": {},
   "outputs": [],
   "source": [
    "target = df_raw['Price']"
   ]
  },
  {
   "cell_type": "code",
   "execution_count": 222,
   "metadata": {},
   "outputs": [
    {
     "data": {
      "text/plain": [
       "((10683, 12), (10683,), (2671, 12))"
      ]
     },
     "execution_count": 222,
     "metadata": {},
     "output_type": "execute_result"
    }
   ],
   "source": [
    "train.shape,target.shape,test.shape"
   ]
  },
  {
   "cell_type": "code",
   "execution_count": 223,
   "metadata": {},
   "outputs": [],
   "source": [
    "from sklearn.metrics import mean_squared_error\n",
    "from math import sqrt"
   ]
  },
  {
   "cell_type": "code",
   "execution_count": null,
   "metadata": {},
   "outputs": [],
   "source": [
    "#Conert the date realted data into categorical varibales!"
   ]
  },
  {
   "cell_type": "code",
   "execution_count": 224,
   "metadata": {},
   "outputs": [
    {
     "data": {
      "text/plain": [
       "Index(['Airline', 'Source', 'Destination', 'Total_Stops', 'Additional_Info',\n",
       "       'Dur_In_Minutes', 'session_dep', 'session_arr', 'Date_of_JourneyDay',\n",
       "       'Date_of_JourneyDayofweek', 'Date_of_JourneyDayofyear', 'Non-Stop'],\n",
       "      dtype='object')"
      ]
     },
     "execution_count": 224,
     "metadata": {},
     "output_type": "execute_result"
    }
   ],
   "source": [
    "train.columns"
   ]
  },
  {
   "cell_type": "code",
   "execution_count": 256,
   "metadata": {},
   "outputs": [],
   "source": [
    "date_columns = ['Date_of_JourneyDay','Date_of_JourneyDayofweek', 'Date_of_JourneyDayofyear']"
   ]
  },
  {
   "cell_type": "code",
   "execution_count": 257,
   "metadata": {},
   "outputs": [],
   "source": [
    "categorical_columns = categorical_columns + date_columns"
   ]
  },
  {
   "cell_type": "code",
   "execution_count": 258,
   "metadata": {},
   "outputs": [
    {
     "data": {
      "text/plain": [
       "['Airline',\n",
       " 'Source',\n",
       " 'Destination',\n",
       " 'Additional_Info',\n",
       " 'session_dep',\n",
       " 'session_arr',\n",
       " 'Date_of_JourneyDay',\n",
       " 'Date_of_JourneyDayofweek',\n",
       " 'Date_of_JourneyDayofyear']"
      ]
     },
     "execution_count": 258,
     "metadata": {},
     "output_type": "execute_result"
    }
   ],
   "source": [
    "categorical_columns"
   ]
  },
  {
   "cell_type": "code",
   "execution_count": 260,
   "metadata": {},
   "outputs": [
    {
     "name": "stdout",
     "output_type": "stream",
     "text": [
      "fold n°0\n",
      "Training until validation scores don't improve for 200 rounds.\n"
     ]
    },
    {
     "name": "stderr",
     "output_type": "stream",
     "text": [
      "/home/arsim/anaconda3/envs/fastai-cpu/lib/python3.6/site-packages/lightgbm/basic.py:1205: UserWarning: Using categorical_feature in Dataset.\n",
      "  warnings.warn('Using categorical_feature in Dataset.')\n",
      "/home/arsim/anaconda3/envs/fastai-cpu/lib/python3.6/site-packages/lightgbm/basic.py:762: UserWarning: categorical_feature in param dict is overridden.\n",
      "  warnings.warn('categorical_feature in param dict is overridden.')\n"
     ]
    },
    {
     "name": "stdout",
     "output_type": "stream",
     "text": [
      "[1000]\ttraining's rmse: 0.135432\tvalid_1's rmse: 0.157142\n",
      "[2000]\ttraining's rmse: 0.119789\tvalid_1's rmse: 0.149616\n",
      "[3000]\ttraining's rmse: 0.110111\tvalid_1's rmse: 0.146009\n",
      "[4000]\ttraining's rmse: 0.102567\tvalid_1's rmse: 0.143363\n",
      "[5000]\ttraining's rmse: 0.0969343\tvalid_1's rmse: 0.141754\n",
      "[6000]\ttraining's rmse: 0.0925794\tvalid_1's rmse: 0.14054\n",
      "[7000]\ttraining's rmse: 0.089141\tvalid_1's rmse: 0.139978\n",
      "[8000]\ttraining's rmse: 0.086039\tvalid_1's rmse: 0.139543\n",
      "[9000]\ttraining's rmse: 0.0834045\tvalid_1's rmse: 0.139126\n",
      "[10000]\ttraining's rmse: 0.0808433\tvalid_1's rmse: 0.138671\n",
      "[11000]\ttraining's rmse: 0.0785207\tvalid_1's rmse: 0.138223\n",
      "[12000]\ttraining's rmse: 0.0765455\tvalid_1's rmse: 0.137932\n",
      "Early stopping, best iteration is:\n",
      "[11874]\ttraining's rmse: 0.0767962\tvalid_1's rmse: 0.137911\n",
      "fold n°1\n",
      "Training until validation scores don't improve for 200 rounds.\n"
     ]
    },
    {
     "name": "stderr",
     "output_type": "stream",
     "text": [
      "/home/arsim/anaconda3/envs/fastai-cpu/lib/python3.6/site-packages/lightgbm/basic.py:1205: UserWarning: Using categorical_feature in Dataset.\n",
      "  warnings.warn('Using categorical_feature in Dataset.')\n",
      "/home/arsim/anaconda3/envs/fastai-cpu/lib/python3.6/site-packages/lightgbm/basic.py:762: UserWarning: categorical_feature in param dict is overridden.\n",
      "  warnings.warn('categorical_feature in param dict is overridden.')\n"
     ]
    },
    {
     "name": "stdout",
     "output_type": "stream",
     "text": [
      "[1000]\ttraining's rmse: 0.137245\tvalid_1's rmse: 0.148692\n",
      "[2000]\ttraining's rmse: 0.119798\tvalid_1's rmse: 0.141917\n",
      "[3000]\ttraining's rmse: 0.109735\tvalid_1's rmse: 0.138942\n",
      "[4000]\ttraining's rmse: 0.102654\tvalid_1's rmse: 0.137201\n",
      "[5000]\ttraining's rmse: 0.0972744\tvalid_1's rmse: 0.136268\n",
      "[6000]\ttraining's rmse: 0.0930924\tvalid_1's rmse: 0.135665\n",
      "[7000]\ttraining's rmse: 0.0894772\tvalid_1's rmse: 0.135155\n",
      "Early stopping, best iteration is:\n",
      "[7050]\ttraining's rmse: 0.0893311\tvalid_1's rmse: 0.135147\n",
      "fold n°2\n",
      "Training until validation scores don't improve for 200 rounds.\n"
     ]
    },
    {
     "name": "stderr",
     "output_type": "stream",
     "text": [
      "/home/arsim/anaconda3/envs/fastai-cpu/lib/python3.6/site-packages/lightgbm/basic.py:1205: UserWarning: Using categorical_feature in Dataset.\n",
      "  warnings.warn('Using categorical_feature in Dataset.')\n",
      "/home/arsim/anaconda3/envs/fastai-cpu/lib/python3.6/site-packages/lightgbm/basic.py:762: UserWarning: categorical_feature in param dict is overridden.\n",
      "  warnings.warn('categorical_feature in param dict is overridden.')\n"
     ]
    },
    {
     "name": "stdout",
     "output_type": "stream",
     "text": [
      "[1000]\ttraining's rmse: 0.137157\tvalid_1's rmse: 0.151083\n",
      "[2000]\ttraining's rmse: 0.121001\tvalid_1's rmse: 0.143604\n",
      "[3000]\ttraining's rmse: 0.11097\tvalid_1's rmse: 0.139827\n",
      "[4000]\ttraining's rmse: 0.103897\tvalid_1's rmse: 0.137818\n",
      "[5000]\ttraining's rmse: 0.098308\tvalid_1's rmse: 0.136593\n",
      "[6000]\ttraining's rmse: 0.0935902\tvalid_1's rmse: 0.135778\n",
      "[7000]\ttraining's rmse: 0.0895466\tvalid_1's rmse: 0.135054\n",
      "[8000]\ttraining's rmse: 0.0861664\tvalid_1's rmse: 0.13466\n",
      "[9000]\ttraining's rmse: 0.0833899\tvalid_1's rmse: 0.134321\n",
      "Early stopping, best iteration is:\n",
      "[9674]\ttraining's rmse: 0.0816066\tvalid_1's rmse: 0.134144\n",
      "fold n°3\n",
      "Training until validation scores don't improve for 200 rounds.\n"
     ]
    },
    {
     "name": "stderr",
     "output_type": "stream",
     "text": [
      "/home/arsim/anaconda3/envs/fastai-cpu/lib/python3.6/site-packages/lightgbm/basic.py:1205: UserWarning: Using categorical_feature in Dataset.\n",
      "  warnings.warn('Using categorical_feature in Dataset.')\n",
      "/home/arsim/anaconda3/envs/fastai-cpu/lib/python3.6/site-packages/lightgbm/basic.py:762: UserWarning: categorical_feature in param dict is overridden.\n",
      "  warnings.warn('categorical_feature in param dict is overridden.')\n"
     ]
    },
    {
     "name": "stdout",
     "output_type": "stream",
     "text": [
      "[1000]\ttraining's rmse: 0.133732\tvalid_1's rmse: 0.162724\n",
      "[2000]\ttraining's rmse: 0.117353\tvalid_1's rmse: 0.156065\n",
      "[3000]\ttraining's rmse: 0.107313\tvalid_1's rmse: 0.152912\n",
      "[4000]\ttraining's rmse: 0.0999586\tvalid_1's rmse: 0.151053\n",
      "[5000]\ttraining's rmse: 0.0945652\tvalid_1's rmse: 0.149906\n",
      "[6000]\ttraining's rmse: 0.0902166\tvalid_1's rmse: 0.149462\n",
      "Early stopping, best iteration is:\n",
      "[6123]\ttraining's rmse: 0.0897952\tvalid_1's rmse: 0.149418\n",
      "fold n°4\n",
      "Training until validation scores don't improve for 200 rounds.\n"
     ]
    },
    {
     "name": "stderr",
     "output_type": "stream",
     "text": [
      "/home/arsim/anaconda3/envs/fastai-cpu/lib/python3.6/site-packages/lightgbm/basic.py:1205: UserWarning: Using categorical_feature in Dataset.\n",
      "  warnings.warn('Using categorical_feature in Dataset.')\n",
      "/home/arsim/anaconda3/envs/fastai-cpu/lib/python3.6/site-packages/lightgbm/basic.py:762: UserWarning: categorical_feature in param dict is overridden.\n",
      "  warnings.warn('categorical_feature in param dict is overridden.')\n"
     ]
    },
    {
     "name": "stdout",
     "output_type": "stream",
     "text": [
      "[1000]\ttraining's rmse: 0.134686\tvalid_1's rmse: 0.158971\n",
      "[2000]\ttraining's rmse: 0.11772\tvalid_1's rmse: 0.153776\n",
      "[3000]\ttraining's rmse: 0.108235\tvalid_1's rmse: 0.151629\n",
      "[4000]\ttraining's rmse: 0.10186\tvalid_1's rmse: 0.150501\n",
      "[5000]\ttraining's rmse: 0.0965998\tvalid_1's rmse: 0.149725\n",
      "Early stopping, best iteration is:\n",
      "[5579]\ttraining's rmse: 0.0941316\tvalid_1's rmse: 0.149472\n",
      "Mean RMSE:\n",
      "[0.14121854195081285]\n"
     ]
    }
   ],
   "source": [
    "#Now fine tune the model from here onwards!\n",
    "folds = KFold(n_splits=5, shuffle=True, random_state=42)\n",
    "categorical_columns = categorical_columns #to hold cat. columns\n",
    "features = [c for c in train.columns] #features\n",
    "predictions = np.zeros(len(test)) #to hold predictions\n",
    "feature_importance_df = pd.DataFrame() #to hold feature importance\n",
    "score = [0 for _ in range(folds.n_splits)] #5 scores for 5 diff rmse!\n",
    "rmse_l = []\n",
    "rmse_mean = []\n",
    "for fold_, (trn_idx, val_idx) in enumerate(folds.split(train.values, target.values)):\n",
    "    print(\"fold n°{}\".format(fold_))\n",
    "    X_train = train.iloc[trn_idx][features]\n",
    "    X_valid = train.iloc[val_idx][features]\n",
    "    y_train = target.iloc[trn_idx]\n",
    "    y_valid = target.iloc[val_idx]\n",
    "    \n",
    "    #remove this for final\n",
    "    \n",
    "    \n",
    "    \n",
    "    trn_data = lgb.Dataset(X_train,\n",
    "                           label=y_train,\n",
    "                           categorical_feature = categorical_columns,\n",
    "\n",
    "                          )\n",
    "    val_data = lgb.Dataset(X_valid,\n",
    "                           label=y_valid,\n",
    "                           reference=trn_data,\n",
    "                           categorical_feature = categorical_columns,\n",
    "\n",
    "                          )\n",
    "\n",
    "    num_round = 30000\n",
    "    model = lgb.train(params,\n",
    "                    trn_data,\n",
    "                    num_round,\n",
    "                    valid_sets = [trn_data, val_data],\n",
    "                    verbose_eval=1000,\n",
    "                    early_stopping_rounds = 200,\n",
    "                   )\n",
    "    predctions_test = model.predict(test, num_iteration=model.best_iteration)\n",
    "    predictions += predctions_test/5\n",
    "    \n",
    "    pred_test_y = model.predict(X_valid, num_iteration=model.best_iteration)\n",
    "    rmse = sqrt(mean_squared_error(y_valid, pred_test_y))\n",
    "    rmse_l.append(rmse)\n",
    "    \n",
    "rmse_array = np.asarray(rmse_l)\n",
    "    \n",
    "rmse_mean.append(rmse_array.mean())\n",
    "print('Mean RMSE:')\n",
    "print(rmse_mean)"
   ]
  },
  {
   "cell_type": "code",
   "execution_count": 261,
   "metadata": {},
   "outputs": [
    {
     "data": {
      "image/png": "[encoded data removed]",
      "text/plain": [
       "<Figure size 864x1296 with 1 Axes>"
      ]
     },
     "metadata": {
      "needs_background": "light"
     },
     "output_type": "display_data"
    }
   ],
   "source": [
    "\n",
    "fig, ax = plt.subplots(figsize=(12,18))\n",
    "lgb.plot_importance(model, height=0.8, ax=ax)\n",
    "ax.grid(False)\n",
    "plt.title(\"LightGBM - Feature Importance\", fontsize=15)\n",
    "plt.tight_layout()\n",
    "plt.savefig('lgbm_1st4mil_importances.png')\n",
    "plt.show()"
   ]
  },
  {
   "cell_type": "code",
   "execution_count": 262,
   "metadata": {},
   "outputs": [
    {
     "data": {
      "text/plain": [
       "array([9.57387, 8.40801, 9.47688, ..., 9.76137, 9.38711, 9.07594])"
      ]
     },
     "execution_count": 262,
     "metadata": {},
     "output_type": "execute_result"
    }
   ],
   "source": [
    "predictions"
   ]
  },
  {
   "cell_type": "code",
   "execution_count": 263,
   "metadata": {},
   "outputs": [
    {
     "data": {
      "text/plain": [
       "array([14383.97406,  4482.82094, 13054.36125, ..., 17350.44602, 11933.51964,  8742.41467])"
      ]
     },
     "execution_count": 263,
     "metadata": {},
     "output_type": "execute_result"
    }
   ],
   "source": [
    "preds = np.exp(predictions)\n",
    "preds"
   ]
  },
  {
   "cell_type": "code",
   "execution_count": 264,
   "metadata": {},
   "outputs": [
    {
     "data": {
      "text/html": [
       "<div>\n",
       "<style scoped>\n",
       "    .dataframe tbody tr th:only-of-type {\n",
       "        vertical-align: middle;\n",
       "    }\n",
       "\n",
       "    .dataframe tbody tr th {\n",
       "        vertical-align: top;\n",
       "    }\n",
       "\n",
       "    .dataframe thead th {\n",
       "        text-align: right;\n",
       "    }\n",
       "</style>\n",
       "<table border=\"1\" class=\"dataframe\">\n",
       "  <thead>\n",
       "    <tr style=\"text-align: right;\">\n",
       "      <th></th>\n",
       "      <th>Price</th>\n",
       "    </tr>\n",
       "  </thead>\n",
       "  <tbody>\n",
       "    <tr>\n",
       "      <th>0</th>\n",
       "      <td>14383.974065</td>\n",
       "    </tr>\n",
       "    <tr>\n",
       "      <th>1</th>\n",
       "      <td>4482.820941</td>\n",
       "    </tr>\n",
       "    <tr>\n",
       "      <th>2</th>\n",
       "      <td>13054.361250</td>\n",
       "    </tr>\n",
       "    <tr>\n",
       "      <th>3</th>\n",
       "      <td>10062.560092</td>\n",
       "    </tr>\n",
       "    <tr>\n",
       "      <th>4</th>\n",
       "      <td>3910.042677</td>\n",
       "    </tr>\n",
       "    <tr>\n",
       "      <th>5</th>\n",
       "      <td>10336.513878</td>\n",
       "    </tr>\n",
       "    <tr>\n",
       "      <th>6</th>\n",
       "      <td>10150.164666</td>\n",
       "    </tr>\n",
       "    <tr>\n",
       "      <th>7</th>\n",
       "      <td>5531.225150</td>\n",
       "    </tr>\n",
       "    <tr>\n",
       "      <th>8</th>\n",
       "      <td>4221.431919</td>\n",
       "    </tr>\n",
       "    <tr>\n",
       "      <th>9</th>\n",
       "      <td>14660.871733</td>\n",
       "    </tr>\n",
       "    <tr>\n",
       "      <th>10</th>\n",
       "      <td>8834.972909</td>\n",
       "    </tr>\n",
       "    <tr>\n",
       "      <th>11</th>\n",
       "      <td>6176.490166</td>\n",
       "    </tr>\n",
       "    <tr>\n",
       "      <th>12</th>\n",
       "      <td>10573.747350</td>\n",
       "    </tr>\n",
       "    <tr>\n",
       "      <th>13</th>\n",
       "      <td>11906.584301</td>\n",
       "    </tr>\n",
       "    <tr>\n",
       "      <th>14</th>\n",
       "      <td>10456.814828</td>\n",
       "    </tr>\n",
       "    <tr>\n",
       "      <th>15</th>\n",
       "      <td>16432.467424</td>\n",
       "    </tr>\n",
       "    <tr>\n",
       "      <th>16</th>\n",
       "      <td>9939.838221</td>\n",
       "    </tr>\n",
       "    <tr>\n",
       "      <th>17</th>\n",
       "      <td>13106.477150</td>\n",
       "    </tr>\n",
       "    <tr>\n",
       "      <th>18</th>\n",
       "      <td>10028.502966</td>\n",
       "    </tr>\n",
       "    <tr>\n",
       "      <th>19</th>\n",
       "      <td>12218.308218</td>\n",
       "    </tr>\n",
       "    <tr>\n",
       "      <th>20</th>\n",
       "      <td>11118.020085</td>\n",
       "    </tr>\n",
       "    <tr>\n",
       "      <th>21</th>\n",
       "      <td>9158.613187</td>\n",
       "    </tr>\n",
       "    <tr>\n",
       "      <th>22</th>\n",
       "      <td>10982.809138</td>\n",
       "    </tr>\n",
       "    <tr>\n",
       "      <th>23</th>\n",
       "      <td>12973.862705</td>\n",
       "    </tr>\n",
       "    <tr>\n",
       "      <th>24</th>\n",
       "      <td>4679.374629</td>\n",
       "    </tr>\n",
       "    <tr>\n",
       "      <th>25</th>\n",
       "      <td>6883.740247</td>\n",
       "    </tr>\n",
       "    <tr>\n",
       "      <th>26</th>\n",
       "      <td>5032.631224</td>\n",
       "    </tr>\n",
       "    <tr>\n",
       "      <th>27</th>\n",
       "      <td>15952.602901</td>\n",
       "    </tr>\n",
       "    <tr>\n",
       "      <th>28</th>\n",
       "      <td>10294.159921</td>\n",
       "    </tr>\n",
       "    <tr>\n",
       "      <th>29</th>\n",
       "      <td>14189.844160</td>\n",
       "    </tr>\n",
       "    <tr>\n",
       "      <th>...</th>\n",
       "      <td>...</td>\n",
       "    </tr>\n",
       "    <tr>\n",
       "      <th>2641</th>\n",
       "      <td>14958.038353</td>\n",
       "    </tr>\n",
       "    <tr>\n",
       "      <th>2642</th>\n",
       "      <td>12833.626818</td>\n",
       "    </tr>\n",
       "    <tr>\n",
       "      <th>2643</th>\n",
       "      <td>10643.361812</td>\n",
       "    </tr>\n",
       "    <tr>\n",
       "      <th>2644</th>\n",
       "      <td>11172.193245</td>\n",
       "    </tr>\n",
       "    <tr>\n",
       "      <th>2645</th>\n",
       "      <td>9673.541008</td>\n",
       "    </tr>\n",
       "    <tr>\n",
       "      <th>2646</th>\n",
       "      <td>15979.709564</td>\n",
       "    </tr>\n",
       "    <tr>\n",
       "      <th>2647</th>\n",
       "      <td>11975.479059</td>\n",
       "    </tr>\n",
       "    <tr>\n",
       "      <th>2648</th>\n",
       "      <td>4590.083294</td>\n",
       "    </tr>\n",
       "    <tr>\n",
       "      <th>2649</th>\n",
       "      <td>3475.148926</td>\n",
       "    </tr>\n",
       "    <tr>\n",
       "      <th>2650</th>\n",
       "      <td>11622.084228</td>\n",
       "    </tr>\n",
       "    <tr>\n",
       "      <th>2651</th>\n",
       "      <td>11609.603068</td>\n",
       "    </tr>\n",
       "    <tr>\n",
       "      <th>2652</th>\n",
       "      <td>14275.464706</td>\n",
       "    </tr>\n",
       "    <tr>\n",
       "      <th>2653</th>\n",
       "      <td>10714.969786</td>\n",
       "    </tr>\n",
       "    <tr>\n",
       "      <th>2654</th>\n",
       "      <td>14750.922125</td>\n",
       "    </tr>\n",
       "    <tr>\n",
       "      <th>2655</th>\n",
       "      <td>7540.054479</td>\n",
       "    </tr>\n",
       "    <tr>\n",
       "      <th>2656</th>\n",
       "      <td>9365.849172</td>\n",
       "    </tr>\n",
       "    <tr>\n",
       "      <th>2657</th>\n",
       "      <td>8267.680313</td>\n",
       "    </tr>\n",
       "    <tr>\n",
       "      <th>2658</th>\n",
       "      <td>10161.208771</td>\n",
       "    </tr>\n",
       "    <tr>\n",
       "      <th>2659</th>\n",
       "      <td>12992.302503</td>\n",
       "    </tr>\n",
       "    <tr>\n",
       "      <th>2660</th>\n",
       "      <td>6447.322700</td>\n",
       "    </tr>\n",
       "    <tr>\n",
       "      <th>2661</th>\n",
       "      <td>11576.550085</td>\n",
       "    </tr>\n",
       "    <tr>\n",
       "      <th>2662</th>\n",
       "      <td>3077.944398</td>\n",
       "    </tr>\n",
       "    <tr>\n",
       "      <th>2663</th>\n",
       "      <td>6842.760660</td>\n",
       "    </tr>\n",
       "    <tr>\n",
       "      <th>2664</th>\n",
       "      <td>9937.225037</td>\n",
       "    </tr>\n",
       "    <tr>\n",
       "      <th>2665</th>\n",
       "      <td>2064.904543</td>\n",
       "    </tr>\n",
       "    <tr>\n",
       "      <th>2666</th>\n",
       "      <td>8021.696472</td>\n",
       "    </tr>\n",
       "    <tr>\n",
       "      <th>2667</th>\n",
       "      <td>4429.388780</td>\n",
       "    </tr>\n",
       "    <tr>\n",
       "      <th>2668</th>\n",
       "      <td>17350.446024</td>\n",
       "    </tr>\n",
       "    <tr>\n",
       "      <th>2669</th>\n",
       "      <td>11933.519636</td>\n",
       "    </tr>\n",
       "    <tr>\n",
       "      <th>2670</th>\n",
       "      <td>8742.414668</td>\n",
       "    </tr>\n",
       "  </tbody>\n",
       "</table>\n",
       "<p>2671 rows × 1 columns</p>\n",
       "</div>"
      ],
      "text/plain": [
       "             Price\n",
       "0     14383.974065\n",
       "1      4482.820941\n",
       "2     13054.361250\n",
       "3     10062.560092\n",
       "4      3910.042677\n",
       "5     10336.513878\n",
       "6     10150.164666\n",
       "7      5531.225150\n",
       "8      4221.431919\n",
       "9     14660.871733\n",
       "10     8834.972909\n",
       "11     6176.490166\n",
       "12    10573.747350\n",
       "13    11906.584301\n",
       "14    10456.814828\n",
       "15    16432.467424\n",
       "16     9939.838221\n",
       "17    13106.477150\n",
       "18    10028.502966\n",
       "19    12218.308218\n",
       "20    11118.020085\n",
       "21     9158.613187\n",
       "22    10982.809138\n",
       "23    12973.862705\n",
       "24     4679.374629\n",
       "25     6883.740247\n",
       "26     5032.631224\n",
       "27    15952.602901\n",
       "28    10294.159921\n",
       "29    14189.844160\n",
       "...            ...\n",
       "2641  14958.038353\n",
       "2642  12833.626818\n",
       "2643  10643.361812\n",
       "2644  11172.193245\n",
       "2645   9673.541008\n",
       "2646  15979.709564\n",
       "2647  11975.479059\n",
       "2648   4590.083294\n",
       "2649   3475.148926\n",
       "2650  11622.084228\n",
       "2651  11609.603068\n",
       "2652  14275.464706\n",
       "2653  10714.969786\n",
       "2654  14750.922125\n",
       "2655   7540.054479\n",
       "2656   9365.849172\n",
       "2657   8267.680313\n",
       "2658  10161.208771\n",
       "2659  12992.302503\n",
       "2660   6447.322700\n",
       "2661  11576.550085\n",
       "2662   3077.944398\n",
       "2663   6842.760660\n",
       "2664   9937.225037\n",
       "2665   2064.904543\n",
       "2666   8021.696472\n",
       "2667   4429.388780\n",
       "2668  17350.446024\n",
       "2669  11933.519636\n",
       "2670   8742.414668\n",
       "\n",
       "[2671 rows x 1 columns]"
      ]
     },
     "execution_count": 264,
     "metadata": {},
     "output_type": "execute_result"
    }
   ],
   "source": [
    "pred_df_rf = pd.DataFrame(preds, columns = ['Price'])\n",
    "pred_df_rf"
   ]
  },
  {
   "cell_type": "code",
   "execution_count": 265,
   "metadata": {},
   "outputs": [],
   "source": [
    "pred_df_rf.to_excel(\"flight_lgbm_3_date_as_cat.xlsx\", index = False)"
   ]
  }
 ],
 "metadata": {
  "kernelspec": {
   "display_name": "Python 3",
   "language": "python",
   "name": "python3"
  },
  "language_info": {
   "codemirror_mode": {
    "name": "ipython",
    "version": 3
   },
   "file_extension": ".py",
   "mimetype": "text/x-python",
   "name": "python",
   "nbconvert_exporter": "python",
   "pygments_lexer": "ipython3",
   "version": "3.6.6"
  }
 },
 "nbformat": 4,
 "nbformat_minor": 2
}
